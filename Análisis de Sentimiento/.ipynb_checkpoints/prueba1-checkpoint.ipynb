{
 "cells": [
  {
   "cell_type": "code",
   "execution_count": 1,
   "id": "458ce554",
   "metadata": {},
   "outputs": [],
   "source": [
    "import pandas as pd\n",
    "import re\n",
    "import json\n",
    "import nltk\n",
    "\n",
    "import tweepy"
   ]
  },
  {
   "cell_type": "markdown",
   "id": "38ea3765",
   "metadata": {},
   "source": [
    "**Steps**\n",
    "1. Load and preprocess of tweets"
   ]
  },
  {
   "cell_type": "markdown",
   "id": "22eb8eb6",
   "metadata": {},
   "source": [
    "# 1 Data"
   ]
  },
  {
   "cell_type": "code",
   "execution_count": 2,
   "id": "2750738c",
   "metadata": {},
   "outputs": [],
   "source": [
    "# Load credentials\n",
    "with open('credentials_twitter.json', 'r') as fp:\n",
    "    credentials = json.load(fp)\n",
    "consumer_key = credentials[\"api_consumer_key\"]\n",
    "consumer_secret = credentials[\"api_consumer_secret_key\"]\n",
    "access_key = credentials[\"api_access_token\" ]\n",
    "access_secret = credentials[\"api_access_secret_token\"]\n",
    "\n",
    "# Create authenticate object\n",
    "auth = tweepy.OAuthHandler(consumer_key, consumer_secret)\n",
    "\n",
    "# Set authorization\n",
    "auth.set_access_token(access_key, access_secret)\n",
    "\n",
    "# Create the API object\n",
    "api = tweepy.API(auth, wait_on_rate_limit=True)"
   ]
  },
  {
   "cell_type": "code",
   "execution_count": 5,
   "id": "bc1036b2",
   "metadata": {},
   "outputs": [
    {
     "name": "stdout",
     "output_type": "stream",
     "text": [
      "22\n"
     ]
    }
   ],
   "source": [
    "contador = 0\n",
    "prueba = []\n",
    "for tweet in tweepy.Cursor(api.user_timeline, screen_name = \"elonmusk\", tweet_mode = \"extended\").items(100):\n",
    "    contador += 1\n",
    "print(contador)"
   ]
  },
  {
   "cell_type": "code",
   "execution_count": null,
   "id": "e0391115",
   "metadata": {},
   "outputs": [],
   "source": []
  },
  {
   "cell_type": "code",
   "execution_count": null,
   "id": "4471267b",
   "metadata": {},
   "outputs": [],
   "source": []
  }
 ],
 "metadata": {
  "kernelspec": {
   "display_name": "Python 3",
   "language": "python",
   "name": "python3"
  },
  "language_info": {
   "codemirror_mode": {
    "name": "ipython",
    "version": 3
   },
   "file_extension": ".py",
   "mimetype": "text/x-python",
   "name": "python",
   "nbconvert_exporter": "python",
   "pygments_lexer": "ipython3",
   "version": "3.8.8"
  },
  "toc": {
   "base_numbering": 1,
   "nav_menu": {},
   "number_sections": false,
   "sideBar": true,
   "skip_h1_title": false,
   "title_cell": "Table of Contents",
   "title_sidebar": "Contents",
   "toc_cell": false,
   "toc_position": {},
   "toc_section_display": true,
   "toc_window_display": false
  }
 },
 "nbformat": 4,
 "nbformat_minor": 5
}
