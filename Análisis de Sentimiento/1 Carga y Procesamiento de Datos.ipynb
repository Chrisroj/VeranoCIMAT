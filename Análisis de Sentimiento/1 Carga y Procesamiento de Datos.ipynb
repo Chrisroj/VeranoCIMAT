{
 "cells": [
  {
   "cell_type": "code",
   "execution_count": null,
   "id": "46c80f70",
   "metadata": {},
   "outputs": [],
   "source": [
    "# Data Manipulation\n",
    "import numpy as np\n",
    "import pandas as pd\n",
    "import functools as ft\n",
    "import json as js\n",
    "import re\n",
    "\n",
    "# API's\n",
    "from binance.client import Client\n",
    "from binance.enums import *\n",
    "import tweepy\n",
    "\n",
    "# Interact with Operating System\n",
    "import os\n",
    "\n",
    "# Graphs\n",
    "import matplotlib.pyplot as plt\n",
    "from wordcloud import WordCloud\n",
    "pd.options.plotting.backend = \"plotly\" # To use plotly \n",
    "\n",
    "# Preprocess and models\n",
    "import nltk\n",
    "from nltk.corpus import stopwords\n",
    "from vaderSentiment.vaderSentiment import SentimentIntensityAnalyzer\n",
    "\n",
    "# Others\n",
    "from criptos import clean_tokenize, klines_to_df\n",
    "\n",
    "\n",
    "# Warnings Configurations\n",
    "import warnings\n",
    "warnings.filterwarnings('ignore')"
   ]
  },
  {
   "cell_type": "markdown",
   "id": "38ea3765",
   "metadata": {},
   "source": [
    "**Steps**\n",
    "1. Bitcoin History\n",
    "2. Get tweets\n",
    "3. Preprocessing Tweets\n",
    "4. Exploratory Analysis of tweets\n",
    "5. Sentiment Analysis\n",
    "\n",
    "**Questions**\n",
    "1. Could be a good idea try to get all BTC tweets? not only from elon musk\n",
    "2. In dash try to implemente tath for one user get all the analysis"
   ]
  },
  {
   "cell_type": "markdown",
   "id": "e34e66a9",
   "metadata": {},
   "source": [
    "# 1 Bitcoin History"
   ]
  },
  {
   "cell_type": "markdown",
   "id": "a3199927",
   "metadata": {},
   "source": [
    "**Steps**\n",
    "1. Connect to Binance API\n",
    "2. Download the Prices of BTC/USDT\n",
    "3. Prices to .csv"
   ]
  },
  {
   "cell_type": "markdown",
   "id": "b28847dd",
   "metadata": {},
   "source": [
    "## 1.2 Binance API"
   ]
  },
  {
   "cell_type": "code",
   "execution_count": 2,
   "id": "90c22db7",
   "metadata": {},
   "outputs": [],
   "source": [
    "# Path\n",
    "path = r\"C:\\Users\\ferro\\Desktop\\VeranoCIMAT\\Análisis de Sentimiento\""
   ]
  },
  {
   "cell_type": "code",
   "execution_count": 3,
   "id": "61edd478",
   "metadata": {
    "ExecuteTime": {
     "end_time": "2021-03-17T20:07:08.189160Z",
     "start_time": "2021-03-17T20:07:08.185558Z"
    }
   },
   "outputs": [],
   "source": [
    "# Loading credencials for the binance API\n",
    "binance_cred = \"credentials_binance.json\"\n",
    "cred = js.load(open(os.path.join(path, \"credentials\", binance_cred), \"rb\"))\n",
    "API_KEY = cred[\"API_KEY\"]\n",
    "API_SECRET = cred[\"API_SECRET\"]"
   ]
  },
  {
   "cell_type": "code",
   "execution_count": 4,
   "id": "29a480a1",
   "metadata": {
    "ExecuteTime": {
     "end_time": "2021-03-17T20:07:10.950054Z",
     "start_time": "2021-03-17T20:07:08.717634Z"
    }
   },
   "outputs": [],
   "source": [
    "# Conecting API (Se puede entrar sin las API_Key)\n",
    "client = Client(API_KEY, API_SECRET, tld = \"com\")"
   ]
  },
  {
   "cell_type": "code",
   "execution_count": 5,
   "id": "ff0cf2ae",
   "metadata": {},
   "outputs": [],
   "source": [
    "# Conecting API without credentials\n",
    "#client = Client()"
   ]
  },
  {
   "cell_type": "markdown",
   "id": "37003e67",
   "metadata": {},
   "source": [
    "## 1.2 Download Data"
   ]
  },
  {
   "cell_type": "markdown",
   "id": "0ac4a774",
   "metadata": {},
   "source": [
    "Get daily prices of Bitcoin since  **1 Jan, 2018** until **1 Jun, 2021** the close hour is **23:59 UTC**. The par is **BTC/USDT**"
   ]
  },
  {
   "cell_type": "code",
   "execution_count": 6,
   "id": "c09bfcda",
   "metadata": {
    "ExecuteTime": {
     "end_time": "2021-04-06T23:53:40.940923Z",
     "start_time": "2021-04-06T23:53:32.103164Z"
    }
   },
   "outputs": [
    {
     "data": {
      "text/html": [
       "<div>\n",
       "<style scoped>\n",
       "    .dataframe tbody tr th:only-of-type {\n",
       "        vertical-align: middle;\n",
       "    }\n",
       "\n",
       "    .dataframe tbody tr th {\n",
       "        vertical-align: top;\n",
       "    }\n",
       "\n",
       "    .dataframe thead th {\n",
       "        text-align: right;\n",
       "    }\n",
       "</style>\n",
       "<table border=\"1\" class=\"dataframe\">\n",
       "  <thead>\n",
       "    <tr style=\"text-align: right;\">\n",
       "      <th></th>\n",
       "      <th>Open_time</th>\n",
       "      <th>Open</th>\n",
       "      <th>High</th>\n",
       "      <th>Low</th>\n",
       "      <th>Close</th>\n",
       "      <th>Volume</th>\n",
       "      <th>Close_time</th>\n",
       "      <th>Quote_asset_volume</th>\n",
       "      <th>Number_of_trades</th>\n",
       "      <th>Taker_buy_base_asset_volume</th>\n",
       "      <th>Taker_buy_quote_asset_volume</th>\n",
       "      <th>Can_be_ignored</th>\n",
       "    </tr>\n",
       "  </thead>\n",
       "  <tbody>\n",
       "    <tr>\n",
       "      <th>0</th>\n",
       "      <td>2017-12-31 18:00:00</td>\n",
       "      <td>13715.650391</td>\n",
       "      <td>13818.549805</td>\n",
       "      <td>12750.000000</td>\n",
       "      <td>13380.000000</td>\n",
       "      <td>8609.91584400</td>\n",
       "      <td>2018-01-01 17:59:59.999</td>\n",
       "      <td>114799747.44197057</td>\n",
       "      <td>105595</td>\n",
       "      <td>3961.93894600</td>\n",
       "      <td>52809747.44038045</td>\n",
       "      <td>0</td>\n",
       "    </tr>\n",
       "    <tr>\n",
       "      <th>1</th>\n",
       "      <td>2018-01-01 18:00:00</td>\n",
       "      <td>13382.160156</td>\n",
       "      <td>15473.490234</td>\n",
       "      <td>12890.019531</td>\n",
       "      <td>14675.110352</td>\n",
       "      <td>20078.09211100</td>\n",
       "      <td>2018-01-02 17:59:59.999</td>\n",
       "      <td>279717107.43371920</td>\n",
       "      <td>177728</td>\n",
       "      <td>11346.32673900</td>\n",
       "      <td>158080088.68331682</td>\n",
       "      <td>0</td>\n",
       "    </tr>\n",
       "    <tr>\n",
       "      <th>2</th>\n",
       "      <td>2018-01-02 18:00:00</td>\n",
       "      <td>14690.000000</td>\n",
       "      <td>15307.559570</td>\n",
       "      <td>14150.000000</td>\n",
       "      <td>14919.509766</td>\n",
       "      <td>15905.66763900</td>\n",
       "      <td>2018-01-03 17:59:59.999</td>\n",
       "      <td>236116868.33619011</td>\n",
       "      <td>162787</td>\n",
       "      <td>8994.95356600</td>\n",
       "      <td>133587333.24534808</td>\n",
       "      <td>0</td>\n",
       "    </tr>\n",
       "    <tr>\n",
       "      <th>3</th>\n",
       "      <td>2018-01-03 18:00:00</td>\n",
       "      <td>14919.509766</td>\n",
       "      <td>15280.000000</td>\n",
       "      <td>13918.040039</td>\n",
       "      <td>15059.540039</td>\n",
       "      <td>21329.64957400</td>\n",
       "      <td>2018-01-04 17:59:59.999</td>\n",
       "      <td>312781583.79830782</td>\n",
       "      <td>170310</td>\n",
       "      <td>12680.81295100</td>\n",
       "      <td>186116793.01158931</td>\n",
       "      <td>0</td>\n",
       "    </tr>\n",
       "    <tr>\n",
       "      <th>4</th>\n",
       "      <td>2018-01-04 18:00:00</td>\n",
       "      <td>15059.559570</td>\n",
       "      <td>17176.240234</td>\n",
       "      <td>14600.000000</td>\n",
       "      <td>16960.390625</td>\n",
       "      <td>23251.49112500</td>\n",
       "      <td>2018-01-05 17:59:59.999</td>\n",
       "      <td>369321956.48683753</td>\n",
       "      <td>192969</td>\n",
       "      <td>13346.62229300</td>\n",
       "      <td>211829900.67898224</td>\n",
       "      <td>0</td>\n",
       "    </tr>\n",
       "  </tbody>\n",
       "</table>\n",
       "</div>"
      ],
      "text/plain": [
       "            Open_time          Open          High           Low         Close  \\\n",
       "0 2017-12-31 18:00:00  13715.650391  13818.549805  12750.000000  13380.000000   \n",
       "1 2018-01-01 18:00:00  13382.160156  15473.490234  12890.019531  14675.110352   \n",
       "2 2018-01-02 18:00:00  14690.000000  15307.559570  14150.000000  14919.509766   \n",
       "3 2018-01-03 18:00:00  14919.509766  15280.000000  13918.040039  15059.540039   \n",
       "4 2018-01-04 18:00:00  15059.559570  17176.240234  14600.000000  16960.390625   \n",
       "\n",
       "           Volume              Close_time  Quote_asset_volume  \\\n",
       "0   8609.91584400 2018-01-01 17:59:59.999  114799747.44197057   \n",
       "1  20078.09211100 2018-01-02 17:59:59.999  279717107.43371920   \n",
       "2  15905.66763900 2018-01-03 17:59:59.999  236116868.33619011   \n",
       "3  21329.64957400 2018-01-04 17:59:59.999  312781583.79830782   \n",
       "4  23251.49112500 2018-01-05 17:59:59.999  369321956.48683753   \n",
       "\n",
       "   Number_of_trades Taker_buy_base_asset_volume Taker_buy_quote_asset_volume  \\\n",
       "0            105595               3961.93894600            52809747.44038045   \n",
       "1            177728              11346.32673900           158080088.68331682   \n",
       "2            162787               8994.95356600           133587333.24534808   \n",
       "3            170310              12680.81295100           186116793.01158931   \n",
       "4            192969              13346.62229300           211829900.67898224   \n",
       "\n",
       "  Can_be_ignored  \n",
       "0              0  \n",
       "1              0  \n",
       "2              0  \n",
       "3              0  \n",
       "4              0  "
      ]
     },
     "execution_count": 6,
     "metadata": {},
     "output_type": "execute_result"
    }
   ],
   "source": [
    "# Getting candles\n",
    "interval_cand = '1d'\n",
    "par_1 = \"BTC\"\n",
    "par_2 = \"USDT\"\n",
    "par = \"\".join([par_1, par_2])\n",
    "start = \"1 Jan, 2018\"\n",
    "end = \"1 Jun, 2021\"\n",
    "candles = client.get_historical_klines(symbol = par, interval = interval_cand,\n",
    "                                      start_str = start, end_str = end) # Get Prices\n",
    "candles = klines_to_df(candles)\n",
    " \n",
    "candles.head()"
   ]
  },
  {
   "cell_type": "code",
   "execution_count": 7,
   "id": "f8e7acdf",
   "metadata": {
    "ExecuteTime": {
     "end_time": "2021-04-06T23:53:41.169661Z",
     "start_time": "2021-04-06T23:53:40.964398Z"
    },
    "scrolled": true
   },
   "outputs": [
    {
     "data": {
      "text/plain": [
       "Text(0, 0.5, 'USDT')"
      ]
     },
     "execution_count": 7,
     "metadata": {},
     "output_type": "execute_result"
    },
    {
     "data": {
      "image/png": "[encoded data removed]",
      "text/plain": [
       "<Figure size 432x288 with 1 Axes>"
      ]
     },
     "metadata": {
      "needs_background": "light"
     },
     "output_type": "display_data"
    }
   ],
   "source": [
    "plt.plot(candles[\"Close_time\"], candles[\"Close\"])\n",
    "plt.xticks(rotation=45)\n",
    "plt.title(par)\n",
    "plt.ylabel(par_2)"
   ]
  },
  {
   "cell_type": "code",
   "execution_count": 8,
   "id": "0110ea54",
   "metadata": {},
   "outputs": [
    {
     "name": "stdout",
     "output_type": "stream",
     "text": [
      "<class 'pandas.core.frame.DataFrame'>\n",
      "RangeIndex: 1248 entries, 0 to 1247\n",
      "Data columns (total 12 columns):\n",
      " #   Column                        Non-Null Count  Dtype         \n",
      "---  ------                        --------------  -----         \n",
      " 0   Open_time                     1248 non-null   datetime64[ns]\n",
      " 1   Open                          1248 non-null   float32       \n",
      " 2   High                          1248 non-null   float32       \n",
      " 3   Low                           1248 non-null   float32       \n",
      " 4   Close                         1248 non-null   float32       \n",
      " 5   Volume                        1248 non-null   object        \n",
      " 6   Close_time                    1248 non-null   datetime64[ns]\n",
      " 7   Quote_asset_volume            1248 non-null   object        \n",
      " 8   Number_of_trades              1248 non-null   int32         \n",
      " 9   Taker_buy_base_asset_volume   1248 non-null   object        \n",
      " 10  Taker_buy_quote_asset_volume  1248 non-null   object        \n",
      " 11  Can_be_ignored                1248 non-null   object        \n",
      "dtypes: datetime64[ns](2), float32(4), int32(1), object(5)\n",
      "memory usage: 92.8+ KB\n"
     ]
    }
   ],
   "source": [
    "candles.info()"
   ]
  },
  {
   "cell_type": "code",
   "execution_count": 9,
   "id": "5f76fcbc",
   "metadata": {
    "scrolled": true
   },
   "outputs": [
    {
     "data": {
      "text/plain": [
       "Open_time                       0\n",
       "Open                            0\n",
       "High                            0\n",
       "Low                             0\n",
       "Close                           0\n",
       "Volume                          0\n",
       "Close_time                      0\n",
       "Quote_asset_volume              0\n",
       "Number_of_trades                0\n",
       "Taker_buy_base_asset_volume     0\n",
       "Taker_buy_quote_asset_volume    0\n",
       "Can_be_ignored                  0\n",
       "dtype: int64"
      ]
     },
     "execution_count": 9,
     "metadata": {},
     "output_type": "execute_result"
    }
   ],
   "source": [
    "# No missing values\n",
    "candles.isna().sum()"
   ]
  },
  {
   "cell_type": "code",
   "execution_count": 10,
   "id": "47c0b561",
   "metadata": {},
   "outputs": [],
   "source": [
    "# This is for Dash\n",
    "#cryptos = [\"BTC\", \"ETH\", \"LTC\", \"ADA\", \"SHIB\", \"XRP\", \"MANA\"]\n",
    "#for crypto in cryptos:\n",
    "#    interval_cand = '1d'\n",
    "#    par_1 = crypto\n",
    "#    par_2 = \"USDT\"\n",
    "#    par = \"\".join([par_1, par_2])\n",
    "#    start = \"1 Jan, 2018\"\n",
    "#    end = \"1 Jun, 2021\"\n",
    "#    candles_aux = client.get_historical_klines(symbol = par, interval = interval_cand,\n",
    "#                                          start_str = start, end_str = end) # Get Prices\n",
    "#    candles_aux = klines_to_df(candles_aux)\n",
    "#    candles_aux.to_csv(os.path.join(path, \"data_dash\", \"1_\" + crypto + \".csv\"))"
   ]
  },
  {
   "cell_type": "markdown",
   "id": "91d1c13a",
   "metadata": {},
   "source": [
    "## 1.3 Save Data"
   ]
  },
  {
   "cell_type": "code",
   "execution_count": 11,
   "id": "800c6ce3",
   "metadata": {},
   "outputs": [
    {
     "data": {
      "text/html": [
       "<div>\n",
       "<style scoped>\n",
       "    .dataframe tbody tr th:only-of-type {\n",
       "        vertical-align: middle;\n",
       "    }\n",
       "\n",
       "    .dataframe tbody tr th {\n",
       "        vertical-align: top;\n",
       "    }\n",
       "\n",
       "    .dataframe thead th {\n",
       "        text-align: right;\n",
       "    }\n",
       "</style>\n",
       "<table border=\"1\" class=\"dataframe\">\n",
       "  <thead>\n",
       "    <tr style=\"text-align: right;\">\n",
       "      <th></th>\n",
       "      <th>Open_time</th>\n",
       "      <th>Open</th>\n",
       "      <th>High</th>\n",
       "      <th>Low</th>\n",
       "      <th>Close</th>\n",
       "      <th>Volume</th>\n",
       "      <th>Close_time</th>\n",
       "      <th>Quote_asset_volume</th>\n",
       "      <th>Number_of_trades</th>\n",
       "      <th>Taker_buy_base_asset_volume</th>\n",
       "      <th>Taker_buy_quote_asset_volume</th>\n",
       "      <th>Can_be_ignored</th>\n",
       "    </tr>\n",
       "  </thead>\n",
       "  <tbody>\n",
       "    <tr>\n",
       "      <th>0</th>\n",
       "      <td>2017-12-31 18:00:00</td>\n",
       "      <td>13715.650391</td>\n",
       "      <td>13818.549805</td>\n",
       "      <td>12750.000000</td>\n",
       "      <td>13380.000000</td>\n",
       "      <td>8609.91584400</td>\n",
       "      <td>2018-01-01 17:59:59.999</td>\n",
       "      <td>114799747.44197057</td>\n",
       "      <td>105595</td>\n",
       "      <td>3961.93894600</td>\n",
       "      <td>52809747.44038045</td>\n",
       "      <td>0</td>\n",
       "    </tr>\n",
       "    <tr>\n",
       "      <th>1</th>\n",
       "      <td>2018-01-01 18:00:00</td>\n",
       "      <td>13382.160156</td>\n",
       "      <td>15473.490234</td>\n",
       "      <td>12890.019531</td>\n",
       "      <td>14675.110352</td>\n",
       "      <td>20078.09211100</td>\n",
       "      <td>2018-01-02 17:59:59.999</td>\n",
       "      <td>279717107.43371920</td>\n",
       "      <td>177728</td>\n",
       "      <td>11346.32673900</td>\n",
       "      <td>158080088.68331682</td>\n",
       "      <td>0</td>\n",
       "    </tr>\n",
       "    <tr>\n",
       "      <th>2</th>\n",
       "      <td>2018-01-02 18:00:00</td>\n",
       "      <td>14690.000000</td>\n",
       "      <td>15307.559570</td>\n",
       "      <td>14150.000000</td>\n",
       "      <td>14919.509766</td>\n",
       "      <td>15905.66763900</td>\n",
       "      <td>2018-01-03 17:59:59.999</td>\n",
       "      <td>236116868.33619011</td>\n",
       "      <td>162787</td>\n",
       "      <td>8994.95356600</td>\n",
       "      <td>133587333.24534808</td>\n",
       "      <td>0</td>\n",
       "    </tr>\n",
       "    <tr>\n",
       "      <th>3</th>\n",
       "      <td>2018-01-03 18:00:00</td>\n",
       "      <td>14919.509766</td>\n",
       "      <td>15280.000000</td>\n",
       "      <td>13918.040039</td>\n",
       "      <td>15059.540039</td>\n",
       "      <td>21329.64957400</td>\n",
       "      <td>2018-01-04 17:59:59.999</td>\n",
       "      <td>312781583.79830782</td>\n",
       "      <td>170310</td>\n",
       "      <td>12680.81295100</td>\n",
       "      <td>186116793.01158931</td>\n",
       "      <td>0</td>\n",
       "    </tr>\n",
       "    <tr>\n",
       "      <th>4</th>\n",
       "      <td>2018-01-04 18:00:00</td>\n",
       "      <td>15059.559570</td>\n",
       "      <td>17176.240234</td>\n",
       "      <td>14600.000000</td>\n",
       "      <td>16960.390625</td>\n",
       "      <td>23251.49112500</td>\n",
       "      <td>2018-01-05 17:59:59.999</td>\n",
       "      <td>369321956.48683753</td>\n",
       "      <td>192969</td>\n",
       "      <td>13346.62229300</td>\n",
       "      <td>211829900.67898224</td>\n",
       "      <td>0</td>\n",
       "    </tr>\n",
       "  </tbody>\n",
       "</table>\n",
       "</div>"
      ],
      "text/plain": [
       "            Open_time          Open          High           Low         Close  \\\n",
       "0 2017-12-31 18:00:00  13715.650391  13818.549805  12750.000000  13380.000000   \n",
       "1 2018-01-01 18:00:00  13382.160156  15473.490234  12890.019531  14675.110352   \n",
       "2 2018-01-02 18:00:00  14690.000000  15307.559570  14150.000000  14919.509766   \n",
       "3 2018-01-03 18:00:00  14919.509766  15280.000000  13918.040039  15059.540039   \n",
       "4 2018-01-04 18:00:00  15059.559570  17176.240234  14600.000000  16960.390625   \n",
       "\n",
       "           Volume              Close_time  Quote_asset_volume  \\\n",
       "0   8609.91584400 2018-01-01 17:59:59.999  114799747.44197057   \n",
       "1  20078.09211100 2018-01-02 17:59:59.999  279717107.43371920   \n",
       "2  15905.66763900 2018-01-03 17:59:59.999  236116868.33619011   \n",
       "3  21329.64957400 2018-01-04 17:59:59.999  312781583.79830782   \n",
       "4  23251.49112500 2018-01-05 17:59:59.999  369321956.48683753   \n",
       "\n",
       "   Number_of_trades Taker_buy_base_asset_volume Taker_buy_quote_asset_volume  \\\n",
       "0            105595               3961.93894600            52809747.44038045   \n",
       "1            177728              11346.32673900           158080088.68331682   \n",
       "2            162787               8994.95356600           133587333.24534808   \n",
       "3            170310              12680.81295100           186116793.01158931   \n",
       "4            192969              13346.62229300           211829900.67898224   \n",
       "\n",
       "  Can_be_ignored  \n",
       "0              0  \n",
       "1              0  \n",
       "2              0  \n",
       "3              0  \n",
       "4              0  "
      ]
     },
     "execution_count": 11,
     "metadata": {},
     "output_type": "execute_result"
    }
   ],
   "source": [
    "candles.head()"
   ]
  },
  {
   "cell_type": "code",
   "execution_count": 12,
   "id": "0aab27b6",
   "metadata": {},
   "outputs": [
    {
     "data": {
      "text/plain": [
       "DatetimeIndex(['2021-06-01'], dtype='datetime64[ns]', freq=None)"
      ]
     },
     "execution_count": 12,
     "metadata": {},
     "output_type": "execute_result"
    }
   ],
   "source": [
    "# No missing prices between dates\n",
    "pd.date_range(start = '2018-01-01', end = '2021-06-01' ).difference(pd.to_datetime(candles[\"Open_time\"].apply(lambda x: x.strftime(\"%Y-%m-%d\"))))"
   ]
  },
  {
   "cell_type": "code",
   "execution_count": 13,
   "id": "59c833a6",
   "metadata": {},
   "outputs": [
    {
     "data": {
      "text/html": [
       "<div>\n",
       "<style scoped>\n",
       "    .dataframe tbody tr th:only-of-type {\n",
       "        vertical-align: middle;\n",
       "    }\n",
       "\n",
       "    .dataframe tbody tr th {\n",
       "        vertical-align: top;\n",
       "    }\n",
       "\n",
       "    .dataframe thead th {\n",
       "        text-align: right;\n",
       "    }\n",
       "</style>\n",
       "<table border=\"1\" class=\"dataframe\">\n",
       "  <thead>\n",
       "    <tr style=\"text-align: right;\">\n",
       "      <th></th>\n",
       "      <th>date</th>\n",
       "      <th>close</th>\n",
       "      <th>volume</th>\n",
       "    </tr>\n",
       "  </thead>\n",
       "  <tbody>\n",
       "    <tr>\n",
       "      <th>0</th>\n",
       "      <td>2017-12-31 18:00:00</td>\n",
       "      <td>13380.000000</td>\n",
       "      <td>8609.91584400</td>\n",
       "    </tr>\n",
       "    <tr>\n",
       "      <th>1</th>\n",
       "      <td>2018-01-01 18:00:00</td>\n",
       "      <td>14675.110352</td>\n",
       "      <td>20078.09211100</td>\n",
       "    </tr>\n",
       "    <tr>\n",
       "      <th>2</th>\n",
       "      <td>2018-01-02 18:00:00</td>\n",
       "      <td>14919.509766</td>\n",
       "      <td>15905.66763900</td>\n",
       "    </tr>\n",
       "    <tr>\n",
       "      <th>3</th>\n",
       "      <td>2018-01-03 18:00:00</td>\n",
       "      <td>15059.540039</td>\n",
       "      <td>21329.64957400</td>\n",
       "    </tr>\n",
       "    <tr>\n",
       "      <th>4</th>\n",
       "      <td>2018-01-04 18:00:00</td>\n",
       "      <td>16960.390625</td>\n",
       "      <td>23251.49112500</td>\n",
       "    </tr>\n",
       "    <tr>\n",
       "      <th>...</th>\n",
       "      <td>...</td>\n",
       "      <td>...</td>\n",
       "      <td>...</td>\n",
       "    </tr>\n",
       "    <tr>\n",
       "      <th>1243</th>\n",
       "      <td>2021-05-27 19:00:00</td>\n",
       "      <td>35663.488281</td>\n",
       "      <td>135377.62972000</td>\n",
       "    </tr>\n",
       "    <tr>\n",
       "      <th>1244</th>\n",
       "      <td>2021-05-28 19:00:00</td>\n",
       "      <td>34605.148438</td>\n",
       "      <td>112663.09268900</td>\n",
       "    </tr>\n",
       "    <tr>\n",
       "      <th>1245</th>\n",
       "      <td>2021-05-29 19:00:00</td>\n",
       "      <td>35641.269531</td>\n",
       "      <td>73535.38696700</td>\n",
       "    </tr>\n",
       "    <tr>\n",
       "      <th>1246</th>\n",
       "      <td>2021-05-30 19:00:00</td>\n",
       "      <td>37253.808594</td>\n",
       "      <td>94160.73528900</td>\n",
       "    </tr>\n",
       "    <tr>\n",
       "      <th>1247</th>\n",
       "      <td>2021-05-31 19:00:00</td>\n",
       "      <td>36693.089844</td>\n",
       "      <td>81234.66377000</td>\n",
       "    </tr>\n",
       "  </tbody>\n",
       "</table>\n",
       "<p>1248 rows × 3 columns</p>\n",
       "</div>"
      ],
      "text/plain": [
       "                    date         close           volume\n",
       "0    2017-12-31 18:00:00  13380.000000    8609.91584400\n",
       "1    2018-01-01 18:00:00  14675.110352   20078.09211100\n",
       "2    2018-01-02 18:00:00  14919.509766   15905.66763900\n",
       "3    2018-01-03 18:00:00  15059.540039   21329.64957400\n",
       "4    2018-01-04 18:00:00  16960.390625   23251.49112500\n",
       "...                  ...           ...              ...\n",
       "1243 2021-05-27 19:00:00  35663.488281  135377.62972000\n",
       "1244 2021-05-28 19:00:00  34605.148438  112663.09268900\n",
       "1245 2021-05-29 19:00:00  35641.269531   73535.38696700\n",
       "1246 2021-05-30 19:00:00  37253.808594   94160.73528900\n",
       "1247 2021-05-31 19:00:00  36693.089844   81234.66377000\n",
       "\n",
       "[1248 rows x 3 columns]"
      ]
     },
     "execution_count": 13,
     "metadata": {},
     "output_type": "execute_result"
    }
   ],
   "source": [
    "# Change and Select Columns\n",
    "candles = candles[[\"Open_time\", \"Close\", \"Volume\"]]\n",
    "candles.columns = [\"date\", \"close\", \"volume\"]\n",
    "candles"
   ]
  },
  {
   "cell_type": "code",
   "execution_count": 14,
   "id": "e35e8619",
   "metadata": {},
   "outputs": [],
   "source": [
    "# Prices to .csv\n",
    "candles.to_csv(os.path.join(path, \"data\", \"prices.csv\"))"
   ]
  },
  {
   "cell_type": "code",
   "execution_count": 15,
   "id": "32b00661",
   "metadata": {},
   "outputs": [
    {
     "data": {
      "text/html": [
       "<div>\n",
       "<style scoped>\n",
       "    .dataframe tbody tr th:only-of-type {\n",
       "        vertical-align: middle;\n",
       "    }\n",
       "\n",
       "    .dataframe tbody tr th {\n",
       "        vertical-align: top;\n",
       "    }\n",
       "\n",
       "    .dataframe thead th {\n",
       "        text-align: right;\n",
       "    }\n",
       "</style>\n",
       "<table border=\"1\" class=\"dataframe\">\n",
       "  <thead>\n",
       "    <tr style=\"text-align: right;\">\n",
       "      <th></th>\n",
       "      <th>date</th>\n",
       "      <th>close</th>\n",
       "      <th>volume</th>\n",
       "    </tr>\n",
       "  </thead>\n",
       "  <tbody>\n",
       "    <tr>\n",
       "      <th>0</th>\n",
       "      <td>2017-12-31 18:00:00</td>\n",
       "      <td>13380.000000</td>\n",
       "      <td>8609.91584400</td>\n",
       "    </tr>\n",
       "    <tr>\n",
       "      <th>1</th>\n",
       "      <td>2018-01-01 18:00:00</td>\n",
       "      <td>14675.110352</td>\n",
       "      <td>20078.09211100</td>\n",
       "    </tr>\n",
       "    <tr>\n",
       "      <th>2</th>\n",
       "      <td>2018-01-02 18:00:00</td>\n",
       "      <td>14919.509766</td>\n",
       "      <td>15905.66763900</td>\n",
       "    </tr>\n",
       "    <tr>\n",
       "      <th>3</th>\n",
       "      <td>2018-01-03 18:00:00</td>\n",
       "      <td>15059.540039</td>\n",
       "      <td>21329.64957400</td>\n",
       "    </tr>\n",
       "    <tr>\n",
       "      <th>4</th>\n",
       "      <td>2018-01-04 18:00:00</td>\n",
       "      <td>16960.390625</td>\n",
       "      <td>23251.49112500</td>\n",
       "    </tr>\n",
       "    <tr>\n",
       "      <th>...</th>\n",
       "      <td>...</td>\n",
       "      <td>...</td>\n",
       "      <td>...</td>\n",
       "    </tr>\n",
       "    <tr>\n",
       "      <th>1243</th>\n",
       "      <td>2021-05-27 19:00:00</td>\n",
       "      <td>35663.488281</td>\n",
       "      <td>135377.62972000</td>\n",
       "    </tr>\n",
       "    <tr>\n",
       "      <th>1244</th>\n",
       "      <td>2021-05-28 19:00:00</td>\n",
       "      <td>34605.148438</td>\n",
       "      <td>112663.09268900</td>\n",
       "    </tr>\n",
       "    <tr>\n",
       "      <th>1245</th>\n",
       "      <td>2021-05-29 19:00:00</td>\n",
       "      <td>35641.269531</td>\n",
       "      <td>73535.38696700</td>\n",
       "    </tr>\n",
       "    <tr>\n",
       "      <th>1246</th>\n",
       "      <td>2021-05-30 19:00:00</td>\n",
       "      <td>37253.808594</td>\n",
       "      <td>94160.73528900</td>\n",
       "    </tr>\n",
       "    <tr>\n",
       "      <th>1247</th>\n",
       "      <td>2021-05-31 19:00:00</td>\n",
       "      <td>36693.089844</td>\n",
       "      <td>81234.66377000</td>\n",
       "    </tr>\n",
       "  </tbody>\n",
       "</table>\n",
       "<p>1248 rows × 3 columns</p>\n",
       "</div>"
      ],
      "text/plain": [
       "                    date         close           volume\n",
       "0    2017-12-31 18:00:00  13380.000000    8609.91584400\n",
       "1    2018-01-01 18:00:00  14675.110352   20078.09211100\n",
       "2    2018-01-02 18:00:00  14919.509766   15905.66763900\n",
       "3    2018-01-03 18:00:00  15059.540039   21329.64957400\n",
       "4    2018-01-04 18:00:00  16960.390625   23251.49112500\n",
       "...                  ...           ...              ...\n",
       "1243 2021-05-27 19:00:00  35663.488281  135377.62972000\n",
       "1244 2021-05-28 19:00:00  34605.148438  112663.09268900\n",
       "1245 2021-05-29 19:00:00  35641.269531   73535.38696700\n",
       "1246 2021-05-30 19:00:00  37253.808594   94160.73528900\n",
       "1247 2021-05-31 19:00:00  36693.089844   81234.66377000\n",
       "\n",
       "[1248 rows x 3 columns]"
      ]
     },
     "execution_count": 15,
     "metadata": {},
     "output_type": "execute_result"
    }
   ],
   "source": [
    "candles"
   ]
  },
  {
   "cell_type": "markdown",
   "id": "98b1cc73",
   "metadata": {},
   "source": [
    "# 2 Get Tweets"
   ]
  },
  {
   "cell_type": "markdown",
   "id": "d08955e5",
   "metadata": {},
   "source": [
    "**Steps**\n",
    "1. Get tweets of last week (about BTC) \n",
    "2. Top 20 popular users of step **1**\n",
    "3. Get tweets (about BTC) of the top \n",
    "\n",
    "For **3** we get tweets since **1 Jan, 2018** until **1 Jun, 2021**. The next sections are in the apendix."
   ]
  },
  {
   "cell_type": "markdown",
   "id": "e05e9304",
   "metadata": {},
   "source": [
    "## 2.1 Get tweets of last week"
   ]
  },
  {
   "cell_type": "markdown",
   "id": "107f7e5d",
   "metadata": {},
   "source": [
    "## 2.2 Top popular users (related to BTC)"
   ]
  },
  {
   "cell_type": "markdown",
   "id": "8e48321b",
   "metadata": {},
   "source": [
    "## 2.3 Get tweets for each top user (Run Once)"
   ]
  },
  {
   "cell_type": "code",
   "execution_count": null,
   "id": "a6bf5e28",
   "metadata": {},
   "outputs": [],
   "source": [
    "# Path\n",
    "path = r\"C:\\Users\\ferro\\Desktop\\VeranoCIMAT\\Análisis de Sentimiento\""
   ]
  },
  {
   "cell_type": "code",
   "execution_count": null,
   "id": "f156c094",
   "metadata": {},
   "outputs": [],
   "source": [
    "# Load user and followers\n",
    "df = pd.read_csv(os.path.join(path, \"data\", \"user_followers.csv\"))\n",
    "df = df.drop(columns = [\"Unnamed: 0\"])\n",
    "df.columns = [\"username\", \"followers\"]"
   ]
  },
  {
   "cell_type": "code",
   "execution_count": null,
   "id": "565dcbfe",
   "metadata": {},
   "outputs": [],
   "source": [
    "# Top 20 popular users\n",
    "top = 20\n",
    "top_users = df.sort_values(by = [\"followers\"], ascending = False).head(top).reset_index(drop = True)\n",
    "top_users"
   ]
  },
  {
   "cell_type": "code",
   "execution_count": null,
   "id": "29cdac0f",
   "metadata": {},
   "outputs": [],
   "source": [
    "# This is to avoid the loop in twint, i can omit it in spyder\n",
    "import nest_asyncio\n",
    "nest_asyncio.apply()"
   ]
  },
  {
   "cell_type": "code",
   "execution_count": null,
   "id": "37177c1b",
   "metadata": {},
   "outputs": [],
   "source": [
    "# Delete all files in a directory\n",
    "def delete_files(path):\n",
    "    for file in os.listdir(path):\n",
    "        if os.path.exists(os.path.join(path, file)):\n",
    "            os.remove(os.path.join(path, file))\n",
    "    return print(\"Files: \", os.listdir(path))"
   ]
  },
  {
   "cell_type": "code",
   "execution_count": null,
   "id": "15074493",
   "metadata": {},
   "outputs": [],
   "source": [
    "import twint\n",
    "\n",
    "# Get tweets from different users and different words\n",
    "def scrape_tweets(users, words, path, date_since, date_until):\n",
    "    for name in users:\n",
    "        for word in words:\n",
    "            # Scraping for tweets\n",
    "            c = twint.Config()\n",
    "            c.Username = name\n",
    "            c.Since = date_since \n",
    "            c.Until = date_until\n",
    "            c.Search = word\n",
    "            c.Store_csv = True\n",
    "            c.Output = os.path.join(path, name + \"_\" + word + \".csv\")\n",
    "            twint.run.Search(c)\n",
    "    return print(\"Files: \", os.listdir(path))"
   ]
  },
  {
   "cell_type": "code",
   "execution_count": 41,
   "id": "e588c48a",
   "metadata": {},
   "outputs": [],
   "source": [
    "# Path and users\n",
    "users = top_users[\"username\"].values\n",
    "\n",
    "# Tweets period\n",
    "date_since = \"2017-12-31\"\n",
    "date_until = \"2021-06-02\"\n",
    "\n",
    "# Words to search \n",
    "words = [\"bitcoin\", \"btc\", \"crypto\", \"cryptocurrencies\", \"cryptos\"] # Busca palabras aunque esten en minusculas o mayusculas"
   ]
  },
  {
   "cell_type": "code",
   "execution_count": 42,
   "id": "d228cca8",
   "metadata": {},
   "outputs": [
    {
     "name": "stdout",
     "output_type": "stream",
     "text": [
      "Files:  []\n"
     ]
    }
   ],
   "source": [
    "# Delete all files in the path\n",
    "delete_files(os.path.join(path, \"data\", \"user_tweets\"))"
   ]
  },
  {
   "cell_type": "code",
   "execution_count": null,
   "id": "66386559",
   "metadata": {},
   "outputs": [],
   "source": [
    "scrape_tweets(users, words, os.path.join(path, \"data\", \"user_tweets\"), date_since, date_until)"
   ]
  },
  {
   "cell_type": "markdown",
   "id": "dd659876",
   "metadata": {},
   "source": [
    "# 3 Preprocessing tweets"
   ]
  },
  {
   "cell_type": "markdown",
   "id": "4935d200",
   "metadata": {},
   "source": [
    "## 3.1 Formatting variables"
   ]
  },
  {
   "cell_type": "markdown",
   "id": "31c60d00",
   "metadata": {},
   "source": [
    "The csv contain all the tweets related to BTC of top users."
   ]
  },
  {
   "cell_type": "code",
   "execution_count": 2,
   "id": "6a743476",
   "metadata": {},
   "outputs": [],
   "source": [
    "# Path\n",
    "path = r\"C:\\Users\\ferro\\Desktop\\VeranoCIMAT\\Análisis de Sentimiento\""
   ]
  },
  {
   "cell_type": "code",
   "execution_count": 3,
   "id": "6a860348",
   "metadata": {},
   "outputs": [
    {
     "data": {
      "text/html": [
       "<div>\n",
       "<style scoped>\n",
       "    .dataframe tbody tr th:only-of-type {\n",
       "        vertical-align: middle;\n",
       "    }\n",
       "\n",
       "    .dataframe tbody tr th {\n",
       "        vertical-align: top;\n",
       "    }\n",
       "\n",
       "    .dataframe thead th {\n",
       "        text-align: right;\n",
       "    }\n",
       "</style>\n",
       "<table border=\"1\" class=\"dataframe\">\n",
       "  <thead>\n",
       "    <tr style=\"text-align: right;\">\n",
       "      <th></th>\n",
       "      <th>created_at</th>\n",
       "      <th>username</th>\n",
       "      <th>tweet</th>\n",
       "      <th>language</th>\n",
       "    </tr>\n",
       "  </thead>\n",
       "  <tbody>\n",
       "    <tr>\n",
       "      <th>0</th>\n",
       "      <td>2021-05-31 08:44:00 Hora de verano central (Mé...</td>\n",
       "      <td>actualidadrt</td>\n",
       "      <td>¿Por qué el inversor Robert Kiyosaki considera...</td>\n",
       "      <td>es</td>\n",
       "    </tr>\n",
       "    <tr>\n",
       "      <th>1</th>\n",
       "      <td>2021-05-29 22:36:00 Hora de verano central (Mé...</td>\n",
       "      <td>actualidadrt</td>\n",
       "      <td>\"El dólar estadounidense ya está en un periodo...</td>\n",
       "      <td>es</td>\n",
       "    </tr>\n",
       "    <tr>\n",
       "      <th>2</th>\n",
       "      <td>2021-05-29 10:19:00 Hora de verano central (Mé...</td>\n",
       "      <td>actualidadrt</td>\n",
       "      <td>El bitcóin cae a su nivel más bajo de esta sem...</td>\n",
       "      <td>es</td>\n",
       "    </tr>\n",
       "    <tr>\n",
       "      <th>3</th>\n",
       "      <td>2021-05-29 07:00:18 Hora de verano central (Mé...</td>\n",
       "      <td>actualidadrt</td>\n",
       "      <td>El bitcóin cae a su nivel más bajo de esta sem...</td>\n",
       "      <td>es</td>\n",
       "    </tr>\n",
       "    <tr>\n",
       "      <th>4</th>\n",
       "      <td>2021-05-26 06:10:00 Hora de verano central (Mé...</td>\n",
       "      <td>actualidadrt</td>\n",
       "      <td>El bitcóin supera la barrera de los 40.000 dól...</td>\n",
       "      <td>es</td>\n",
       "    </tr>\n",
       "  </tbody>\n",
       "</table>\n",
       "</div>"
      ],
      "text/plain": [
       "                                          created_at      username  \\\n",
       "0  2021-05-31 08:44:00 Hora de verano central (Mé...  actualidadrt   \n",
       "1  2021-05-29 22:36:00 Hora de verano central (Mé...  actualidadrt   \n",
       "2  2021-05-29 10:19:00 Hora de verano central (Mé...  actualidadrt   \n",
       "3  2021-05-29 07:00:18 Hora de verano central (Mé...  actualidadrt   \n",
       "4  2021-05-26 06:10:00 Hora de verano central (Mé...  actualidadrt   \n",
       "\n",
       "                                               tweet language  \n",
       "0  ¿Por qué el inversor Robert Kiyosaki considera...       es  \n",
       "1  \"El dólar estadounidense ya está en un periodo...       es  \n",
       "2  El bitcóin cae a su nivel más bajo de esta sem...       es  \n",
       "3  El bitcóin cae a su nivel más bajo de esta sem...       es  \n",
       "4  El bitcóin supera la barrera de los 40.000 dól...       es  "
      ]
     },
     "execution_count": 3,
     "metadata": {},
     "output_type": "execute_result"
    }
   ],
   "source": [
    "# Reading csv's files and only useful columns\n",
    "col_useful = [\"username\", \"created_at\", \"tweet\", \"language\"]\n",
    "path_tweets = os.path.join(path, \"data\", \"user_tweets\")\n",
    "tweets_list = [pd.read_csv(os.path.join(path_tweets, file), usecols = col_useful) for file in os.listdir(path_tweets)]\n",
    "tweets_list[0].head()"
   ]
  },
  {
   "cell_type": "code",
   "execution_count": 4,
   "id": "acc019fb",
   "metadata": {},
   "outputs": [
    {
     "data": {
      "text/html": [
       "<div>\n",
       "<style scoped>\n",
       "    .dataframe tbody tr th:only-of-type {\n",
       "        vertical-align: middle;\n",
       "    }\n",
       "\n",
       "    .dataframe tbody tr th {\n",
       "        vertical-align: top;\n",
       "    }\n",
       "\n",
       "    .dataframe thead th {\n",
       "        text-align: right;\n",
       "    }\n",
       "</style>\n",
       "<table border=\"1\" class=\"dataframe\">\n",
       "  <thead>\n",
       "    <tr style=\"text-align: right;\">\n",
       "      <th></th>\n",
       "      <th>created_at</th>\n",
       "      <th>username</th>\n",
       "      <th>tweet</th>\n",
       "    </tr>\n",
       "  </thead>\n",
       "  <tbody>\n",
       "    <tr>\n",
       "      <th>0</th>\n",
       "      <td>2021-05-26 20:05:00 Hora de verano central (Mé...</td>\n",
       "      <td>ancalerts</td>\n",
       "      <td>Bitcoin edges back from $40,000 as volatility ...</td>\n",
       "    </tr>\n",
       "    <tr>\n",
       "      <th>1</th>\n",
       "      <td>2021-05-26 01:40:00 Hora de verano central (Mé...</td>\n",
       "      <td>ancalerts</td>\n",
       "      <td>Bitcoin mining can wane in China as green conc...</td>\n",
       "    </tr>\n",
       "    <tr>\n",
       "      <th>2</th>\n",
       "      <td>2021-05-24 20:08:59 Hora de verano central (Mé...</td>\n",
       "      <td>ancalerts</td>\n",
       "      <td>HSBC CEO says Bitcoin not for us  https://t.co...</td>\n",
       "    </tr>\n",
       "    <tr>\n",
       "      <th>3</th>\n",
       "      <td>2021-05-24 08:20:00 Hora de verano central (Mé...</td>\n",
       "      <td>ancalerts</td>\n",
       "      <td>Crypto miners halt China business after Beijin...</td>\n",
       "    </tr>\n",
       "    <tr>\n",
       "      <th>4</th>\n",
       "      <td>2021-05-23 19:21:33 Hora de verano central (Mé...</td>\n",
       "      <td>ancalerts</td>\n",
       "      <td>Bitcoin down almost 50 percent from year's hig...</td>\n",
       "    </tr>\n",
       "  </tbody>\n",
       "</table>\n",
       "</div>"
      ],
      "text/plain": [
       "                                          created_at   username  \\\n",
       "0  2021-05-26 20:05:00 Hora de verano central (Mé...  ancalerts   \n",
       "1  2021-05-26 01:40:00 Hora de verano central (Mé...  ancalerts   \n",
       "2  2021-05-24 20:08:59 Hora de verano central (Mé...  ancalerts   \n",
       "3  2021-05-24 08:20:00 Hora de verano central (Mé...  ancalerts   \n",
       "4  2021-05-23 19:21:33 Hora de verano central (Mé...  ancalerts   \n",
       "\n",
       "                                               tweet  \n",
       "0  Bitcoin edges back from $40,000 as volatility ...  \n",
       "1  Bitcoin mining can wane in China as green conc...  \n",
       "2  HSBC CEO says Bitcoin not for us  https://t.co...  \n",
       "3  Crypto miners halt China business after Beijin...  \n",
       "4  Bitcoin down almost 50 percent from year's hig...  "
      ]
     },
     "execution_count": 4,
     "metadata": {},
     "output_type": "execute_result"
    }
   ],
   "source": [
    "# Concate tweets data frames and selecting only english tweets\n",
    "tweets_df = ft.reduce(lambda x, y: pd.concat([x, y], ignore_index = True), tweets_list)\n",
    "tweets_df = tweets_df[tweets_df[\"language\"] == \"en\"].reset_index(drop = True).drop(\"language\", axis = 1)\n",
    "tweets_df = tweets_df[~tweets_df[\"username\"].isin([\"la_patilla\", \"globovision\", \"le_figaro\"])] # la_patilla is in es but is registered as en, this is an ERROR\n",
    "tweets_df.head() "
   ]
  },
  {
   "cell_type": "code",
   "execution_count": 5,
   "id": "379a7154",
   "metadata": {},
   "outputs": [],
   "source": [
    "# Drop duplicated tweets\n",
    "#tweets_df = tweets_df.iloc[tweets_df.tweet.drop_duplicates().index]\n",
    "tweets_df.tweet.drop_duplicates(inplace = True)"
   ]
  },
  {
   "cell_type": "code",
   "execution_count": 6,
   "id": "12c5e84d",
   "metadata": {},
   "outputs": [
    {
     "data": {
      "text/html": [
       "<div>\n",
       "<style scoped>\n",
       "    .dataframe tbody tr th:only-of-type {\n",
       "        vertical-align: middle;\n",
       "    }\n",
       "\n",
       "    .dataframe tbody tr th {\n",
       "        vertical-align: top;\n",
       "    }\n",
       "\n",
       "    .dataframe thead th {\n",
       "        text-align: right;\n",
       "    }\n",
       "</style>\n",
       "<table border=\"1\" class=\"dataframe\">\n",
       "  <thead>\n",
       "    <tr style=\"text-align: right;\">\n",
       "      <th></th>\n",
       "      <th>date</th>\n",
       "      <th>user</th>\n",
       "      <th>tweet</th>\n",
       "    </tr>\n",
       "  </thead>\n",
       "  <tbody>\n",
       "    <tr>\n",
       "      <th>0</th>\n",
       "      <td>2021-05-26 20:05:00 Hora de verano central (Mé...</td>\n",
       "      <td>ancalerts</td>\n",
       "      <td>Bitcoin edges back from $40,000 as volatility ...</td>\n",
       "    </tr>\n",
       "    <tr>\n",
       "      <th>1</th>\n",
       "      <td>2021-05-26 01:40:00 Hora de verano central (Mé...</td>\n",
       "      <td>ancalerts</td>\n",
       "      <td>Bitcoin mining can wane in China as green conc...</td>\n",
       "    </tr>\n",
       "    <tr>\n",
       "      <th>2</th>\n",
       "      <td>2021-05-24 20:08:59 Hora de verano central (Mé...</td>\n",
       "      <td>ancalerts</td>\n",
       "      <td>HSBC CEO says Bitcoin not for us  https://t.co...</td>\n",
       "    </tr>\n",
       "    <tr>\n",
       "      <th>3</th>\n",
       "      <td>2021-05-24 08:20:00 Hora de verano central (Mé...</td>\n",
       "      <td>ancalerts</td>\n",
       "      <td>Crypto miners halt China business after Beijin...</td>\n",
       "    </tr>\n",
       "    <tr>\n",
       "      <th>4</th>\n",
       "      <td>2021-05-23 19:21:33 Hora de verano central (Mé...</td>\n",
       "      <td>ancalerts</td>\n",
       "      <td>Bitcoin down almost 50 percent from year's hig...</td>\n",
       "    </tr>\n",
       "  </tbody>\n",
       "</table>\n",
       "</div>"
      ],
      "text/plain": [
       "                                                date       user  \\\n",
       "0  2021-05-26 20:05:00 Hora de verano central (Mé...  ancalerts   \n",
       "1  2021-05-26 01:40:00 Hora de verano central (Mé...  ancalerts   \n",
       "2  2021-05-24 20:08:59 Hora de verano central (Mé...  ancalerts   \n",
       "3  2021-05-24 08:20:00 Hora de verano central (Mé...  ancalerts   \n",
       "4  2021-05-23 19:21:33 Hora de verano central (Mé...  ancalerts   \n",
       "\n",
       "                                               tweet  \n",
       "0  Bitcoin edges back from $40,000 as volatility ...  \n",
       "1  Bitcoin mining can wane in China as green conc...  \n",
       "2  HSBC CEO says Bitcoin not for us  https://t.co...  \n",
       "3  Crypto miners halt China business after Beijin...  \n",
       "4  Bitcoin down almost 50 percent from year's hig...  "
      ]
     },
     "execution_count": 6,
     "metadata": {},
     "output_type": "execute_result"
    }
   ],
   "source": [
    "# Rename useful columns\n",
    "tweets_df.columns = [\"date\", \"user\", \"tweet\"]\n",
    "tweets_df.head(5)"
   ]
  },
  {
   "cell_type": "code",
   "execution_count": 7,
   "id": "42e4dfc5",
   "metadata": {},
   "outputs": [
    {
     "data": {
      "text/html": [
       "<div>\n",
       "<style scoped>\n",
       "    .dataframe tbody tr th:only-of-type {\n",
       "        vertical-align: middle;\n",
       "    }\n",
       "\n",
       "    .dataframe tbody tr th {\n",
       "        vertical-align: top;\n",
       "    }\n",
       "\n",
       "    .dataframe thead th {\n",
       "        text-align: right;\n",
       "    }\n",
       "</style>\n",
       "<table border=\"1\" class=\"dataframe\">\n",
       "  <thead>\n",
       "    <tr style=\"text-align: right;\">\n",
       "      <th></th>\n",
       "      <th>date</th>\n",
       "      <th>user</th>\n",
       "      <th>tweet</th>\n",
       "    </tr>\n",
       "  </thead>\n",
       "  <tbody>\n",
       "    <tr>\n",
       "      <th>0</th>\n",
       "      <td>2021-05-26</td>\n",
       "      <td>ancalerts</td>\n",
       "      <td>Bitcoin edges back from $40,000 as volatility ...</td>\n",
       "    </tr>\n",
       "    <tr>\n",
       "      <th>1</th>\n",
       "      <td>2021-05-26</td>\n",
       "      <td>ancalerts</td>\n",
       "      <td>Bitcoin mining can wane in China as green conc...</td>\n",
       "    </tr>\n",
       "    <tr>\n",
       "      <th>2</th>\n",
       "      <td>2021-05-24</td>\n",
       "      <td>ancalerts</td>\n",
       "      <td>HSBC CEO says Bitcoin not for us  https://t.co...</td>\n",
       "    </tr>\n",
       "    <tr>\n",
       "      <th>3</th>\n",
       "      <td>2021-05-24</td>\n",
       "      <td>ancalerts</td>\n",
       "      <td>Crypto miners halt China business after Beijin...</td>\n",
       "    </tr>\n",
       "    <tr>\n",
       "      <th>4</th>\n",
       "      <td>2021-05-23</td>\n",
       "      <td>ancalerts</td>\n",
       "      <td>Bitcoin down almost 50 percent from year's hig...</td>\n",
       "    </tr>\n",
       "  </tbody>\n",
       "</table>\n",
       "</div>"
      ],
      "text/plain": [
       "        date       user                                              tweet\n",
       "0 2021-05-26  ancalerts  Bitcoin edges back from $40,000 as volatility ...\n",
       "1 2021-05-26  ancalerts  Bitcoin mining can wane in China as green conc...\n",
       "2 2021-05-24  ancalerts  HSBC CEO says Bitcoin not for us  https://t.co...\n",
       "3 2021-05-24  ancalerts  Crypto miners halt China business after Beijin...\n",
       "4 2021-05-23  ancalerts  Bitcoin down almost 50 percent from year's hig..."
      ]
     },
     "execution_count": 7,
     "metadata": {},
     "output_type": "execute_result"
    }
   ],
   "source": [
    "# Date type\n",
    "tweets_df[\"date\"] = pd.to_datetime(tweets_df[\"date\"].apply(lambda text: text[0:10]))\n",
    "tweets_df.head(5)"
   ]
  },
  {
   "cell_type": "markdown",
   "id": "459ecf39",
   "metadata": {},
   "source": [
    "## 3.2 Clean and Tokenization"
   ]
  },
  {
   "cell_type": "markdown",
   "id": "63147504",
   "metadata": {},
   "source": [
    "Clean and tokenization for all users"
   ]
  },
  {
   "cell_type": "code",
   "execution_count": 8,
   "id": "86d0ad18",
   "metadata": {},
   "outputs": [],
   "source": [
    "# Load stop-words\n",
    "stop_words = list(stopwords.words('english'))\n",
    "\n",
    "# Add new stop-words like \"it’s\" instead of \"it's\"\n",
    "new_words = [re.sub(\"'\", \"’\", word) for word in stop_words if \"'\" in word]\n",
    "stop_words.extend(new_words)"
   ]
  },
  {
   "cell_type": "code",
   "execution_count": 9,
   "id": "3c24be4a",
   "metadata": {},
   "outputs": [
    {
     "data": {
      "text/html": [
       "<div>\n",
       "<style scoped>\n",
       "    .dataframe tbody tr th:only-of-type {\n",
       "        vertical-align: middle;\n",
       "    }\n",
       "\n",
       "    .dataframe tbody tr th {\n",
       "        vertical-align: top;\n",
       "    }\n",
       "\n",
       "    .dataframe thead th {\n",
       "        text-align: right;\n",
       "    }\n",
       "</style>\n",
       "<table border=\"1\" class=\"dataframe\">\n",
       "  <thead>\n",
       "    <tr style=\"text-align: right;\">\n",
       "      <th></th>\n",
       "      <th>date</th>\n",
       "      <th>user</th>\n",
       "      <th>tweet</th>\n",
       "    </tr>\n",
       "  </thead>\n",
       "  <tbody>\n",
       "    <tr>\n",
       "      <th>0</th>\n",
       "      <td>2021-05-26</td>\n",
       "      <td>ancalerts</td>\n",
       "      <td>[bitcoin, edges, back, volatility, lingers]</td>\n",
       "    </tr>\n",
       "    <tr>\n",
       "      <th>1</th>\n",
       "      <td>2021-05-26</td>\n",
       "      <td>ancalerts</td>\n",
       "      <td>[bitcoin, mining, wane, china, green, concerns...</td>\n",
       "    </tr>\n",
       "    <tr>\n",
       "      <th>2</th>\n",
       "      <td>2021-05-24</td>\n",
       "      <td>ancalerts</td>\n",
       "      <td>[hsbc, ceo, says, bitcoin]</td>\n",
       "    </tr>\n",
       "    <tr>\n",
       "      <th>3</th>\n",
       "      <td>2021-05-24</td>\n",
       "      <td>ancalerts</td>\n",
       "      <td>[crypto, miners, halt, china, business, beijin...</td>\n",
       "    </tr>\n",
       "    <tr>\n",
       "      <th>4</th>\n",
       "      <td>2021-05-23</td>\n",
       "      <td>ancalerts</td>\n",
       "      <td>[bitcoin, almost, percent, year, high]</td>\n",
       "    </tr>\n",
       "  </tbody>\n",
       "</table>\n",
       "</div>"
      ],
      "text/plain": [
       "        date       user                                              tweet\n",
       "0 2021-05-26  ancalerts        [bitcoin, edges, back, volatility, lingers]\n",
       "1 2021-05-26  ancalerts  [bitcoin, mining, wane, china, green, concerns...\n",
       "2 2021-05-24  ancalerts                         [hsbc, ceo, says, bitcoin]\n",
       "3 2021-05-24  ancalerts  [crypto, miners, halt, china, business, beijin...\n",
       "4 2021-05-23  ancalerts             [bitcoin, almost, percent, year, high]"
      ]
     },
     "execution_count": 9,
     "metadata": {},
     "output_type": "execute_result"
    }
   ],
   "source": [
    "# Clean and tokenize tweets\n",
    "tweets_tokenize = tweets_df.copy()\n",
    "tweets_tokenize[\"tweet\"] = tweets_tokenize[\"tweet\"].apply(lambda x: clean_tokenize(x, stop_words))\n",
    "tweets_tokenize.head()"
   ]
  },
  {
   "cell_type": "code",
   "execution_count": 10,
   "id": "f639bc5b",
   "metadata": {},
   "outputs": [
    {
     "data": {
      "text/html": [
       "<div>\n",
       "<style scoped>\n",
       "    .dataframe tbody tr th:only-of-type {\n",
       "        vertical-align: middle;\n",
       "    }\n",
       "\n",
       "    .dataframe tbody tr th {\n",
       "        vertical-align: top;\n",
       "    }\n",
       "\n",
       "    .dataframe thead th {\n",
       "        text-align: right;\n",
       "    }\n",
       "</style>\n",
       "<table border=\"1\" class=\"dataframe\">\n",
       "  <thead>\n",
       "    <tr style=\"text-align: right;\">\n",
       "      <th></th>\n",
       "      <th>date</th>\n",
       "      <th>user</th>\n",
       "      <th>tweet</th>\n",
       "    </tr>\n",
       "  </thead>\n",
       "  <tbody>\n",
       "    <tr>\n",
       "      <th>0</th>\n",
       "      <td>2021-05-26</td>\n",
       "      <td>ancalerts</td>\n",
       "      <td>bitcoin</td>\n",
       "    </tr>\n",
       "    <tr>\n",
       "      <th>1</th>\n",
       "      <td>2021-05-26</td>\n",
       "      <td>ancalerts</td>\n",
       "      <td>edges</td>\n",
       "    </tr>\n",
       "    <tr>\n",
       "      <th>2</th>\n",
       "      <td>2021-05-26</td>\n",
       "      <td>ancalerts</td>\n",
       "      <td>back</td>\n",
       "    </tr>\n",
       "    <tr>\n",
       "      <th>3</th>\n",
       "      <td>2021-05-26</td>\n",
       "      <td>ancalerts</td>\n",
       "      <td>volatility</td>\n",
       "    </tr>\n",
       "    <tr>\n",
       "      <th>4</th>\n",
       "      <td>2021-05-26</td>\n",
       "      <td>ancalerts</td>\n",
       "      <td>lingers</td>\n",
       "    </tr>\n",
       "  </tbody>\n",
       "</table>\n",
       "</div>"
      ],
      "text/plain": [
       "        date       user       tweet\n",
       "0 2021-05-26  ancalerts     bitcoin\n",
       "1 2021-05-26  ancalerts       edges\n",
       "2 2021-05-26  ancalerts        back\n",
       "3 2021-05-26  ancalerts  volatility\n",
       "4 2021-05-26  ancalerts     lingers"
      ]
     },
     "execution_count": 10,
     "metadata": {},
     "output_type": "execute_result"
    }
   ],
   "source": [
    "# Token in each row, we drop na\n",
    "tweets_tokenize_explode = tweets_tokenize.explode(column='tweet').reset_index(drop = True).dropna()\n",
    "tweets_tokenize_explode.head()"
   ]
  },
  {
   "cell_type": "code",
   "execution_count": 11,
   "id": "511d55fd",
   "metadata": {},
   "outputs": [
    {
     "data": {
      "text/html": [
       "<div>\n",
       "<style scoped>\n",
       "    .dataframe tbody tr th:only-of-type {\n",
       "        vertical-align: middle;\n",
       "    }\n",
       "\n",
       "    .dataframe tbody tr th {\n",
       "        vertical-align: top;\n",
       "    }\n",
       "\n",
       "    .dataframe thead th {\n",
       "        text-align: right;\n",
       "    }\n",
       "</style>\n",
       "<table border=\"1\" class=\"dataframe\">\n",
       "  <thead>\n",
       "    <tr style=\"text-align: right;\">\n",
       "      <th></th>\n",
       "      <th>date</th>\n",
       "      <th>user</th>\n",
       "      <th>tweet</th>\n",
       "      <th>key_word</th>\n",
       "    </tr>\n",
       "  </thead>\n",
       "  <tbody>\n",
       "    <tr>\n",
       "      <th>0</th>\n",
       "      <td>2021-05-26</td>\n",
       "      <td>ancalerts</td>\n",
       "      <td>Bitcoin edges back from $40,000 as volatility ...</td>\n",
       "      <td>True</td>\n",
       "    </tr>\n",
       "    <tr>\n",
       "      <th>1</th>\n",
       "      <td>2021-05-26</td>\n",
       "      <td>ancalerts</td>\n",
       "      <td>Bitcoin mining can wane in China as green conc...</td>\n",
       "      <td>True</td>\n",
       "    </tr>\n",
       "    <tr>\n",
       "      <th>2</th>\n",
       "      <td>2021-05-24</td>\n",
       "      <td>ancalerts</td>\n",
       "      <td>HSBC CEO says Bitcoin not for us  https://t.co...</td>\n",
       "      <td>True</td>\n",
       "    </tr>\n",
       "    <tr>\n",
       "      <th>3</th>\n",
       "      <td>2021-05-24</td>\n",
       "      <td>ancalerts</td>\n",
       "      <td>Crypto miners halt China business after Beijin...</td>\n",
       "      <td>True</td>\n",
       "    </tr>\n",
       "    <tr>\n",
       "      <th>4</th>\n",
       "      <td>2021-05-23</td>\n",
       "      <td>ancalerts</td>\n",
       "      <td>Bitcoin down almost 50 percent from year's hig...</td>\n",
       "      <td>True</td>\n",
       "    </tr>\n",
       "  </tbody>\n",
       "</table>\n",
       "</div>"
      ],
      "text/plain": [
       "        date       user                                              tweet  \\\n",
       "0 2021-05-26  ancalerts  Bitcoin edges back from $40,000 as volatility ...   \n",
       "1 2021-05-26  ancalerts  Bitcoin mining can wane in China as green conc...   \n",
       "2 2021-05-24  ancalerts  HSBC CEO says Bitcoin not for us  https://t.co...   \n",
       "3 2021-05-24  ancalerts  Crypto miners halt China business after Beijin...   \n",
       "4 2021-05-23  ancalerts  Bitcoin down almost 50 percent from year's hig...   \n",
       "\n",
       "   key_word  \n",
       "0      True  \n",
       "1      True  \n",
       "2      True  \n",
       "3      True  \n",
       "4      True  "
      ]
     },
     "execution_count": 11,
     "metadata": {},
     "output_type": "execute_result"
    }
   ],
   "source": [
    "# Add new column in tweets_df to identify tweets realted to bitcoin\n",
    "key_words = [\"bitcoin\", \"btc\"]\n",
    "tweets_df[\"key_word\"] = tweets_tokenize.tweet.apply(lambda tweet: any(word in tweet for word in key_words))\n",
    "tweets_df.head()"
   ]
  },
  {
   "cell_type": "code",
   "execution_count": null,
   "id": "ae28b841",
   "metadata": {},
   "outputs": [],
   "source": []
  },
  {
   "cell_type": "code",
   "execution_count": null,
   "id": "a716b3a2",
   "metadata": {},
   "outputs": [],
   "source": []
  },
  {
   "cell_type": "markdown",
   "id": "c9b6a0bb",
   "metadata": {},
   "source": [
    "# 4 Exploratory analysis"
   ]
  },
  {
   "cell_type": "markdown",
   "id": "1a260262",
   "metadata": {},
   "source": [
    "**Steps**\n",
    "1. Clean tweets: drop links and @users\n",
    "2. Calculate score with VADER\n",
    "3. Calculate mean score for each day"
   ]
  },
  {
   "cell_type": "markdown",
   "id": "86669dbf",
   "metadata": {},
   "source": [
    "## 4.1 Month Activity"
   ]
  },
  {
   "cell_type": "code",
   "execution_count": 12,
   "id": "db96eac6",
   "metadata": {
    "scrolled": true
   },
   "outputs": [
    {
     "data": {
      "text/html": [
       "<div>\n",
       "<style scoped>\n",
       "    .dataframe tbody tr th:only-of-type {\n",
       "        vertical-align: middle;\n",
       "    }\n",
       "\n",
       "    .dataframe tbody tr th {\n",
       "        vertical-align: top;\n",
       "    }\n",
       "\n",
       "    .dataframe thead th {\n",
       "        text-align: right;\n",
       "    }\n",
       "</style>\n",
       "<table border=\"1\" class=\"dataframe\">\n",
       "  <thead>\n",
       "    <tr style=\"text-align: right;\">\n",
       "      <th></th>\n",
       "      <th>date</th>\n",
       "      <th>user</th>\n",
       "      <th>tweet</th>\n",
       "      <th>key_word</th>\n",
       "      <th>month</th>\n",
       "    </tr>\n",
       "  </thead>\n",
       "  <tbody>\n",
       "    <tr>\n",
       "      <th>0</th>\n",
       "      <td>2021-05-26</td>\n",
       "      <td>ancalerts</td>\n",
       "      <td>Bitcoin edges back from $40,000 as volatility ...</td>\n",
       "      <td>True</td>\n",
       "      <td>2021-05-01</td>\n",
       "    </tr>\n",
       "    <tr>\n",
       "      <th>1</th>\n",
       "      <td>2021-05-26</td>\n",
       "      <td>ancalerts</td>\n",
       "      <td>Bitcoin mining can wane in China as green conc...</td>\n",
       "      <td>True</td>\n",
       "      <td>2021-05-01</td>\n",
       "    </tr>\n",
       "    <tr>\n",
       "      <th>2</th>\n",
       "      <td>2021-05-24</td>\n",
       "      <td>ancalerts</td>\n",
       "      <td>HSBC CEO says Bitcoin not for us  https://t.co...</td>\n",
       "      <td>True</td>\n",
       "      <td>2021-05-01</td>\n",
       "    </tr>\n",
       "    <tr>\n",
       "      <th>3</th>\n",
       "      <td>2021-05-24</td>\n",
       "      <td>ancalerts</td>\n",
       "      <td>Crypto miners halt China business after Beijin...</td>\n",
       "      <td>True</td>\n",
       "      <td>2021-05-01</td>\n",
       "    </tr>\n",
       "    <tr>\n",
       "      <th>4</th>\n",
       "      <td>2021-05-23</td>\n",
       "      <td>ancalerts</td>\n",
       "      <td>Bitcoin down almost 50 percent from year's hig...</td>\n",
       "      <td>True</td>\n",
       "      <td>2021-05-01</td>\n",
       "    </tr>\n",
       "    <tr>\n",
       "      <th>...</th>\n",
       "      <td>...</td>\n",
       "      <td>...</td>\n",
       "      <td>...</td>\n",
       "      <td>...</td>\n",
       "      <td>...</td>\n",
       "    </tr>\n",
       "    <tr>\n",
       "      <th>13812</th>\n",
       "      <td>2018-08-22</td>\n",
       "      <td>vanguardngrnews</td>\n",
       "      <td>Hackers target smartphones to mine cryptocurre...</td>\n",
       "      <td>False</td>\n",
       "      <td>2018-08-01</td>\n",
       "    </tr>\n",
       "    <tr>\n",
       "      <th>13813</th>\n",
       "      <td>2018-05-14</td>\n",
       "      <td>vanguardngrnews</td>\n",
       "      <td>Cryptocurrencies hit dead end===has been publi...</td>\n",
       "      <td>False</td>\n",
       "      <td>2018-05-01</td>\n",
       "    </tr>\n",
       "    <tr>\n",
       "      <th>13814</th>\n",
       "      <td>2018-01-25</td>\n",
       "      <td>vanguardngrnews</td>\n",
       "      <td>Investors in cryptocurrencies are gamblers — E...</td>\n",
       "      <td>False</td>\n",
       "      <td>2018-01-01</td>\n",
       "    </tr>\n",
       "    <tr>\n",
       "      <th>13815</th>\n",
       "      <td>2018-01-22</td>\n",
       "      <td>vanguardngrnews</td>\n",
       "      <td>Largest Nordic bank Nordea bans employees’ bit...</td>\n",
       "      <td>True</td>\n",
       "      <td>2018-01-01</td>\n",
       "    </tr>\n",
       "    <tr>\n",
       "      <th>13816</th>\n",
       "      <td>2021-03-01</td>\n",
       "      <td>vanguardngrnews</td>\n",
       "      <td>CBN and CRYPTOS: Defending the financial syste...</td>\n",
       "      <td>False</td>\n",
       "      <td>2021-03-01</td>\n",
       "    </tr>\n",
       "  </tbody>\n",
       "</table>\n",
       "<p>13773 rows × 5 columns</p>\n",
       "</div>"
      ],
      "text/plain": [
       "            date             user  \\\n",
       "0     2021-05-26        ancalerts   \n",
       "1     2021-05-26        ancalerts   \n",
       "2     2021-05-24        ancalerts   \n",
       "3     2021-05-24        ancalerts   \n",
       "4     2021-05-23        ancalerts   \n",
       "...          ...              ...   \n",
       "13812 2018-08-22  vanguardngrnews   \n",
       "13813 2018-05-14  vanguardngrnews   \n",
       "13814 2018-01-25  vanguardngrnews   \n",
       "13815 2018-01-22  vanguardngrnews   \n",
       "13816 2021-03-01  vanguardngrnews   \n",
       "\n",
       "                                                   tweet  key_word      month  \n",
       "0      Bitcoin edges back from $40,000 as volatility ...      True 2021-05-01  \n",
       "1      Bitcoin mining can wane in China as green conc...      True 2021-05-01  \n",
       "2      HSBC CEO says Bitcoin not for us  https://t.co...      True 2021-05-01  \n",
       "3      Crypto miners halt China business after Beijin...      True 2021-05-01  \n",
       "4      Bitcoin down almost 50 percent from year's hig...      True 2021-05-01  \n",
       "...                                                  ...       ...        ...  \n",
       "13812  Hackers target smartphones to mine cryptocurre...     False 2018-08-01  \n",
       "13813  Cryptocurrencies hit dead end===has been publi...     False 2018-05-01  \n",
       "13814  Investors in cryptocurrencies are gamblers — E...     False 2018-01-01  \n",
       "13815  Largest Nordic bank Nordea bans employees’ bit...      True 2018-01-01  \n",
       "13816  CBN and CRYPTOS: Defending the financial syste...     False 2021-03-01  \n",
       "\n",
       "[13773 rows x 5 columns]"
      ]
     },
     "execution_count": 12,
     "metadata": {},
     "output_type": "execute_result"
    }
   ],
   "source": [
    "# Month activity (Number of tweets in the month)\n",
    "tweets_df[\"month\"] = pd.to_datetime(tweets_df[\"date\"].dt.strftime(\"%Y-%m\"))\n",
    "tweets_df"
   ]
  },
  {
   "cell_type": "code",
   "execution_count": null,
   "id": "ace2e23a",
   "metadata": {
    "scrolled": true
   },
   "outputs": [],
   "source": [
    "# Month activity for each user \n",
    "tweets_df.assign(n = 1).pivot_table(values = \"n\",  index = \"month\", columns = \"user\", aggfunc = np.sum).plot()"
   ]
  },
  {
   "cell_type": "code",
   "execution_count": 14,
   "id": "7ba9788d",
   "metadata": {
    "scrolled": true
   },
   "outputs": [],
   "source": [
    "# This is for Dash\n",
    "tweets_df.assign(n = 1).pivot_table(values = \"n\",  index = \"month\", columns = \"user\", aggfunc = np.sum).to_csv(os.path.join(path, \"data_dash\", \"2_activity.csv\"))"
   ]
  },
  {
   "cell_type": "markdown",
   "id": "c5a66d2d",
   "metadata": {},
   "source": [
    "## 4.2 Most Frequent Words"
   ]
  },
  {
   "cell_type": "code",
   "execution_count": 38,
   "id": "28be4e28",
   "metadata": {},
   "outputs": [],
   "source": [
    "user = \"elonmusk\"\n",
    "top = 10 # Avoi greater than 10"
   ]
  },
  {
   "cell_type": "code",
   "execution_count": null,
   "id": "50d80153",
   "metadata": {
    "scrolled": true
   },
   "outputs": [],
   "source": [
    "# Plot Top 10 most frequent words\n",
    "tweets_freq = tweets_tokenize_explode[tweets_tokenize_explode[\"user\"] == user].groupby(by = \"tweet\")[\"tweet\"].count().sort_values(ascending = False)\n",
    "tweets_freq[0:top].plot.bar()"
   ]
  },
  {
   "cell_type": "code",
   "execution_count": 55,
   "id": "eab5439d",
   "metadata": {},
   "outputs": [],
   "source": [
    "# This is for Dash\n",
    "tweets_tokenize_explode.to_csv(os.path.join(path, \"data_dash\", \"3_frequent_words.csv\"), index = False)"
   ]
  },
  {
   "cell_type": "code",
   "execution_count": 41,
   "id": "f36e1b63",
   "metadata": {},
   "outputs": [
    {
     "data": {
      "image/png": "[encoded data removed]",
      "text/plain": [
       "<Figure size 864x720 with 1 Axes>"
      ]
     },
     "metadata": {
      "needs_background": "light"
     },
     "output_type": "display_data"
    }
   ],
   "source": [
    "# Plot Word Cloud of tweets frequencies, this class ignore emojis\n",
    "wordcloud = WordCloud(width = 1600, \n",
    "                      height = 800, \n",
    "                      max_font_size = 200, \n",
    "                      background_color=\"white\").generate_from_frequencies(tweets_freq.to_dict())\n",
    "\n",
    "# plt the image generated by WordCloud class\n",
    "plt.figure(figsize=(12,10))\n",
    "plt.imshow(wordcloud)\n",
    "plt.axis(\"off\")\n",
    "plt.savefig('{}.png'.format(user))\n",
    "plt.show()"
   ]
  },
  {
   "cell_type": "code",
   "execution_count": 44,
   "id": "db951f94",
   "metadata": {},
   "outputs": [],
   "source": [
    "for user in tweets_tokenize_explode[\"user\"].unique():\n",
    "    tweets_freq = tweets_tokenize_explode[tweets_tokenize_explode[\"user\"] == user].groupby(by = \"tweet\")[\"tweet\"].count().sort_values(ascending = False)\n",
    "    # Plot Word Cloud of tweets frequencies, this class ignore emojis\n",
    "    wordcloud = WordCloud(width = 1600, \n",
    "                          height = 800, \n",
    "                          max_font_size = 200, \n",
    "                          background_color=\"white\").generate_from_frequencies(tweets_freq.to_dict())\n",
    "\n",
    "    # plt the image generated by WordCloud class\n",
    "    wordcloud.to_file(os.path.join(path, \"data_dash\", \"4_wordcloud\", user + \".png\"))"
   ]
  },
  {
   "cell_type": "markdown",
   "id": "3e255533",
   "metadata": {},
   "source": [
    "## 4.3 Words Average in Tweets"
   ]
  },
  {
   "cell_type": "code",
   "execution_count": 45,
   "id": "e3d2ec95",
   "metadata": {
    "scrolled": true
   },
   "outputs": [
    {
     "data": {
      "text/html": [
       "<div>\n",
       "<style scoped>\n",
       "    .dataframe tbody tr th:only-of-type {\n",
       "        vertical-align: middle;\n",
       "    }\n",
       "\n",
       "    .dataframe tbody tr th {\n",
       "        vertical-align: top;\n",
       "    }\n",
       "\n",
       "    .dataframe thead th {\n",
       "        text-align: right;\n",
       "    }\n",
       "</style>\n",
       "<table border=\"1\" class=\"dataframe\">\n",
       "  <thead>\n",
       "    <tr style=\"text-align: right;\">\n",
       "      <th></th>\n",
       "      <th>mean</th>\n",
       "      <th>median</th>\n",
       "      <th>std</th>\n",
       "    </tr>\n",
       "    <tr>\n",
       "      <th>user</th>\n",
       "      <th></th>\n",
       "      <th></th>\n",
       "      <th></th>\n",
       "    </tr>\n",
       "  </thead>\n",
       "  <tbody>\n",
       "    <tr>\n",
       "      <th>ancalerts</th>\n",
       "      <td>9.834906</td>\n",
       "      <td>7.0</td>\n",
       "      <td>6.260999</td>\n",
       "    </tr>\n",
       "    <tr>\n",
       "      <th>binance</th>\n",
       "      <td>14.643265</td>\n",
       "      <td>14.0</td>\n",
       "      <td>8.182109</td>\n",
       "    </tr>\n",
       "    <tr>\n",
       "      <th>business</th>\n",
       "      <td>9.626004</td>\n",
       "      <td>9.0</td>\n",
       "      <td>4.316313</td>\n",
       "    </tr>\n",
       "    <tr>\n",
       "      <th>businessinsider</th>\n",
       "      <td>8.825108</td>\n",
       "      <td>8.0</td>\n",
       "      <td>3.962544</td>\n",
       "    </tr>\n",
       "    <tr>\n",
       "      <th>cnbc</th>\n",
       "      <td>10.938453</td>\n",
       "      <td>10.0</td>\n",
       "      <td>4.596392</td>\n",
       "    </tr>\n",
       "    <tr>\n",
       "      <th>cz_binance</th>\n",
       "      <td>12.025199</td>\n",
       "      <td>11.0</td>\n",
       "      <td>7.102412</td>\n",
       "    </tr>\n",
       "    <tr>\n",
       "      <th>dolartoday</th>\n",
       "      <td>10.000000</td>\n",
       "      <td>10.0</td>\n",
       "      <td>NaN</td>\n",
       "    </tr>\n",
       "    <tr>\n",
       "      <th>elonmusk</th>\n",
       "      <td>10.547619</td>\n",
       "      <td>7.5</td>\n",
       "      <td>7.461127</td>\n",
       "    </tr>\n",
       "    <tr>\n",
       "      <th>emreaydin</th>\n",
       "      <td>2.000000</td>\n",
       "      <td>2.0</td>\n",
       "      <td>0.000000</td>\n",
       "    </tr>\n",
       "    <tr>\n",
       "      <th>forbes</th>\n",
       "      <td>9.282416</td>\n",
       "      <td>9.0</td>\n",
       "      <td>4.579975</td>\n",
       "    </tr>\n",
       "    <tr>\n",
       "      <th>indiatoday</th>\n",
       "      <td>13.373626</td>\n",
       "      <td>13.0</td>\n",
       "      <td>4.886827</td>\n",
       "    </tr>\n",
       "    <tr>\n",
       "      <th>vanguardngrnews</th>\n",
       "      <td>9.558621</td>\n",
       "      <td>8.0</td>\n",
       "      <td>5.346177</td>\n",
       "    </tr>\n",
       "  </tbody>\n",
       "</table>\n",
       "</div>"
      ],
      "text/plain": [
       "                      mean  median       std\n",
       "user                                        \n",
       "ancalerts         9.834906     7.0  6.260999\n",
       "binance          14.643265    14.0  8.182109\n",
       "business          9.626004     9.0  4.316313\n",
       "businessinsider   8.825108     8.0  3.962544\n",
       "cnbc             10.938453    10.0  4.596392\n",
       "cz_binance       12.025199    11.0  7.102412\n",
       "dolartoday       10.000000    10.0       NaN\n",
       "elonmusk         10.547619     7.5  7.461127\n",
       "emreaydin         2.000000     2.0  0.000000\n",
       "forbes            9.282416     9.0  4.579975\n",
       "indiatoday       13.373626    13.0  4.886827\n",
       "vanguardngrnews   9.558621     8.0  5.346177"
      ]
     },
     "execution_count": 45,
     "metadata": {},
     "output_type": "execute_result"
    }
   ],
   "source": [
    "# Tweets words\n",
    "tweets_tokenize[\"length_tweet\"] = tweets_tokenize[\"tweet\"].apply(len)\n",
    "tweets_tokenize.groupby([\"user\"])[\"length_tweet\"].agg([np.mean, np.median, np.std])"
   ]
  },
  {
   "cell_type": "code",
   "execution_count": 59,
   "id": "e3048d8a",
   "metadata": {},
   "outputs": [],
   "source": [
    "# This is for Dash\n",
    "tweets_tokenize.groupby([\"user\"])[\"length_tweet\"].agg([np.mean]).to_csv(os.path.join(path, \"data_dash\", \"5_mean_words.csv\"))"
   ]
  },
  {
   "cell_type": "code",
   "execution_count": null,
   "id": "de9f3600",
   "metadata": {},
   "outputs": [],
   "source": [
    "tweets_tokenize.groupby([\"user\"])[\"length_tweet\"].agg([np.mean]).plot.bar()"
   ]
  },
  {
   "cell_type": "code",
   "execution_count": null,
   "id": "b9ea0c4e",
   "metadata": {
    "scrolled": true
   },
   "outputs": [],
   "source": [
    "# Words average in each month\n",
    "tweets_tokenize[\"month\"] = pd.to_datetime(tweets_tokenize[\"date\"].dt.strftime(\"%Y-%m\"))\n",
    "tweets_tokenize.pivot_table(index = \"month\", columns = \"user\", values = \"length_tweet\", aggfunc = np.mean).plot()"
   ]
  },
  {
   "cell_type": "markdown",
   "id": "26edf5ad",
   "metadata": {},
   "source": [
    "# 5 Sentiment Analysis"
   ]
  },
  {
   "cell_type": "markdown",
   "id": "4a1d4393",
   "metadata": {},
   "source": [
    "VADER (Valence Aware Dictionary and sEntiment Reasoner) is a lexicon and rule-based sentiment analysis tool that is specifically attuned to sentiments expressed in social media. It is fully open-sourced under the [MIT License] (we sincerely appreciate all attributions and readily accept most contributions, but please don’t hold us liable)."
   ]
  },
  {
   "cell_type": "markdown",
   "id": "30346fc8",
   "metadata": {},
   "source": [
    "If you use either the dataset or any of the VADER sentiment analysis tools (VADER sentiment lexicon or Python code for rule-based sentiment analysis engine) in your research, please cite the above paper. For example:\n",
    "\n",
    "Hutto, C.J. & Gilbert, E.E. (2014). VADER: A Parsimonious Rule-based Model for Sentiment Analysis of Social Media Text. Eighth International Conference on Weblogs and Social Media (ICWSM-14). Ann Arbor, MI, June 2014."
   ]
  },
  {
   "cell_type": "code",
   "execution_count": 62,
   "id": "ff2615b3",
   "metadata": {},
   "outputs": [],
   "source": [
    "analyzer = SentimentIntensityAnalyzer()"
   ]
  },
  {
   "cell_type": "code",
   "execution_count": 63,
   "id": "6108407f",
   "metadata": {},
   "outputs": [],
   "source": [
    "def clean_text(text):\n",
    "    # Drop http web pages\n",
    "    new_text = re.sub('http\\S+', ' ', text)\n",
    "\n",
    "    # Drop @users\n",
    "    new_text = re.sub('@[^\\s]+', ' ', new_text)\n",
    "    \n",
    "    return new_text"
   ]
  },
  {
   "cell_type": "code",
   "execution_count": 64,
   "id": "24ced5aa",
   "metadata": {},
   "outputs": [],
   "source": [
    "# tweets related to bitcoin\n",
    "tweets_analysis = tweets_df.copy()"
   ]
  },
  {
   "cell_type": "code",
   "execution_count": 65,
   "id": "bec41b3a",
   "metadata": {
    "scrolled": true
   },
   "outputs": [
    {
     "data": {
      "text/html": [
       "<div>\n",
       "<style scoped>\n",
       "    .dataframe tbody tr th:only-of-type {\n",
       "        vertical-align: middle;\n",
       "    }\n",
       "\n",
       "    .dataframe tbody tr th {\n",
       "        vertical-align: top;\n",
       "    }\n",
       "\n",
       "    .dataframe thead th {\n",
       "        text-align: right;\n",
       "    }\n",
       "</style>\n",
       "<table border=\"1\" class=\"dataframe\">\n",
       "  <thead>\n",
       "    <tr style=\"text-align: right;\">\n",
       "      <th></th>\n",
       "      <th>neg</th>\n",
       "      <th>neu</th>\n",
       "      <th>pos</th>\n",
       "      <th>compound</th>\n",
       "    </tr>\n",
       "  </thead>\n",
       "  <tbody>\n",
       "    <tr>\n",
       "      <th>0</th>\n",
       "      <td>0.000</td>\n",
       "      <td>1.000</td>\n",
       "      <td>0.0</td>\n",
       "      <td>0.0000</td>\n",
       "    </tr>\n",
       "    <tr>\n",
       "      <th>1</th>\n",
       "      <td>0.264</td>\n",
       "      <td>0.736</td>\n",
       "      <td>0.0</td>\n",
       "      <td>-0.5106</td>\n",
       "    </tr>\n",
       "    <tr>\n",
       "      <th>2</th>\n",
       "      <td>0.000</td>\n",
       "      <td>1.000</td>\n",
       "      <td>0.0</td>\n",
       "      <td>0.0000</td>\n",
       "    </tr>\n",
       "    <tr>\n",
       "      <th>3</th>\n",
       "      <td>0.000</td>\n",
       "      <td>1.000</td>\n",
       "      <td>0.0</td>\n",
       "      <td>0.0000</td>\n",
       "    </tr>\n",
       "    <tr>\n",
       "      <th>4</th>\n",
       "      <td>0.000</td>\n",
       "      <td>1.000</td>\n",
       "      <td>0.0</td>\n",
       "      <td>0.0000</td>\n",
       "    </tr>\n",
       "  </tbody>\n",
       "</table>\n",
       "</div>"
      ],
      "text/plain": [
       "     neg    neu  pos  compound\n",
       "0  0.000  1.000  0.0    0.0000\n",
       "1  0.264  0.736  0.0   -0.5106\n",
       "2  0.000  1.000  0.0    0.0000\n",
       "3  0.000  1.000  0.0    0.0000\n",
       "4  0.000  1.000  0.0    0.0000"
      ]
     },
     "execution_count": 65,
     "metadata": {},
     "output_type": "execute_result"
    }
   ],
   "source": [
    "# Polarity scores\n",
    "scores = pd.DataFrame(tweets_analysis[\"tweet\"].apply(lambda x: analyzer.polarity_scores(clean_text(x))).values.tolist())\n",
    "scores.head()"
   ]
  },
  {
   "cell_type": "code",
   "execution_count": 66,
   "id": "3b0a47b9",
   "metadata": {
    "scrolled": false
   },
   "outputs": [
    {
     "data": {
      "text/html": [
       "<div>\n",
       "<style scoped>\n",
       "    .dataframe tbody tr th:only-of-type {\n",
       "        vertical-align: middle;\n",
       "    }\n",
       "\n",
       "    .dataframe tbody tr th {\n",
       "        vertical-align: top;\n",
       "    }\n",
       "\n",
       "    .dataframe thead th {\n",
       "        text-align: right;\n",
       "    }\n",
       "</style>\n",
       "<table border=\"1\" class=\"dataframe\">\n",
       "  <thead>\n",
       "    <tr style=\"text-align: right;\">\n",
       "      <th></th>\n",
       "      <th>date</th>\n",
       "      <th>user</th>\n",
       "      <th>tweet</th>\n",
       "      <th>key_word</th>\n",
       "      <th>month</th>\n",
       "      <th>neg</th>\n",
       "      <th>neu</th>\n",
       "      <th>pos</th>\n",
       "      <th>compound</th>\n",
       "    </tr>\n",
       "  </thead>\n",
       "  <tbody>\n",
       "    <tr>\n",
       "      <th>0</th>\n",
       "      <td>2021-05-26</td>\n",
       "      <td>ancalerts</td>\n",
       "      <td>Bitcoin edges back from $40,000 as volatility ...</td>\n",
       "      <td>True</td>\n",
       "      <td>2021-05-01</td>\n",
       "      <td>0.000</td>\n",
       "      <td>1.000</td>\n",
       "      <td>0.0</td>\n",
       "      <td>0.0000</td>\n",
       "    </tr>\n",
       "    <tr>\n",
       "      <th>1</th>\n",
       "      <td>2021-05-26</td>\n",
       "      <td>ancalerts</td>\n",
       "      <td>Bitcoin mining can wane in China as green conc...</td>\n",
       "      <td>True</td>\n",
       "      <td>2021-05-01</td>\n",
       "      <td>0.264</td>\n",
       "      <td>0.736</td>\n",
       "      <td>0.0</td>\n",
       "      <td>-0.5106</td>\n",
       "    </tr>\n",
       "    <tr>\n",
       "      <th>2</th>\n",
       "      <td>2021-05-24</td>\n",
       "      <td>ancalerts</td>\n",
       "      <td>HSBC CEO says Bitcoin not for us  https://t.co...</td>\n",
       "      <td>True</td>\n",
       "      <td>2021-05-01</td>\n",
       "      <td>0.000</td>\n",
       "      <td>1.000</td>\n",
       "      <td>0.0</td>\n",
       "      <td>0.0000</td>\n",
       "    </tr>\n",
       "    <tr>\n",
       "      <th>3</th>\n",
       "      <td>2021-05-24</td>\n",
       "      <td>ancalerts</td>\n",
       "      <td>Crypto miners halt China business after Beijin...</td>\n",
       "      <td>True</td>\n",
       "      <td>2021-05-01</td>\n",
       "      <td>0.000</td>\n",
       "      <td>1.000</td>\n",
       "      <td>0.0</td>\n",
       "      <td>0.0000</td>\n",
       "    </tr>\n",
       "    <tr>\n",
       "      <th>4</th>\n",
       "      <td>2021-05-23</td>\n",
       "      <td>ancalerts</td>\n",
       "      <td>Bitcoin down almost 50 percent from year's hig...</td>\n",
       "      <td>True</td>\n",
       "      <td>2021-05-01</td>\n",
       "      <td>0.000</td>\n",
       "      <td>1.000</td>\n",
       "      <td>0.0</td>\n",
       "      <td>0.0000</td>\n",
       "    </tr>\n",
       "  </tbody>\n",
       "</table>\n",
       "</div>"
      ],
      "text/plain": [
       "        date       user                                              tweet  \\\n",
       "0 2021-05-26  ancalerts  Bitcoin edges back from $40,000 as volatility ...   \n",
       "1 2021-05-26  ancalerts  Bitcoin mining can wane in China as green conc...   \n",
       "2 2021-05-24  ancalerts  HSBC CEO says Bitcoin not for us  https://t.co...   \n",
       "3 2021-05-24  ancalerts  Crypto miners halt China business after Beijin...   \n",
       "4 2021-05-23  ancalerts  Bitcoin down almost 50 percent from year's hig...   \n",
       "\n",
       "  key_word      month    neg    neu  pos  compound  \n",
       "0     True 2021-05-01  0.000  1.000  0.0    0.0000  \n",
       "1     True 2021-05-01  0.264  0.736  0.0   -0.5106  \n",
       "2     True 2021-05-01  0.000  1.000  0.0    0.0000  \n",
       "3     True 2021-05-01  0.000  1.000  0.0    0.0000  \n",
       "4     True 2021-05-01  0.000  1.000  0.0    0.0000  "
      ]
     },
     "execution_count": 66,
     "metadata": {},
     "output_type": "execute_result"
    }
   ],
   "source": [
    "# Concate DataFrames\n",
    "tweets_analysis = pd.concat([tweets_analysis, scores], axis = 1)\n",
    "tweets_analysis.head()"
   ]
  },
  {
   "cell_type": "code",
   "execution_count": 67,
   "id": "6d9a3ae2",
   "metadata": {},
   "outputs": [],
   "source": [
    "# day tweets\n",
    "tweets_analysis[\"day\"] = pd.to_datetime(tweets_analysis[\"date\"].dt.strftime(\"%Y-%m-%d\"))"
   ]
  },
  {
   "cell_type": "code",
   "execution_count": null,
   "id": "469a1efa",
   "metadata": {
    "scrolled": true
   },
   "outputs": [],
   "source": [
    "# daily score\n",
    "daily_sentiment_score = tweets_analysis.groupby([\"day\"])[\"compound\"].agg([np.mean, np.min, np.max]).copy()\n",
    "daily_sentiment_score.columns = [\"sentiment_mean\", \"sentiment_amin\", \"sentiment_amax\"]\n",
    "daily_sentiment_score.plot()"
   ]
  },
  {
   "cell_type": "code",
   "execution_count": 44,
   "id": "e7233a51",
   "metadata": {},
   "outputs": [],
   "source": [
    "# Save score\n",
    "daily_sentiment_score.to_csv(os.path.join(path, \"data\", \"daily_sentiment_score.csv\"))"
   ]
  },
  {
   "cell_type": "code",
   "execution_count": 69,
   "id": "a32a9097",
   "metadata": {},
   "outputs": [],
   "source": [
    "# This is for Dash\n",
    "daily_sentiment_score.to_csv(os.path.join(path, \"data_dash\", \"6_sentiment_score.csv\"))"
   ]
  },
  {
   "cell_type": "code",
   "execution_count": null,
   "id": "582f8c0b",
   "metadata": {},
   "outputs": [],
   "source": []
  },
  {
   "cell_type": "code",
   "execution_count": null,
   "id": "179f62f5",
   "metadata": {},
   "outputs": [],
   "source": []
  },
  {
   "cell_type": "code",
   "execution_count": null,
   "id": "d777379d",
   "metadata": {},
   "outputs": [],
   "source": []
  },
  {
   "cell_type": "code",
   "execution_count": null,
   "id": "09cd6e1d",
   "metadata": {},
   "outputs": [],
   "source": []
  },
  {
   "cell_type": "code",
   "execution_count": null,
   "id": "882df9de",
   "metadata": {},
   "outputs": [],
   "source": []
  },
  {
   "cell_type": "code",
   "execution_count": null,
   "id": "e878d893",
   "metadata": {},
   "outputs": [],
   "source": []
  },
  {
   "cell_type": "code",
   "execution_count": null,
   "id": "6f3e65fe",
   "metadata": {},
   "outputs": [],
   "source": []
  },
  {
   "cell_type": "code",
   "execution_count": null,
   "id": "7b184def",
   "metadata": {},
   "outputs": [],
   "source": []
  },
  {
   "cell_type": "code",
   "execution_count": null,
   "id": "f8d3e998",
   "metadata": {},
   "outputs": [],
   "source": []
  },
  {
   "cell_type": "code",
   "execution_count": null,
   "id": "b751d7d1",
   "metadata": {},
   "outputs": [],
   "source": []
  },
  {
   "cell_type": "code",
   "execution_count": null,
   "id": "3cf8fd6a",
   "metadata": {},
   "outputs": [],
   "source": []
  },
  {
   "cell_type": "code",
   "execution_count": null,
   "id": "6886f56c",
   "metadata": {},
   "outputs": [],
   "source": []
  },
  {
   "cell_type": "code",
   "execution_count": null,
   "id": "7ec83dd6",
   "metadata": {},
   "outputs": [],
   "source": []
  },
  {
   "cell_type": "code",
   "execution_count": null,
   "id": "7890f045",
   "metadata": {},
   "outputs": [],
   "source": []
  },
  {
   "cell_type": "code",
   "execution_count": null,
   "id": "e77382ee",
   "metadata": {},
   "outputs": [],
   "source": []
  }
 ],
 "metadata": {
  "kernelspec": {
   "display_name": "Python 3",
   "language": "python",
   "name": "python3"
  },
  "language_info": {
   "codemirror_mode": {
    "name": "ipython",
    "version": 3
   },
   "file_extension": ".py",
   "mimetype": "text/x-python",
   "name": "python",
   "nbconvert_exporter": "python",
   "pygments_lexer": "ipython3",
   "version": "3.8.8"
  },
  "toc": {
   "base_numbering": 1,
   "nav_menu": {},
   "number_sections": false,
   "sideBar": true,
   "skip_h1_title": false,
   "title_cell": "Table of Contents",
   "title_sidebar": "Contents",
   "toc_cell": false,
   "toc_position": {},
   "toc_section_display": true,
   "toc_window_display": false
  }
 },
 "nbformat": 4,
 "nbformat_minor": 5
}
