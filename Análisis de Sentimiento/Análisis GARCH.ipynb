{
 "cells": [
  {
   "cell_type": "markdown",
   "id": "e064e04b",
   "metadata": {},
   "source": [
    "# 0. Carga de Datos"
   ]
  },
  {
   "cell_type": "code",
   "execution_count": 14,
   "id": "42349d02",
   "metadata": {
    "colab": {
     "base_uri": "https://localhost:8080/",
     "height": 128
    },
    "id": "42349d02",
    "outputId": "09286e96-ccdb-46b2-d1dc-ea1b537df891"
   },
   "outputs": [],
   "source": [
    "# Carga de Librerías\n",
    "library(plotly)\n",
    "library(timetk)\n",
    "library(tidyquant) \n",
    "library(ggplot2) \n",
    "library(tseries) \n",
    "library(dplyr) \n",
    "library(FinTS) \n",
    "library(rugarch) \n",
    "library(purrr) \n",
    "library(tidyr) \n",
    "library(highfrequency)\n",
    "library(xts) \n",
    "\n",
    "source(\"garch_functions.R\")"
   ]
  },
  {
   "cell_type": "code",
   "execution_count": 16,
   "id": "93f0e6b9",
   "metadata": {},
   "outputs": [
    {
     "data": {
      "text/html": [
       "<table class=\"dataframe\">\n",
       "<caption>A data.frame: 6 × 4</caption>\n",
       "<thead>\n",
       "\t<tr><th></th><th scope=col>date</th><th scope=col>close</th><th scope=col>volume</th><th scope=col>returns</th></tr>\n",
       "\t<tr><th></th><th scope=col>&lt;date&gt;</th><th scope=col>&lt;dbl&gt;</th><th scope=col>&lt;dbl&gt;</th><th scope=col>&lt;dbl&gt;</th></tr>\n",
       "</thead>\n",
       "<tbody>\n",
       "\t<tr><th scope=row>2</th><td>2018-01-01</td><td>14675.11</td><td>20078.09</td><td> 0.096794469</td></tr>\n",
       "\t<tr><th scope=row>3</th><td>2018-01-02</td><td>14919.51</td><td>15905.67</td><td> 0.016654049</td></tr>\n",
       "\t<tr><th scope=row>4</th><td>2018-01-03</td><td>15059.54</td><td>21329.65</td><td> 0.009385697</td></tr>\n",
       "\t<tr><th scope=row>5</th><td>2018-01-04</td><td>16960.39</td><td>23251.49</td><td> 0.126222315</td></tr>\n",
       "\t<tr><th scope=row>6</th><td>2018-01-05</td><td>17069.79</td><td>18571.46</td><td> 0.006450323</td></tr>\n",
       "\t<tr><th scope=row>7</th><td>2018-01-06</td><td>16150.03</td><td>12493.13</td><td>-0.053882327</td></tr>\n",
       "</tbody>\n",
       "</table>\n"
      ],
      "text/latex": [
       "A data.frame: 6 × 4\n",
       "\\begin{tabular}{r|llll}\n",
       "  & date & close & volume & returns\\\\\n",
       "  & <date> & <dbl> & <dbl> & <dbl>\\\\\n",
       "\\hline\n",
       "\t2 & 2018-01-01 & 14675.11 & 20078.09 &  0.096794469\\\\\n",
       "\t3 & 2018-01-02 & 14919.51 & 15905.67 &  0.016654049\\\\\n",
       "\t4 & 2018-01-03 & 15059.54 & 21329.65 &  0.009385697\\\\\n",
       "\t5 & 2018-01-04 & 16960.39 & 23251.49 &  0.126222315\\\\\n",
       "\t6 & 2018-01-05 & 17069.79 & 18571.46 &  0.006450323\\\\\n",
       "\t7 & 2018-01-06 & 16150.03 & 12493.13 & -0.053882327\\\\\n",
       "\\end{tabular}\n"
      ],
      "text/markdown": [
       "\n",
       "A data.frame: 6 × 4\n",
       "\n",
       "| <!--/--> | date &lt;date&gt; | close &lt;dbl&gt; | volume &lt;dbl&gt; | returns &lt;dbl&gt; |\n",
       "|---|---|---|---|---|\n",
       "| 2 | 2018-01-01 | 14675.11 | 20078.09 |  0.096794469 |\n",
       "| 3 | 2018-01-02 | 14919.51 | 15905.67 |  0.016654049 |\n",
       "| 4 | 2018-01-03 | 15059.54 | 21329.65 |  0.009385697 |\n",
       "| 5 | 2018-01-04 | 16960.39 | 23251.49 |  0.126222315 |\n",
       "| 6 | 2018-01-05 | 17069.79 | 18571.46 |  0.006450323 |\n",
       "| 7 | 2018-01-06 | 16150.03 | 12493.13 | -0.053882327 |\n",
       "\n"
      ],
      "text/plain": [
       "  date       close    volume   returns     \n",
       "2 2018-01-01 14675.11 20078.09  0.096794469\n",
       "3 2018-01-02 14919.51 15905.67  0.016654049\n",
       "4 2018-01-03 15059.54 21329.65  0.009385697\n",
       "5 2018-01-04 16960.39 23251.49  0.126222315\n",
       "6 2018-01-05 17069.79 18571.46  0.006450323\n",
       "7 2018-01-06 16150.03 12493.13 -0.053882327"
      ]
     },
     "metadata": {},
     "output_type": "display_data"
    }
   ],
   "source": [
    "# Cargar precios de Bitcoin\n",
    "path <- \"C:/Users/ferro/Desktop/VeranoCIMAT/Análisis de Sentimiento/data\"\n",
    "file <- \"prices.csv\"\n",
    "btc <- read.csv(paste0(path, \"/\", file))\n",
    "\n",
    "# Tipo de datos y Remobrar columnas\n",
    "btc <- btc %>% mutate(date = as.Date(date)) %>%\n",
    "               select(\"date\":\"volume\")\n",
    "\n",
    "# Cálculo de Log-Rendimientos\n",
    "btc <- mutate(btc, returns = close/lag(close)-1)\n",
    "btc <- na.omit(btc)\n",
    "\n",
    "head(btc)"
   ]
  },
  {
   "cell_type": "code",
   "execution_count": 17,
   "id": "d20e5c15",
   "metadata": {},
   "outputs": [
    {
     "data": {
      "text/html": [
       "<table class=\"dataframe\">\n",
       "<caption>A matrix: 6 × 3 of type dbl</caption>\n",
       "<thead>\n",
       "\t<tr><th scope=col>sentiment_mean</th><th scope=col>sentiment_amin</th><th scope=col>sentiment_amax</th></tr>\n",
       "</thead>\n",
       "<tbody>\n",
       "\t<tr><td>-0.15339167</td><td>-0.5423</td><td>0.1531</td></tr>\n",
       "\t<tr><td>-0.11503462</td><td>-0.7501</td><td>0.4019</td></tr>\n",
       "\t<tr><td> 0.06728333</td><td>-0.5423</td><td>0.5859</td></tr>\n",
       "\t<tr><td> 0.01455312</td><td>-0.8425</td><td>0.6249</td></tr>\n",
       "\t<tr><td> 0.14331818</td><td> 0.0000</td><td>0.6249</td></tr>\n",
       "\t<tr><td>-0.18973750</td><td>-0.5267</td><td>0.1779</td></tr>\n",
       "</tbody>\n",
       "</table>\n"
      ],
      "text/latex": [
       "A matrix: 6 × 3 of type dbl\n",
       "\\begin{tabular}{lll}\n",
       " sentiment\\_mean & sentiment\\_amin & sentiment\\_amax\\\\\n",
       "\\hline\n",
       "\t -0.15339167 & -0.5423 & 0.1531\\\\\n",
       "\t -0.11503462 & -0.7501 & 0.4019\\\\\n",
       "\t  0.06728333 & -0.5423 & 0.5859\\\\\n",
       "\t  0.01455312 & -0.8425 & 0.6249\\\\\n",
       "\t  0.14331818 &  0.0000 & 0.6249\\\\\n",
       "\t -0.18973750 & -0.5267 & 0.1779\\\\\n",
       "\\end{tabular}\n"
      ],
      "text/markdown": [
       "\n",
       "A matrix: 6 × 3 of type dbl\n",
       "\n",
       "| sentiment_mean | sentiment_amin | sentiment_amax |\n",
       "|---|---|---|\n",
       "| -0.15339167 | -0.5423 | 0.1531 |\n",
       "| -0.11503462 | -0.7501 | 0.4019 |\n",
       "|  0.06728333 | -0.5423 | 0.5859 |\n",
       "|  0.01455312 | -0.8425 | 0.6249 |\n",
       "|  0.14331818 |  0.0000 | 0.6249 |\n",
       "| -0.18973750 | -0.5267 | 0.1779 |\n",
       "\n"
      ],
      "text/plain": [
       "     sentiment_mean sentiment_amin sentiment_amax\n",
       "[1,] -0.15339167    -0.5423        0.1531        \n",
       "[2,] -0.11503462    -0.7501        0.4019        \n",
       "[3,]  0.06728333    -0.5423        0.5859        \n",
       "[4,]  0.01455312    -0.8425        0.6249        \n",
       "[5,]  0.14331818     0.0000        0.6249        \n",
       "[6,] -0.18973750    -0.5267        0.1779        "
      ]
     },
     "metadata": {},
     "output_type": "display_data"
    }
   ],
   "source": [
    "# Score del Análisis de Sentimiento\n",
    "daily_sentiment_score <- read.csv(paste0(path, \"/\", \"daily_sentiment_score.csv\"))\n",
    "daily_sentiment_score <- daily_sentiment_score %>% mutate(day = as.Date(day))\n",
    "\n",
    "# Left Join\n",
    "btc <- merge(x = btc, y = daily_sentiment_score, by.x = \"date\", by.y = \"day\", all.x = TRUE)\n",
    "\n",
    "# Llenando NA de los regresores con cero\n",
    "regressors = c(\"sentiment_mean\", \"sentiment_amin\", \"sentiment_amax\")\n",
    "btc[regressors][is.na(btc[regressors])] <- 0\n",
    "\n",
    "# Matriz de los regresores\n",
    "btc_sentiment <- data.matrix(btc[regressors])\n",
    "\n",
    "head(btc_sentiment)"
   ]
  },
  {
   "cell_type": "markdown",
   "id": "db661cb5",
   "metadata": {},
   "source": [
    "# 1 Análisis Exploratorio"
   ]
  },
  {
   "cell_type": "code",
   "execution_count": 18,
   "id": "6f06c37e",
   "metadata": {},
   "outputs": [
    {
     "data": {
      "text/html": [
       "<table class=\"dataframe\">\n",
       "<caption>A matrix: 1 × 1 of type dbl</caption>\n",
       "<thead>\n",
       "\t<tr><th></th><th scope=col>close</th></tr>\n",
       "</thead>\n",
       "<tbody>\n",
       "\t<tr><th scope=row>sentiment_mean</th><td>0.02473297</td></tr>\n",
       "</tbody>\n",
       "</table>\n"
      ],
      "text/latex": [
       "A matrix: 1 × 1 of type dbl\n",
       "\\begin{tabular}{r|l}\n",
       "  & close\\\\\n",
       "\\hline\n",
       "\tsentiment\\_mean & 0.02473297\\\\\n",
       "\\end{tabular}\n"
      ],
      "text/markdown": [
       "\n",
       "A matrix: 1 × 1 of type dbl\n",
       "\n",
       "| <!--/--> | close |\n",
       "|---|---|\n",
       "| sentiment_mean | 0.02473297 |\n",
       "\n"
      ],
      "text/plain": [
       "               close     \n",
       "sentiment_mean 0.02473297"
      ]
     },
     "metadata": {},
     "output_type": "display_data"
    }
   ],
   "source": [
    "# Correlación entre score y precio de btc\n",
    "cor(btc[\"sentiment_mean\"], btc[\"close\"])"
   ]
  },
  {
   "cell_type": "code",
   "execution_count": null,
   "id": "0eaae936",
   "metadata": {
    "colab": {
     "base_uri": "https://localhost:8080/",
     "height": 437
    },
    "id": "0eaae936",
    "outputId": "c6546631-2ca4-4aa0-ae3f-035e2a66620b"
   },
   "outputs": [],
   "source": [
    "# Gráfica de los precio del BTC\n",
    "price_plot <- btc %>% ggplot(aes(x = date, y = close)) + \n",
    "                      geom_line() +\n",
    "                      theme_classic() +\n",
    "                      labs(x = 'Date',\n",
    "                           y = \"Close Price\",\n",
    "                           title = \"BTC price chart\")\n",
    "\n",
    "ggplotly(price_plot)"
   ]
  },
  {
   "cell_type": "code",
   "execution_count": 20,
   "id": "15e30534",
   "metadata": {},
   "outputs": [
    {
     "name": "stdout",
     "output_type": "stream",
     "text": [
      "[1] \"PRECIOS - USD\"\n",
      "[1] \"Mínimo histórico (en este periódo):     3211.72\"\n",
      "[1] \"Máximo histórico (en este periódo):     63575\"\n",
      "[1] \"Promedio histórico (en este periódo):   13433.5198476343\"\n"
     ]
    }
   ],
   "source": [
    "# Esto se puede cambiar por tablas en Python\n",
    "print('PRECIOS - USD')\n",
    "print(paste0(\"Mínimo histórico (en este periódo):     \", min(btc$close)))\n",
    "print(paste0(\"Máximo histórico (en este periódo):     \", max(btc$close)))\n",
    "print(paste0(\"Promedio histórico (en este periódo):   \", mean(btc$close)))"
   ]
  },
  {
   "cell_type": "code",
   "execution_count": 21,
   "id": "8f2ea5fd",
   "metadata": {},
   "outputs": [
    {
     "name": "stdout",
     "output_type": "stream",
     "text": [
      "[1] \"RENDIMIENTOS (EFECTVIOS)\"\n",
      "[1] \"Mínimo histórico (en este periódo):     -0.395048471741202\"\n",
      "[1] \"Máximo histórico (en este periódo):     0.195361391948436\"\n",
      "[1] \"Promedio histórico (en este periódo):   0.00167334235620222\"\n"
     ]
    }
   ],
   "source": [
    "# Esto se puede cambiar por tablas en Python\n",
    "print('RENDIMIENTOS (EFECTVIOS)')\n",
    "print(paste0(\"Mínimo histórico (en este periódo):     \", min(btc$returns)))\n",
    "print(paste0(\"Máximo histórico (en este periódo):     \", max(btc$returns)))\n",
    "print(paste0(\"Promedio histórico (en este periódo):   \", mean(btc$returns)))"
   ]
  },
  {
   "cell_type": "code",
   "execution_count": null,
   "id": "7d32436b",
   "metadata": {
    "id": "7d32436b",
    "scrolled": true
   },
   "outputs": [],
   "source": [
    "# Gráfica de rendimientos del BTC\n",
    "ret_plot <- btc %>% ggplot(aes(x = date, y = returns)) +\n",
    "                    geom_line() +\n",
    "                    theme_classic() +\n",
    "                    labs(x = 'Date',\n",
    "                         y = \"Close Price\",\n",
    "                         title = \"BTC price chart\")\n",
    "\n",
    "ggplotly(ret_plot)"
   ]
  },
  {
   "cell_type": "code",
   "execution_count": 23,
   "id": "5002b3a7",
   "metadata": {
    "id": "5002b3a7"
   },
   "outputs": [],
   "source": [
    "# Rendimientos del BTC a objeto xts\n",
    "btc_returns <- xts(btc$returns, order.by = btc$date) "
   ]
  },
  {
   "cell_type": "code",
   "execution_count": 24,
   "id": "afb094d6",
   "metadata": {
    "colab": {
     "base_uri": "https://localhost:8080/",
     "height": 437
    },
    "id": "afb094d6",
    "outputId": "a2674c3f-c777-47aa-c442-1e9c63cb713e"
   },
   "outputs": [
    {
     "data": {
      "image/png": "[encoded data removed]",
      "text/plain": [
       "Plot with title \"Series  btc_returns\""
      ]
     },
     "metadata": {
      "image/png": {
       "height": 420,
       "width": 420
      }
     },
     "output_type": "display_data"
    }
   ],
   "source": [
    "acf(btc_returns)"
   ]
  },
  {
   "cell_type": "markdown",
   "id": "62a2a81d",
   "metadata": {
    "id": "62a2a81d"
   },
   "source": [
    "# 2. GARCH"
   ]
  },
  {
   "cell_type": "markdown",
   "id": "41a2eb4d",
   "metadata": {},
   "source": [
    "## 2.1 Test para volatilidad homocedástica"
   ]
  },
  {
   "cell_type": "code",
   "execution_count": 36,
   "id": "16776571",
   "metadata": {},
   "outputs": [
    {
     "data": {
      "image/png": "[encoded data removed]",
      "text/plain": [
       "Plot with title \"Series  btc_returns^2\""
      ]
     },
     "metadata": {
      "image/png": {
       "height": 420,
       "width": 420
      }
     },
     "output_type": "display_data"
    }
   ],
   "source": [
    "# Tenemos un rezago significativo, podemos proponer un GARCH(1,1)\n",
    "acf(btc_returns**2)"
   ]
  },
  {
   "cell_type": "markdown",
   "id": "70b3014d",
   "metadata": {
    "id": "70b3014d"
   },
   "source": [
    "![image.png](attachment:image.png)"
   ]
  },
  {
   "cell_type": "markdown",
   "id": "c603d510",
   "metadata": {
    "id": "c603d510"
   },
   "source": [
    "**Programando el test desde cero**"
   ]
  },
  {
   "cell_type": "markdown",
   "id": "c043b710",
   "metadata": {
    "id": "c043b710"
   },
   "source": [
    "Tenemos un rezago significativo pero podemos usar más, en este caso 4"
   ]
  },
  {
   "cell_type": "markdown",
   "id": "283239b7",
   "metadata": {
    "id": "283239b7"
   },
   "source": [
    "El test es definido por:\n",
    "$$H_0: \\hat{\\alpha}_1 = \\dots = \\hat{\\alpha}_4 = 0$$\n",
    "Dónde $$\\hat{X}_t^2 = \\hat{\\alpha}_0 + \\hat{\\alpha}_1X_{t-1}^2 + \\dots + \\hat{\\alpha}_4X_{t-4}^2$$"
   ]
  },
  {
   "cell_type": "code",
   "execution_count": 37,
   "id": "c6629de7",
   "metadata": {
    "id": "c6629de7"
   },
   "outputs": [],
   "source": [
    "# Obervaciones de 4 rezagos\n",
    "n <- length(btc$returns)\n",
    "lag <- 4 \n",
    "x1 <- c(0, lag(btc$returns)[2:n])\n",
    "x2 <- c(0, lag(x1)[2:n])\n",
    "x3 <- c(0, lag(x2)[2:n])\n",
    "x4 <- c(0, lag(x3)[2:n])\n",
    "x1 <- x1[lag + 1:n]\n",
    "x2 <- x2[lag + 1:n]\n",
    "x3 <- x3[lag + 1:n]\n",
    "x4 <- x4[lag + 1:n]\n",
    "btc_test <- btc$returns[lag + 1:n]"
   ]
  },
  {
   "cell_type": "code",
   "execution_count": 38,
   "id": "6a34eee5",
   "metadata": {
    "colab": {
     "base_uri": "https://localhost:8080/",
     "height": 386
    },
    "id": "6a34eee5",
    "outputId": "3457f978-6c3d-422a-fb30-3ea05db05255"
   },
   "outputs": [
    {
     "data": {
      "text/plain": [
       "\n",
       "Call:\n",
       "lm(formula = I(btc_test^2) ~ I(x1^2) + I(x2^2) + I(x3^2) + I(x4^2))\n",
       "\n",
       "Residuals:\n",
       "      Min        1Q    Median        3Q       Max \n",
       "-0.010076 -0.001383 -0.001216 -0.000254  0.154026 \n",
       "\n",
       "Coefficients:\n",
       "             Estimate Std. Error t value Pr(>|t|)    \n",
       "(Intercept) 0.0013113  0.0001788   7.334 4.03e-13 ***\n",
       "I(x1^2)     0.1171336  0.0282580   4.145 3.63e-05 ***\n",
       "I(x2^2)     0.0118298  0.0284486   0.416  0.67760    \n",
       "I(x3^2)     0.0063653  0.0284472   0.224  0.82298    \n",
       "I(x4^2)     0.0783012  0.0282342   2.773  0.00563 ** \n",
       "---\n",
       "Signif. codes:  0 '***' 0.001 '**' 0.01 '*' 0.05 '.' 0.1 ' ' 1\n",
       "\n",
       "Residual standard error: 0.005534 on 1238 degrees of freedom\n",
       "  (4 observations deleted due to missingness)\n",
       "Multiple R-squared:  0.02114,\tAdjusted R-squared:  0.01798 \n",
       "F-statistic: 6.685 on 4 and 1238 DF,  p-value: 2.538e-05\n"
      ]
     },
     "metadata": {},
     "output_type": "display_data"
    }
   ],
   "source": [
    "# Modelo de regresión\n",
    "x_2_model <- lm(I(btc_test**2) ~ I(x1**2) + I(x2**2) + I(x3**2) + I(x4**2))\n",
    "summary(x_2_model)"
   ]
  },
  {
   "cell_type": "code",
   "execution_count": 39,
   "id": "6e634246",
   "metadata": {
    "colab": {
     "base_uri": "https://localhost:8080/",
     "height": 50
    },
    "id": "6e634246",
    "outputId": "5e3bec81-bc5f-4e6d-ab7b-b4ae2c78fcd8",
    "scrolled": true
   },
   "outputs": [
    {
     "data": {
      "text/html": [
       "0.0211415010208067"
      ],
      "text/latex": [
       "0.0211415010208067"
      ],
      "text/markdown": [
       "0.0211415010208067"
      ],
      "text/plain": [
       "[1] 0.0211415"
      ]
     },
     "metadata": {},
     "output_type": "display_data"
    },
    {
     "data": {
      "text/html": [
       "26.2788857688627"
      ],
      "text/latex": [
       "26.2788857688627"
      ],
      "text/markdown": [
       "26.2788857688627"
      ],
      "text/plain": [
       "[1] 26.27889"
      ]
     },
     "metadata": {},
     "output_type": "display_data"
    }
   ],
   "source": [
    "(r_squared <- summary(x_2_model)$r.squared)\n",
    "(statistic <- (n-lag)*r_squared)"
   ]
  },
  {
   "cell_type": "code",
   "execution_count": 40,
   "id": "2d028928",
   "metadata": {
    "colab": {
     "base_uri": "https://localhost:8080/"
    },
    "id": "2d028928",
    "outputId": "e3dd60d6-97bb-48aa-ce89-83da88d5c135"
   },
   "outputs": [
    {
     "name": "stdout",
     "output_type": "stream",
     "text": [
      "[1] \"p_value: 2.77999975691889e-05\"\n"
     ]
    }
   ],
   "source": [
    "# Usamos 4 rezagos\n",
    "print(paste0(\"p_value: \", 1 - pchisq(statistic, lag)))"
   ]
  },
  {
   "cell_type": "markdown",
   "id": "9636fb81",
   "metadata": {
    "id": "9636fb81"
   },
   "source": [
    "We have ARCH effect"
   ]
  },
  {
   "cell_type": "markdown",
   "id": "443d585e",
   "metadata": {
    "id": "443d585e"
   },
   "source": [
    "**Test implemented in R**"
   ]
  },
  {
   "cell_type": "code",
   "execution_count": 41,
   "id": "62b30f53",
   "metadata": {
    "colab": {
     "base_uri": "https://localhost:8080/",
     "height": 101
    },
    "id": "62b30f53",
    "outputId": "7b07c7df-2f73-41da-cae3-e1ceae920f98"
   },
   "outputs": [
    {
     "data": {
      "text/plain": [
       "\n",
       "\tARCH LM-test; Null hypothesis: no ARCH effects\n",
       "\n",
       "data:  btc_returns\n",
       "Chi-squared = 26.279, df = 4, p-value = 2.78e-05\n"
      ]
     },
     "metadata": {},
     "output_type": "display_data"
    }
   ],
   "source": [
    "# Test implementado en FinTest\n",
    "ArchTest(btc_returns, lags = 4)"
   ]
  },
  {
   "cell_type": "markdown",
   "id": "51a2b0a9",
   "metadata": {
    "id": "51a2b0a9"
   },
   "source": [
    "**Conclusión:** Tenemos efectos ARCH (Varianza Heterocedástica) en nuestra serie de tiempo de los rendimientos, esto era esperado ya que en la gráfica de los rendimientos se notaban grupos de volatilidad."
   ]
  },
  {
   "cell_type": "markdown",
   "id": "04c46b48",
   "metadata": {
    "id": "04c46b48"
   },
   "source": [
    "## 2.2 Especificación del modelo GARCH"
   ]
  },
  {
   "cell_type": "markdown",
   "id": "5781ccb8",
   "metadata": {
    "id": "5781ccb8"
   },
   "source": [
    "Time series test. Since an ARCH(p) implies that {Xf}\n",
    "follows an\n",
    "AR(p), one can use the Box-Jenkins approach to study the correlation\n",
    "structure of X% to identify the AR properties.\n",
    "\n",
    "I think this acf suggest a GARCH(1,1) model"
   ]
  },
  {
   "cell_type": "markdown",
   "id": "6a37e344",
   "metadata": {
    "id": "6a37e344"
   },
   "source": [
    "### 2.2.1 sGARCH(1,1) - ged"
   ]
  },
  {
   "cell_type": "code",
   "execution_count": 132,
   "id": "d4993a4d",
   "metadata": {
    "id": "d4993a4d",
    "scrolled": false
   },
   "outputs": [
    {
     "data": {
      "text/plain": [
       "\n",
       "*---------------------------------*\n",
       "*          GARCH Model Fit        *\n",
       "*---------------------------------*\n",
       "\n",
       "Conditional Variance Dynamics \t\n",
       "-----------------------------------\n",
       "GARCH Model\t: sGARCH(1,1)\n",
       "Mean Model\t: ARFIMA(0,0,0)\n",
       "Distribution\t: ged \n",
       "\n",
       "Optimal Parameters\n",
       "------------------------------------\n",
       "        Estimate  Std. Error  t value Pr(>|t|)\n",
       "mu      0.001615    0.000243   6.6430 0.000000\n",
       "omega   0.000026    0.000013   1.9468 0.051560\n",
       "alpha1  0.075346    0.020136   3.7418 0.000183\n",
       "beta1   0.913272    0.021973  41.5634 0.000000\n",
       "shape   0.876015    0.042934  20.4038 0.000000\n",
       "\n",
       "Robust Standard Errors:\n",
       "        Estimate  Std. Error  t value Pr(>|t|)\n",
       "mu      0.001615    0.000097  16.7158 0.000000\n",
       "omega   0.000026    0.000015   1.7046 0.088263\n",
       "alpha1  0.075346    0.023021   3.2729 0.001065\n",
       "beta1   0.913272    0.022917  39.8520 0.000000\n",
       "shape   0.876015    0.055376  15.8194 0.000000\n",
       "\n",
       "LogLikelihood : 2268.988 \n",
       "\n",
       "Information Criteria\n",
       "------------------------------------\n",
       "                    \n",
       "Akaike       -3.9477\n",
       "Bayes        -3.9257\n",
       "Shibata      -3.9477\n",
       "Hannan-Quinn -3.9394\n",
       "\n",
       "Weighted Ljung-Box Test on Standardized Residuals\n",
       "------------------------------------\n",
       "                        statistic p-value\n",
       "Lag[1]                     0.1453  0.7031\n",
       "Lag[2*(p+q)+(p+q)-1][2]    1.9500  0.2712\n",
       "Lag[4*(p+q)+(p+q)-1][5]    4.6058  0.1876\n",
       "d.o.f=0\n",
       "H0 : No serial correlation\n",
       "\n",
       "Weighted Ljung-Box Test on Standardized Squared Residuals\n",
       "------------------------------------\n",
       "                        statistic p-value\n",
       "Lag[1]                     0.0574  0.8107\n",
       "Lag[2*(p+q)+(p+q)-1][5]    0.9778  0.8647\n",
       "Lag[4*(p+q)+(p+q)-1][9]    1.5289  0.9532\n",
       "d.o.f=2\n",
       "\n",
       "Weighted ARCH LM Tests\n",
       "------------------------------------\n",
       "            Statistic Shape Scale P-Value\n",
       "ARCH Lag[3]    0.4604 0.500 2.000  0.4975\n",
       "ARCH Lag[5]    1.4378 1.440 1.667  0.6088\n",
       "ARCH Lag[7]    1.5969 2.315 1.543  0.8017\n",
       "\n",
       "Nyblom stability test\n",
       "------------------------------------\n",
       "Joint Statistic:  0.9993\n",
       "Individual Statistics:              \n",
       "mu     0.26168\n",
       "omega  0.09008\n",
       "alpha1 0.15294\n",
       "beta1  0.12790\n",
       "shape  0.34523\n",
       "\n",
       "Asymptotic Critical Values (10% 5% 1%)\n",
       "Joint Statistic:     \t 1.28 1.47 1.88\n",
       "Individual Statistic:\t 0.35 0.47 0.75\n",
       "\n",
       "Sign Bias Test\n",
       "------------------------------------\n",
       "                   t-value   prob sig\n",
       "Sign Bias          1.55277 0.1208    \n",
       "Negative Sign Bias 0.02743 0.9781    \n",
       "Positive Sign Bias 1.63214 0.1029    \n",
       "Joint Effect       3.67047 0.2993    \n",
       "\n",
       "\n",
       "Adjusted Pearson Goodness-of-Fit Test:\n",
       "------------------------------------\n",
       "  group statistic p-value(g-1)\n",
       "1    20     33.80      0.01939\n",
       "2    30     36.29      0.16536\n",
       "3    40     50.31      0.10590\n",
       "4    50     62.72      0.09006\n",
       "\n",
       "\n",
       "Elapsed time : 0.4993298 \n"
      ]
     },
     "metadata": {},
     "output_type": "display_data"
    }
   ],
   "source": [
    "# Modelo con regresores del promedio de score de varios usuarios\n",
    "my_spec_sgarch <- ugarchspec(variance.model = list(model = \"sGARCH\", \n",
    "                                           garchOrder = c(1, 1)),\n",
    "                      mean.model = list(armaOrder = c(0, 0)), \n",
    "                      distribution = \"ged\")\n",
    "my_sgarch <- ugarchfit(spec = my_spec_sgarch, data = btc_returns, out.sample = 100)\n",
    "my_sgarch"
   ]
  },
  {
   "cell_type": "code",
   "execution_count": 133,
   "id": "3aa29495",
   "metadata": {},
   "outputs": [],
   "source": [
    "path_tables_latex = \"C:/Users/ferro/Desktop/VeranoCIMAT/Análisis de Sentimiento/tables_latex\"\n",
    "write.csv(rugarch::signbias(my_sgarch), paste0(path_tables_latex,\"/sign_test.csv\"))"
   ]
  },
  {
   "cell_type": "markdown",
   "id": "194f88ef",
   "metadata": {
    "id": "194f88ef"
   },
   "source": [
    "### 2.2.2 Selecting best model"
   ]
  },
  {
   "cell_type": "code",
   "execution_count": 109,
   "id": "5b33650c",
   "metadata": {
    "id": "5b33650c"
   },
   "outputs": [],
   "source": [
    "# Rejilla de hiperparámetros\n",
    "grid_models <- expand_grid(model = c('sGARCH'),\n",
    "                          lag_arch = 1,\n",
    "                          lag_garch = 1,\n",
    "                          lag_ar = 0:2,\n",
    "                          lag_ma = 0:2,\n",
    "                          distribution = c(\"ged\", \"std\", \"sstd\"))\n",
    "list_models <- purrr::transpose(grid_models)"
   ]
  },
  {
   "cell_type": "code",
   "execution_count": 110,
   "id": "e22a6891",
   "metadata": {
    "colab": {
     "base_uri": "https://localhost:8080/",
     "height": 1000
    },
    "id": "e22a6891",
    "outputId": "57c9204d-60a2-48df-d5e0-fd661b96ff16"
   },
   "outputs": [],
   "source": [
    "# Ajustando los modelos \n",
    "options(warn = -1) # Turn Off Warnings\n",
    "garch_models <- garch_grid(list_models, btc_returns) # No toma en cuenta el out.sample = 100\n",
    "options(warn = 0) # Turn On"
   ]
  },
  {
   "cell_type": "code",
   "execution_count": 111,
   "id": "4627061a",
   "metadata": {},
   "outputs": [
    {
     "data": {
      "text/html": [
       "<dl>\n",
       "\t<dt>$best_AIC</dt>\n",
       "\t\t<dd><table class=\"dataframe\">\n",
       "<caption>A tibble: 1 × 3</caption>\n",
       "<thead>\n",
       "\t<tr><th scope=col>model</th><th scope=col>AIC</th><th scope=col>BIC</th></tr>\n",
       "\t<tr><th scope=col>&lt;chr&gt;</th><th scope=col>&lt;dbl&gt;</th><th scope=col>&lt;dbl&gt;</th></tr>\n",
       "</thead>\n",
       "<tbody>\n",
       "\t<tr><td>ARMA(1,1) + sGARCH(1,1) ged</td><td>-3.917584</td><td>-3.888795</td></tr>\n",
       "</tbody>\n",
       "</table>\n",
       "</dd>\n",
       "\t<dt>$best_BIC</dt>\n",
       "\t\t<dd><table class=\"dataframe\">\n",
       "<caption>A tibble: 1 × 3</caption>\n",
       "<thead>\n",
       "\t<tr><th scope=col>model</th><th scope=col>AIC</th><th scope=col>BIC</th></tr>\n",
       "\t<tr><th scope=col>&lt;chr&gt;</th><th scope=col>&lt;dbl&gt;</th><th scope=col>&lt;dbl&gt;</th></tr>\n",
       "</thead>\n",
       "<tbody>\n",
       "\t<tr><td>ARMA(1,0) + sGARCH(1,1) ged</td><td>-3.917503</td><td>-3.892827</td></tr>\n",
       "</tbody>\n",
       "</table>\n",
       "</dd>\n",
       "\t<dt>$all_models</dt>\n",
       "\t\t<dd><table class=\"dataframe\">\n",
       "<caption>A tibble: 27 × 3</caption>\n",
       "<thead>\n",
       "\t<tr><th scope=col>model</th><th scope=col>AIC</th><th scope=col>BIC</th></tr>\n",
       "\t<tr><th scope=col>&lt;chr&gt;</th><th scope=col>&lt;dbl&gt;</th><th scope=col>&lt;dbl&gt;</th></tr>\n",
       "</thead>\n",
       "<tbody>\n",
       "\t<tr><td>ARMA(0,0) + sGARCH(1,1) ged </td><td>-3.905244</td><td>-3.884680</td></tr>\n",
       "\t<tr><td>ARMA(0,0) + sGARCH(1,1) std </td><td>-3.908527</td><td>-3.887963</td></tr>\n",
       "\t<tr><td>ARMA(0,0) + sGARCH(1,1) sstd</td><td>-3.907154</td><td>-3.882478</td></tr>\n",
       "\t<tr><td>ARMA(0,1) + sGARCH(1,1) ged </td><td>-3.916228</td><td>-3.891552</td></tr>\n",
       "\t<tr><td>ARMA(0,1) + sGARCH(1,1) std </td><td>-3.914986</td><td>-3.890310</td></tr>\n",
       "\t<tr><td>ARMA(0,1) + sGARCH(1,1) sstd</td><td>-3.913496</td><td>-3.884707</td></tr>\n",
       "\t<tr><td>ARMA(0,2) + sGARCH(1,1) ged </td><td>-3.916827</td><td>-3.888038</td></tr>\n",
       "\t<tr><td>ARMA(0,2) + sGARCH(1,1) std </td><td>-3.917152</td><td>-3.888364</td></tr>\n",
       "\t<tr><td>ARMA(0,2) + sGARCH(1,1) sstd</td><td>-3.915652</td><td>-3.882751</td></tr>\n",
       "\t<tr><td>ARMA(1,0) + sGARCH(1,1) ged </td><td>-3.917503</td><td>-3.892827</td></tr>\n",
       "\t<tr><td>ARMA(1,0) + sGARCH(1,1) std </td><td>-3.915931</td><td>-3.891255</td></tr>\n",
       "\t<tr><td>ARMA(1,0) + sGARCH(1,1) sstd</td><td>-3.914432</td><td>-3.885643</td></tr>\n",
       "\t<tr><td>ARMA(1,1) + sGARCH(1,1) ged </td><td>-3.917584</td><td>-3.888795</td></tr>\n",
       "\t<tr><td>ARMA(1,1) + sGARCH(1,1) std </td><td>-3.916702</td><td>-3.887913</td></tr>\n",
       "\t<tr><td>ARMA(1,1) + sGARCH(1,1) sstd</td><td>-3.915198</td><td>-3.882297</td></tr>\n",
       "\t<tr><td>ARMA(1,2) + sGARCH(1,1) ged </td><td>-3.915334</td><td>-3.882433</td></tr>\n",
       "\t<tr><td>ARMA(1,2) + sGARCH(1,1) std </td><td>-3.915593</td><td>-3.882691</td></tr>\n",
       "\t<tr><td>ARMA(1,2) + sGARCH(1,1) sstd</td><td>-3.914091</td><td>-3.877077</td></tr>\n",
       "\t<tr><td>ARMA(2,0) + sGARCH(1,1) ged </td><td>-3.917301</td><td>-3.888513</td></tr>\n",
       "\t<tr><td>ARMA(2,0) + sGARCH(1,1) std </td><td>-3.917189</td><td>-3.888401</td></tr>\n",
       "\t<tr><td>ARMA(2,0) + sGARCH(1,1) sstd</td><td>-3.915685</td><td>-3.882784</td></tr>\n",
       "\t<tr><td>ARMA(2,1) + sGARCH(1,1) ged </td><td>-3.915703</td><td>-3.882802</td></tr>\n",
       "\t<tr><td>ARMA(2,1) + sGARCH(1,1) std </td><td>-3.915845</td><td>-3.882944</td></tr>\n",
       "\t<tr><td>ARMA(2,1) + sGARCH(1,1) sstd</td><td>-3.914339</td><td>-3.877325</td></tr>\n",
       "\t<tr><td>ARMA(2,2) + sGARCH(1,1) ged </td><td>-3.914578</td><td>-3.877564</td></tr>\n",
       "\t<tr><td>ARMA(2,2) + sGARCH(1,1) std </td><td>-3.915049</td><td>-3.878035</td></tr>\n",
       "\t<tr><td>ARMA(2,2) + sGARCH(1,1) sstd</td><td>-3.913516</td><td>-3.872389</td></tr>\n",
       "</tbody>\n",
       "</table>\n",
       "</dd>\n",
       "</dl>\n"
      ],
      "text/latex": [
       "\\begin{description}\n",
       "\\item[\\$best\\_AIC] A tibble: 1 × 3\n",
       "\\begin{tabular}{lll}\n",
       " model & AIC & BIC\\\\\n",
       " <chr> & <dbl> & <dbl>\\\\\n",
       "\\hline\n",
       "\t ARMA(1,1) + sGARCH(1,1) ged & -3.917584 & -3.888795\\\\\n",
       "\\end{tabular}\n",
       "\n",
       "\\item[\\$best\\_BIC] A tibble: 1 × 3\n",
       "\\begin{tabular}{lll}\n",
       " model & AIC & BIC\\\\\n",
       " <chr> & <dbl> & <dbl>\\\\\n",
       "\\hline\n",
       "\t ARMA(1,0) + sGARCH(1,1) ged & -3.917503 & -3.892827\\\\\n",
       "\\end{tabular}\n",
       "\n",
       "\\item[\\$all\\_models] A tibble: 27 × 3\n",
       "\\begin{tabular}{lll}\n",
       " model & AIC & BIC\\\\\n",
       " <chr> & <dbl> & <dbl>\\\\\n",
       "\\hline\n",
       "\t ARMA(0,0) + sGARCH(1,1) ged  & -3.905244 & -3.884680\\\\\n",
       "\t ARMA(0,0) + sGARCH(1,1) std  & -3.908527 & -3.887963\\\\\n",
       "\t ARMA(0,0) + sGARCH(1,1) sstd & -3.907154 & -3.882478\\\\\n",
       "\t ARMA(0,1) + sGARCH(1,1) ged  & -3.916228 & -3.891552\\\\\n",
       "\t ARMA(0,1) + sGARCH(1,1) std  & -3.914986 & -3.890310\\\\\n",
       "\t ARMA(0,1) + sGARCH(1,1) sstd & -3.913496 & -3.884707\\\\\n",
       "\t ARMA(0,2) + sGARCH(1,1) ged  & -3.916827 & -3.888038\\\\\n",
       "\t ARMA(0,2) + sGARCH(1,1) std  & -3.917152 & -3.888364\\\\\n",
       "\t ARMA(0,2) + sGARCH(1,1) sstd & -3.915652 & -3.882751\\\\\n",
       "\t ARMA(1,0) + sGARCH(1,1) ged  & -3.917503 & -3.892827\\\\\n",
       "\t ARMA(1,0) + sGARCH(1,1) std  & -3.915931 & -3.891255\\\\\n",
       "\t ARMA(1,0) + sGARCH(1,1) sstd & -3.914432 & -3.885643\\\\\n",
       "\t ARMA(1,1) + sGARCH(1,1) ged  & -3.917584 & -3.888795\\\\\n",
       "\t ARMA(1,1) + sGARCH(1,1) std  & -3.916702 & -3.887913\\\\\n",
       "\t ARMA(1,1) + sGARCH(1,1) sstd & -3.915198 & -3.882297\\\\\n",
       "\t ARMA(1,2) + sGARCH(1,1) ged  & -3.915334 & -3.882433\\\\\n",
       "\t ARMA(1,2) + sGARCH(1,1) std  & -3.915593 & -3.882691\\\\\n",
       "\t ARMA(1,2) + sGARCH(1,1) sstd & -3.914091 & -3.877077\\\\\n",
       "\t ARMA(2,0) + sGARCH(1,1) ged  & -3.917301 & -3.888513\\\\\n",
       "\t ARMA(2,0) + sGARCH(1,1) std  & -3.917189 & -3.888401\\\\\n",
       "\t ARMA(2,0) + sGARCH(1,1) sstd & -3.915685 & -3.882784\\\\\n",
       "\t ARMA(2,1) + sGARCH(1,1) ged  & -3.915703 & -3.882802\\\\\n",
       "\t ARMA(2,1) + sGARCH(1,1) std  & -3.915845 & -3.882944\\\\\n",
       "\t ARMA(2,1) + sGARCH(1,1) sstd & -3.914339 & -3.877325\\\\\n",
       "\t ARMA(2,2) + sGARCH(1,1) ged  & -3.914578 & -3.877564\\\\\n",
       "\t ARMA(2,2) + sGARCH(1,1) std  & -3.915049 & -3.878035\\\\\n",
       "\t ARMA(2,2) + sGARCH(1,1) sstd & -3.913516 & -3.872389\\\\\n",
       "\\end{tabular}\n",
       "\n",
       "\\end{description}\n"
      ],
      "text/markdown": [
       "$best_AIC\n",
       ":   \n",
       "A tibble: 1 × 3\n",
       "\n",
       "| model &lt;chr&gt; | AIC &lt;dbl&gt; | BIC &lt;dbl&gt; |\n",
       "|---|---|---|\n",
       "| ARMA(1,1) + sGARCH(1,1) ged | -3.917584 | -3.888795 |\n",
       "\n",
       "\n",
       "$best_BIC\n",
       ":   \n",
       "A tibble: 1 × 3\n",
       "\n",
       "| model &lt;chr&gt; | AIC &lt;dbl&gt; | BIC &lt;dbl&gt; |\n",
       "|---|---|---|\n",
       "| ARMA(1,0) + sGARCH(1,1) ged | -3.917503 | -3.892827 |\n",
       "\n",
       "\n",
       "$all_models\n",
       ":   \n",
       "A tibble: 27 × 3\n",
       "\n",
       "| model &lt;chr&gt; | AIC &lt;dbl&gt; | BIC &lt;dbl&gt; |\n",
       "|---|---|---|\n",
       "| ARMA(0,0) + sGARCH(1,1) ged  | -3.905244 | -3.884680 |\n",
       "| ARMA(0,0) + sGARCH(1,1) std  | -3.908527 | -3.887963 |\n",
       "| ARMA(0,0) + sGARCH(1,1) sstd | -3.907154 | -3.882478 |\n",
       "| ARMA(0,1) + sGARCH(1,1) ged  | -3.916228 | -3.891552 |\n",
       "| ARMA(0,1) + sGARCH(1,1) std  | -3.914986 | -3.890310 |\n",
       "| ARMA(0,1) + sGARCH(1,1) sstd | -3.913496 | -3.884707 |\n",
       "| ARMA(0,2) + sGARCH(1,1) ged  | -3.916827 | -3.888038 |\n",
       "| ARMA(0,2) + sGARCH(1,1) std  | -3.917152 | -3.888364 |\n",
       "| ARMA(0,2) + sGARCH(1,1) sstd | -3.915652 | -3.882751 |\n",
       "| ARMA(1,0) + sGARCH(1,1) ged  | -3.917503 | -3.892827 |\n",
       "| ARMA(1,0) + sGARCH(1,1) std  | -3.915931 | -3.891255 |\n",
       "| ARMA(1,0) + sGARCH(1,1) sstd | -3.914432 | -3.885643 |\n",
       "| ARMA(1,1) + sGARCH(1,1) ged  | -3.917584 | -3.888795 |\n",
       "| ARMA(1,1) + sGARCH(1,1) std  | -3.916702 | -3.887913 |\n",
       "| ARMA(1,1) + sGARCH(1,1) sstd | -3.915198 | -3.882297 |\n",
       "| ARMA(1,2) + sGARCH(1,1) ged  | -3.915334 | -3.882433 |\n",
       "| ARMA(1,2) + sGARCH(1,1) std  | -3.915593 | -3.882691 |\n",
       "| ARMA(1,2) + sGARCH(1,1) sstd | -3.914091 | -3.877077 |\n",
       "| ARMA(2,0) + sGARCH(1,1) ged  | -3.917301 | -3.888513 |\n",
       "| ARMA(2,0) + sGARCH(1,1) std  | -3.917189 | -3.888401 |\n",
       "| ARMA(2,0) + sGARCH(1,1) sstd | -3.915685 | -3.882784 |\n",
       "| ARMA(2,1) + sGARCH(1,1) ged  | -3.915703 | -3.882802 |\n",
       "| ARMA(2,1) + sGARCH(1,1) std  | -3.915845 | -3.882944 |\n",
       "| ARMA(2,1) + sGARCH(1,1) sstd | -3.914339 | -3.877325 |\n",
       "| ARMA(2,2) + sGARCH(1,1) ged  | -3.914578 | -3.877564 |\n",
       "| ARMA(2,2) + sGARCH(1,1) std  | -3.915049 | -3.878035 |\n",
       "| ARMA(2,2) + sGARCH(1,1) sstd | -3.913516 | -3.872389 |\n",
       "\n",
       "\n",
       "\n",
       "\n"
      ],
      "text/plain": [
       "$best_AIC\n",
       "\u001b[90m# A tibble: 1 x 3\u001b[39m\n",
       "  model                         AIC   BIC\n",
       "  \u001b[3m\u001b[90m<chr>\u001b[39m\u001b[23m                       \u001b[3m\u001b[90m<dbl>\u001b[39m\u001b[23m \u001b[3m\u001b[90m<dbl>\u001b[39m\u001b[23m\n",
       "\u001b[90m1\u001b[39m ARMA(1,1) + sGARCH(1,1) ged -\u001b[31m3\u001b[39m\u001b[31m.\u001b[39m\u001b[31m92\u001b[39m -\u001b[31m3\u001b[39m\u001b[31m.\u001b[39m\u001b[31m89\u001b[39m\n",
       "\n",
       "$best_BIC\n",
       "\u001b[90m# A tibble: 1 x 3\u001b[39m\n",
       "  model                         AIC   BIC\n",
       "  \u001b[3m\u001b[90m<chr>\u001b[39m\u001b[23m                       \u001b[3m\u001b[90m<dbl>\u001b[39m\u001b[23m \u001b[3m\u001b[90m<dbl>\u001b[39m\u001b[23m\n",
       "\u001b[90m1\u001b[39m ARMA(1,0) + sGARCH(1,1) ged -\u001b[31m3\u001b[39m\u001b[31m.\u001b[39m\u001b[31m92\u001b[39m -\u001b[31m3\u001b[39m\u001b[31m.\u001b[39m\u001b[31m89\u001b[39m\n",
       "\n",
       "$all_models\n",
       "\u001b[90m# A tibble: 27 x 3\u001b[39m\n",
       "   model                          AIC   BIC\n",
       "   \u001b[3m\u001b[90m<chr>\u001b[39m\u001b[23m                        \u001b[3m\u001b[90m<dbl>\u001b[39m\u001b[23m \u001b[3m\u001b[90m<dbl>\u001b[39m\u001b[23m\n",
       "\u001b[90m 1\u001b[39m ARMA(0,0) + sGARCH(1,1) ged  -\u001b[31m3\u001b[39m\u001b[31m.\u001b[39m\u001b[31m91\u001b[39m -\u001b[31m3\u001b[39m\u001b[31m.\u001b[39m\u001b[31m88\u001b[39m\n",
       "\u001b[90m 2\u001b[39m ARMA(0,0) + sGARCH(1,1) std  -\u001b[31m3\u001b[39m\u001b[31m.\u001b[39m\u001b[31m91\u001b[39m -\u001b[31m3\u001b[39m\u001b[31m.\u001b[39m\u001b[31m89\u001b[39m\n",
       "\u001b[90m 3\u001b[39m ARMA(0,0) + sGARCH(1,1) sstd -\u001b[31m3\u001b[39m\u001b[31m.\u001b[39m\u001b[31m91\u001b[39m -\u001b[31m3\u001b[39m\u001b[31m.\u001b[39m\u001b[31m88\u001b[39m\n",
       "\u001b[90m 4\u001b[39m ARMA(0,1) + sGARCH(1,1) ged  -\u001b[31m3\u001b[39m\u001b[31m.\u001b[39m\u001b[31m92\u001b[39m -\u001b[31m3\u001b[39m\u001b[31m.\u001b[39m\u001b[31m89\u001b[39m\n",
       "\u001b[90m 5\u001b[39m ARMA(0,1) + sGARCH(1,1) std  -\u001b[31m3\u001b[39m\u001b[31m.\u001b[39m\u001b[31m91\u001b[39m -\u001b[31m3\u001b[39m\u001b[31m.\u001b[39m\u001b[31m89\u001b[39m\n",
       "\u001b[90m 6\u001b[39m ARMA(0,1) + sGARCH(1,1) sstd -\u001b[31m3\u001b[39m\u001b[31m.\u001b[39m\u001b[31m91\u001b[39m -\u001b[31m3\u001b[39m\u001b[31m.\u001b[39m\u001b[31m88\u001b[39m\n",
       "\u001b[90m 7\u001b[39m ARMA(0,2) + sGARCH(1,1) ged  -\u001b[31m3\u001b[39m\u001b[31m.\u001b[39m\u001b[31m92\u001b[39m -\u001b[31m3\u001b[39m\u001b[31m.\u001b[39m\u001b[31m89\u001b[39m\n",
       "\u001b[90m 8\u001b[39m ARMA(0,2) + sGARCH(1,1) std  -\u001b[31m3\u001b[39m\u001b[31m.\u001b[39m\u001b[31m92\u001b[39m -\u001b[31m3\u001b[39m\u001b[31m.\u001b[39m\u001b[31m89\u001b[39m\n",
       "\u001b[90m 9\u001b[39m ARMA(0,2) + sGARCH(1,1) sstd -\u001b[31m3\u001b[39m\u001b[31m.\u001b[39m\u001b[31m92\u001b[39m -\u001b[31m3\u001b[39m\u001b[31m.\u001b[39m\u001b[31m88\u001b[39m\n",
       "\u001b[90m10\u001b[39m ARMA(1,0) + sGARCH(1,1) ged  -\u001b[31m3\u001b[39m\u001b[31m.\u001b[39m\u001b[31m92\u001b[39m -\u001b[31m3\u001b[39m\u001b[31m.\u001b[39m\u001b[31m89\u001b[39m\n",
       "\u001b[90m# ... with 17 more rows\u001b[39m\n"
      ]
     },
     "metadata": {},
     "output_type": "display_data"
    }
   ],
   "source": [
    "garch_models"
   ]
  },
  {
   "cell_type": "markdown",
   "id": "bcd69a22",
   "metadata": {},
   "source": [
    "### 2.2.3 sGARCH(1,1) - ged con regresores"
   ]
  },
  {
   "cell_type": "code",
   "execution_count": 112,
   "id": "4590cc6e",
   "metadata": {},
   "outputs": [
    {
     "data": {
      "text/plain": [
       "\n",
       "*---------------------------------*\n",
       "*          GARCH Model Fit        *\n",
       "*---------------------------------*\n",
       "\n",
       "Conditional Variance Dynamics \t\n",
       "-----------------------------------\n",
       "GARCH Model\t: sGARCH(1,1)\n",
       "Mean Model\t: ARFIMA(0,0,0)\n",
       "Distribution\t: ged \n",
       "\n",
       "Optimal Parameters\n",
       "------------------------------------\n",
       "        Estimate  Std. Error   t value Pr(>|t|)\n",
       "mu      0.001580    0.000231  6.852580 0.000000\n",
       "omega   0.000025    0.000017  1.516122 0.129488\n",
       "alpha1  0.075576    0.020166  3.747742 0.000178\n",
       "beta1   0.913448    0.021946 41.622472 0.000000\n",
       "vxreg1  0.000000    0.000080  0.000124 0.999901\n",
       "shape   0.874745    0.042887 20.396538 0.000000\n",
       "\n",
       "Robust Standard Errors:\n",
       "        Estimate  Std. Error   t value Pr(>|t|)\n",
       "mu      0.001580    0.000087 18.202410 0.000000\n",
       "omega   0.000025    0.000021  1.180212 0.237916\n",
       "alpha1  0.075576    0.023173  3.261356 0.001109\n",
       "beta1   0.913448    0.023381 39.067260 0.000000\n",
       "vxreg1  0.000000    0.000105  0.000094 0.999925\n",
       "shape   0.874745    0.055563 15.743420 0.000000\n",
       "\n",
       "LogLikelihood : 2268.986 \n",
       "\n",
       "Information Criteria\n",
       "------------------------------------\n",
       "                    \n",
       "Akaike       -3.9459\n",
       "Bayes        -3.9195\n",
       "Shibata      -3.9460\n",
       "Hannan-Quinn -3.9360\n",
       "\n",
       "Weighted Ljung-Box Test on Standardized Residuals\n",
       "------------------------------------\n",
       "                        statistic p-value\n",
       "Lag[1]                     0.1397  0.7086\n",
       "Lag[2*(p+q)+(p+q)-1][2]    1.9433  0.2724\n",
       "Lag[4*(p+q)+(p+q)-1][5]    4.6023  0.1879\n",
       "d.o.f=0\n",
       "H0 : No serial correlation\n",
       "\n",
       "Weighted Ljung-Box Test on Standardized Squared Residuals\n",
       "------------------------------------\n",
       "                        statistic p-value\n",
       "Lag[1]                    0.05809  0.8095\n",
       "Lag[2*(p+q)+(p+q)-1][5]   0.97512  0.8653\n",
       "Lag[4*(p+q)+(p+q)-1][9]   1.52431  0.9536\n",
       "d.o.f=2\n",
       "\n",
       "Weighted ARCH LM Tests\n",
       "------------------------------------\n",
       "            Statistic Shape Scale P-Value\n",
       "ARCH Lag[3]    0.4621 0.500 2.000  0.4966\n",
       "ARCH Lag[5]    1.4306 1.440 1.667  0.6107\n",
       "ARCH Lag[7]    1.5895 2.315 1.543  0.8033\n",
       "\n",
       "Nyblom stability test\n",
       "------------------------------------\n",
       "Joint Statistic:  0.9785\n",
       "Individual Statistics:              \n",
       "mu     0.19718\n",
       "omega  0.08348\n",
       "alpha1 0.15060\n",
       "beta1  0.12434\n",
       "vxreg1 0.06526\n",
       "shape  0.34505\n",
       "\n",
       "Asymptotic Critical Values (10% 5% 1%)\n",
       "Joint Statistic:     \t 1.49 1.68 2.12\n",
       "Individual Statistic:\t 0.35 0.47 0.75\n",
       "\n",
       "Sign Bias Test\n",
       "------------------------------------\n",
       "                   t-value   prob sig\n",
       "Sign Bias          1.53291 0.1256    \n",
       "Negative Sign Bias 0.01547 0.9877    \n",
       "Positive Sign Bias 1.62466 0.1045    \n",
       "Joint Effect       3.61899 0.3057    \n",
       "\n",
       "\n",
       "Adjusted Pearson Goodness-of-Fit Test:\n",
       "------------------------------------\n",
       "  group statistic p-value(g-1)\n",
       "1    20     34.46      0.01619\n",
       "2    30     37.59      0.13162\n",
       "3    40     49.20      0.12689\n",
       "4    50     58.36      0.16908\n",
       "\n",
       "\n",
       "Elapsed time : 0.423475 \n"
      ]
     },
     "metadata": {},
     "output_type": "display_data"
    }
   ],
   "source": [
    "# Modelo con regresores del promedio de score de varios usuarios\n",
    "my_spec_sgarch_r <- ugarchspec(variance.model = list(model = \"sGARCH\", \n",
    "                                           garchOrder = c(1, 1),\n",
    "                                           external.regressors = data.matrix(btc[\"sentiment_mean\"])),\n",
    "                      mean.model = list(armaOrder = c(0, 0)), \n",
    "                      distribution = \"ged\")\n",
    "my_sgarch_r <- ugarchfit(spec = my_spec_sgarch_r, data = btc_returns , out.sample = 100)\n",
    "my_sgarch_r"
   ]
  },
  {
   "cell_type": "markdown",
   "id": "e488dd59",
   "metadata": {},
   "source": [
    "### 2.2.4 gjrGARCH(1,1) - ged con regresores"
   ]
  },
  {
   "cell_type": "code",
   "execution_count": 113,
   "id": "a3818973",
   "metadata": {
    "scrolled": false
   },
   "outputs": [
    {
     "data": {
      "text/plain": [
       "\n",
       "*---------------------------------*\n",
       "*          GARCH Model Fit        *\n",
       "*---------------------------------*\n",
       "\n",
       "Conditional Variance Dynamics \t\n",
       "-----------------------------------\n",
       "GARCH Model\t: gjrGARCH(1,1)\n",
       "Mean Model\t: ARFIMA(0,0,0)\n",
       "Distribution\t: ged \n",
       "\n",
       "Optimal Parameters\n",
       "------------------------------------\n",
       "        Estimate  Std. Error   t value Pr(>|t|)\n",
       "mu      0.001580    0.000233  6.795100 0.000000\n",
       "omega   0.000026    0.000017  1.527406 0.126660\n",
       "alpha1  0.074700    0.022389  3.336428 0.000849\n",
       "beta1   0.912694    0.022820 39.996064 0.000000\n",
       "gamma1  0.002136    0.027669  0.077194 0.938469\n",
       "vxreg1  0.000000    0.000085  0.000111 0.999911\n",
       "shape   0.876136    0.043091 20.332404 0.000000\n",
       "\n",
       "Robust Standard Errors:\n",
       "        Estimate  Std. Error   t value Pr(>|t|)\n",
       "mu      0.001580    0.000088 17.974264 0.000000\n",
       "omega   0.000026    0.000022  1.182571 0.236979\n",
       "alpha1  0.074700    0.024192  3.087859 0.002016\n",
       "beta1   0.912694    0.025358 35.992765 0.000000\n",
       "gamma1  0.002136    0.033822  0.063151 0.949646\n",
       "vxreg1  0.000000    0.000116  0.000082 0.999935\n",
       "shape   0.876136    0.054799 15.988211 0.000000\n",
       "\n",
       "LogLikelihood : 2268.99 \n",
       "\n",
       "Information Criteria\n",
       "------------------------------------\n",
       "                    \n",
       "Akaike       -3.9442\n",
       "Bayes        -3.9134\n",
       "Shibata      -3.9443\n",
       "Hannan-Quinn -3.9326\n",
       "\n",
       "Weighted Ljung-Box Test on Standardized Residuals\n",
       "------------------------------------\n",
       "                        statistic p-value\n",
       "Lag[1]                     0.1401  0.7082\n",
       "Lag[2*(p+q)+(p+q)-1][2]    1.9424  0.2725\n",
       "Lag[4*(p+q)+(p+q)-1][5]    4.5951  0.1886\n",
       "d.o.f=0\n",
       "H0 : No serial correlation\n",
       "\n",
       "Weighted Ljung-Box Test on Standardized Squared Residuals\n",
       "------------------------------------\n",
       "                        statistic p-value\n",
       "Lag[1]                    0.06155  0.8041\n",
       "Lag[2*(p+q)+(p+q)-1][5]   0.98257  0.8636\n",
       "Lag[4*(p+q)+(p+q)-1][9]   1.53114  0.9530\n",
       "d.o.f=2\n",
       "\n",
       "Weighted ARCH LM Tests\n",
       "------------------------------------\n",
       "            Statistic Shape Scale P-Value\n",
       "ARCH Lag[3]    0.4658 0.500 2.000  0.4949\n",
       "ARCH Lag[5]    1.4324 1.440 1.667  0.6103\n",
       "ARCH Lag[7]    1.5914 2.315 1.543  0.8029\n",
       "\n",
       "Nyblom stability test\n",
       "------------------------------------\n",
       "Joint Statistic:  1.285\n",
       "Individual Statistics:              \n",
       "mu     0.22160\n",
       "omega  0.09481\n",
       "alpha1 0.15302\n",
       "beta1  0.12975\n",
       "gamma1 0.16073\n",
       "vxreg1 0.07160\n",
       "shape  0.34663\n",
       "\n",
       "Asymptotic Critical Values (10% 5% 1%)\n",
       "Joint Statistic:     \t 1.69 1.9 2.35\n",
       "Individual Statistic:\t 0.35 0.47 0.75\n",
       "\n",
       "Sign Bias Test\n",
       "------------------------------------\n",
       "                   t-value   prob sig\n",
       "Sign Bias          1.54915 0.1216    \n",
       "Negative Sign Bias 0.01862 0.9851    \n",
       "Positive Sign Bias 1.62766 0.1039    \n",
       "Joint Effect       3.65964 0.3006    \n",
       "\n",
       "\n",
       "Adjusted Pearson Goodness-of-Fit Test:\n",
       "------------------------------------\n",
       "  group statistic p-value(g-1)\n",
       "1    20     34.33      0.01682\n",
       "2    30     39.37      0.09472\n",
       "3    40     52.27      0.07593\n",
       "4    50     57.23      0.19620\n",
       "\n",
       "\n",
       "Elapsed time : 0.978693 \n"
      ]
     },
     "metadata": {},
     "output_type": "display_data"
    }
   ],
   "source": [
    "# Modelo con regresores del promedio de score de varios usuarios\n",
    "my_spec_gjrgarch_r <- ugarchspec(variance.model = list(model = \"gjrGARCH\", \n",
    "                                           garchOrder = c(1, 1),\n",
    "                                           external.regressors = data.matrix(btc[\"sentiment_mean\"])),\n",
    "                      mean.model = list(armaOrder = c(0, 0)), \n",
    "                      distribution = \"ged\")\n",
    "my_garch_gjrgarch_r <- ugarchfit(spec = my_spec_gjrgarch_r, data = btc_returns, out.sample = 100)\n",
    "my_garch_gjrgarch_r"
   ]
  },
  {
   "cell_type": "code",
   "execution_count": 114,
   "id": "5a088f43",
   "metadata": {},
   "outputs": [],
   "source": [
    "# Comentarlo\n",
    "#path_tables_latex = \"C:/Users/ferro/Desktop/VeranoCIMAT/Análisis de Sentimiento/tables_latex\"\n",
    "#write.csv(rugarch::signbias(my_garch), paste0(path_tables_latex,\"/sign_test.csv\"))"
   ]
  },
  {
   "cell_type": "code",
   "execution_count": 115,
   "id": "cdb8ab09",
   "metadata": {},
   "outputs": [],
   "source": [
    "# Comentarlo\n",
    "#path_tables_latex = \"C:/Users/ferro/Desktop/VeranoCIMAT/Análisis de Sentimiento/tables_latex\"\n",
    "#write.csv(my_garch@fit$robust.matcoef, paste0(path_tables_latex,\"/garch_coef.csv\"))"
   ]
  },
  {
   "cell_type": "code",
   "execution_count": 116,
   "id": "899c74cb",
   "metadata": {
    "scrolled": true
   },
   "outputs": [],
   "source": [
    "# Comentarlo\n",
    "#path_tables_latex = \"C:/Users/ferro/Desktop/VeranoCIMAT/Análisis de Sentimiento/tables_latex\"\n",
    "#write.csv(rugarch::nyblom(my_garch)$IndividualStat, paste0(path_tables_latex,\"/nyblom_test.csv\"))\n",
    "#rugarch::nyblom(my_garch)"
   ]
  },
  {
   "cell_type": "code",
   "execution_count": 117,
   "id": "4ce8cbc7",
   "metadata": {},
   "outputs": [],
   "source": [
    "# This is for Dash\n",
    "#path_data_dash = \"C:/Users/ferro/Desktop/VeranoCIMAT/Análisis de Sentimiento/data_dash\"\n",
    "#write.csv(my_garch@fit$robust.matcoef, paste0(path_data_dash,\"/7_garch_coef.csv\"))"
   ]
  },
  {
   "cell_type": "markdown",
   "id": "610be07c",
   "metadata": {},
   "source": [
    "### 2.2.5 sGARCH(1,1) + ARMA(1,0) ged"
   ]
  },
  {
   "cell_type": "code",
   "execution_count": 140,
   "id": "ab872c63",
   "metadata": {},
   "outputs": [
    {
     "data": {
      "text/plain": [
       "\n",
       "*---------------------------------*\n",
       "*          GARCH Model Fit        *\n",
       "*---------------------------------*\n",
       "\n",
       "Conditional Variance Dynamics \t\n",
       "-----------------------------------\n",
       "GARCH Model\t: sGARCH(1,1)\n",
       "Mean Model\t: ARFIMA(1,0,0)\n",
       "Distribution\t: ged \n",
       "\n",
       "Optimal Parameters\n",
       "------------------------------------\n",
       "        Estimate  Std. Error  t value Pr(>|t|)\n",
       "mu      0.001057    0.000158   6.6797 0.000000\n",
       "ar1    -0.110351    0.011713  -9.4210 0.000000\n",
       "omega   0.000024    0.000013   1.9040 0.056914\n",
       "alpha1  0.075378    0.020067   3.7564 0.000172\n",
       "beta1   0.914774    0.021396  42.7538 0.000000\n",
       "shape   0.855759    0.042104  20.3248 0.000000\n",
       "\n",
       "Robust Standard Errors:\n",
       "        Estimate  Std. Error  t value Pr(>|t|)\n",
       "mu      0.001057    0.000066  16.0969 0.000000\n",
       "ar1    -0.110351    0.007648 -14.4296 0.000000\n",
       "omega   0.000024    0.000014   1.6894 0.091152\n",
       "alpha1  0.075378    0.022573   3.3392 0.000840\n",
       "beta1   0.914774    0.021881  41.8075 0.000000\n",
       "shape   0.855759    0.052211  16.3905 0.000000\n",
       "\n",
       "LogLikelihood : 2277.231 \n",
       "\n",
       "Information Criteria\n",
       "------------------------------------\n",
       "                    \n",
       "Akaike       -3.9603\n",
       "Bayes        -3.9339\n",
       "Shibata      -3.9604\n",
       "Hannan-Quinn -3.9503\n",
       "\n",
       "Weighted Ljung-Box Test on Standardized Residuals\n",
       "------------------------------------\n",
       "                        statistic   p-value\n",
       "Lag[1]                      7.556 5.982e-03\n",
       "Lag[2*(p+q)+(p+q)-1][2]     9.341 7.691e-09\n",
       "Lag[4*(p+q)+(p+q)-1][5]    12.495 8.542e-05\n",
       "d.o.f=1\n",
       "H0 : No serial correlation\n",
       "\n",
       "Weighted Ljung-Box Test on Standardized Squared Residuals\n",
       "------------------------------------\n",
       "                        statistic p-value\n",
       "Lag[1]                     0.0775  0.7807\n",
       "Lag[2*(p+q)+(p+q)-1][5]    1.1378  0.8278\n",
       "Lag[4*(p+q)+(p+q)-1][9]    1.7564  0.9320\n",
       "d.o.f=2\n",
       "\n",
       "Weighted ARCH LM Tests\n",
       "------------------------------------\n",
       "            Statistic Shape Scale P-Value\n",
       "ARCH Lag[3]    0.4617 0.500 2.000  0.4968\n",
       "ARCH Lag[5]    1.6077 1.440 1.667  0.5645\n",
       "ARCH Lag[7]    1.7785 2.315 1.543  0.7641\n",
       "\n",
       "Nyblom stability test\n",
       "------------------------------------\n",
       "Joint Statistic:  1.4855\n",
       "Individual Statistics:              \n",
       "mu     0.27931\n",
       "ar1    0.44875\n",
       "omega  0.09105\n",
       "alpha1 0.15948\n",
       "beta1  0.13217\n",
       "shape  0.36736\n",
       "\n",
       "Asymptotic Critical Values (10% 5% 1%)\n",
       "Joint Statistic:     \t 1.49 1.68 2.12\n",
       "Individual Statistic:\t 0.35 0.47 0.75\n",
       "\n",
       "Sign Bias Test\n",
       "------------------------------------\n",
       "                   t-value   prob sig\n",
       "Sign Bias           1.2191 0.2231    \n",
       "Negative Sign Bias  0.1435 0.8859    \n",
       "Positive Sign Bias  1.4592 0.1448    \n",
       "Joint Effect        2.7162 0.4375    \n",
       "\n",
       "\n",
       "Adjusted Pearson Goodness-of-Fit Test:\n",
       "------------------------------------\n",
       "  group statistic p-value(g-1)\n",
       "1    20     29.37      0.06034\n",
       "2    30     41.57      0.06135\n",
       "3    40     58.75      0.02195\n",
       "4    50     62.72      0.09006\n",
       "\n",
       "\n",
       "Elapsed time : 0.591768 \n"
      ]
     },
     "metadata": {},
     "output_type": "display_data"
    }
   ],
   "source": [
    "# Modelo con regresores del promedio de score de varios usuarios\n",
    "my_spec_sgarch_ar <- ugarchspec(variance.model = list(model = \"sGARCH\", \n",
    "                                           garchOrder = c(1, 1)),\n",
    "                      mean.model = list(armaOrder = c(1, 0)), \n",
    "                      distribution = \"ged\")\n",
    "my_sgarch_ar <- ugarchfit(spec = my_spec_sgarch_ar, data = btc_returns, out.sample = 100)\n",
    "my_sgarch_ar"
   ]
  },
  {
   "cell_type": "code",
   "execution_count": 135,
   "id": "676fc643",
   "metadata": {},
   "outputs": [],
   "source": [
    "# Comentarlo\n",
    "#path_tables_latex = \"C:/Users/ferro/Desktop/VeranoCIMAT/Análisis de Sentimiento/tables_latex\"\n",
    "#write.csv(my_sgarch_ar@fit$robust.matcoef, paste0(path_tables_latex,\"/garch_coef.csv\"))"
   ]
  },
  {
   "cell_type": "code",
   "execution_count": 120,
   "id": "d4f4b159",
   "metadata": {},
   "outputs": [],
   "source": [
    "#rugarch::gof(my_sgarch_ar)"
   ]
  },
  {
   "cell_type": "code",
   "execution_count": 136,
   "id": "3d8f1a10",
   "metadata": {},
   "outputs": [],
   "source": [
    "# Comentarlo\n",
    "#path_tables_latex = \"C:/Users/ferro/Desktop/VeranoCIMAT/Análisis de Sentimiento/tables_latex\"\n",
    "#write.csv(rugarch::nyblom(my_sgarch_ar)$IndividualStat, paste0(path_tables_latex,\"/nyblom_test.csv\"))\n",
    "#rugarch::nyblom(my_sgarch_ar)"
   ]
  },
  {
   "cell_type": "markdown",
   "id": "73d692a7",
   "metadata": {},
   "source": [
    "## 2.3 Forecasting"
   ]
  },
  {
   "cell_type": "code",
   "execution_count": 129,
   "id": "ed2771ee",
   "metadata": {},
   "outputs": [
    {
     "data": {
      "text/html": [
       "<table class=\"dataframe\">\n",
       "<caption>A matrix: 4 × 4 of type dbl</caption>\n",
       "<thead>\n",
       "\t<tr><th></th><th scope=col>sGARCH(1,1) + ARMA(1,0) ged</th><th scope=col>sGARCH(1,1) ged</th><th scope=col>sGARCH(1,1) ged regresor</th><th scope=col>gjrGARCH(1,1) ged regresor</th></tr>\n",
       "</thead>\n",
       "<tbody>\n",
       "\t<tr><th scope=row>MSE</th><td>2.047392e-03</td><td>2.055488e-03</td><td>2.055141e-03</td><td>2.055141e-03</td></tr>\n",
       "\t<tr><th scope=row>MAE</th><td>3.319435e-02</td><td>3.328235e-02</td><td>3.327822e-02</td><td>3.327822e-02</td></tr>\n",
       "\t<tr><th scope=row>DAC</th><td>4.800000e-01</td><td>4.700000e-01</td><td>4.700000e-01</td><td>4.700000e-01</td></tr>\n",
       "\t<tr><th scope=row>N</th><td>1.000000e+02</td><td>1.000000e+02</td><td>1.000000e+02</td><td>1.000000e+02</td></tr>\n",
       "</tbody>\n",
       "</table>\n"
      ],
      "text/latex": [
       "A matrix: 4 × 4 of type dbl\n",
       "\\begin{tabular}{r|llll}\n",
       "  & sGARCH(1,1) + ARMA(1,0) ged & sGARCH(1,1) ged & sGARCH(1,1) ged regresor & gjrGARCH(1,1) ged regresor\\\\\n",
       "\\hline\n",
       "\tMSE & 2.047392e-03 & 2.055488e-03 & 2.055141e-03 & 2.055141e-03\\\\\n",
       "\tMAE & 3.319435e-02 & 3.328235e-02 & 3.327822e-02 & 3.327822e-02\\\\\n",
       "\tDAC & 4.800000e-01 & 4.700000e-01 & 4.700000e-01 & 4.700000e-01\\\\\n",
       "\tN & 1.000000e+02 & 1.000000e+02 & 1.000000e+02 & 1.000000e+02\\\\\n",
       "\\end{tabular}\n"
      ],
      "text/markdown": [
       "\n",
       "A matrix: 4 × 4 of type dbl\n",
       "\n",
       "| <!--/--> | sGARCH(1,1) + ARMA(1,0) ged | sGARCH(1,1) ged | sGARCH(1,1) ged regresor | gjrGARCH(1,1) ged regresor |\n",
       "|---|---|---|---|---|\n",
       "| MSE | 2.047392e-03 | 2.055488e-03 | 2.055141e-03 | 2.055141e-03 |\n",
       "| MAE | 3.319435e-02 | 3.328235e-02 | 3.327822e-02 | 3.327822e-02 |\n",
       "| DAC | 4.800000e-01 | 4.700000e-01 | 4.700000e-01 | 4.700000e-01 |\n",
       "| N | 1.000000e+02 | 1.000000e+02 | 1.000000e+02 | 1.000000e+02 |\n",
       "\n"
      ],
      "text/plain": [
       "    sGARCH(1,1) + ARMA(1,0) ged sGARCH(1,1) ged sGARCH(1,1) ged regresor\n",
       "MSE 2.047392e-03                2.055488e-03    2.055141e-03            \n",
       "MAE 3.319435e-02                3.328235e-02    3.327822e-02            \n",
       "DAC 4.800000e-01                4.700000e-01    4.700000e-01            \n",
       "N   1.000000e+02                1.000000e+02    1.000000e+02            \n",
       "    gjrGARCH(1,1) ged regresor\n",
       "MSE 2.055141e-03              \n",
       "MAE 3.327822e-02              \n",
       "DAC 4.700000e-01              \n",
       "N   1.000000e+02              "
      ]
     },
     "metadata": {},
     "output_type": "display_data"
    }
   ],
   "source": [
    "forecast_sgarch <- ugarchforecast(my_sgarch, n.ahead = 100)\n",
    "forecast_sgarch_r <- ugarchforecast(my_sgarch_r, n.ahead = 100)\n",
    "forecast_sgarch_ar <- ugarchforecast(my_sgarch_ar, n.ahead = 100)\n",
    "forecast_garch_gjrgarch_r <- ugarchforecast(my_garch_gjrgarch_r, n.ahead = 100)\n",
    "\n",
    "error <- cbind(fpm(forecast_sgarch_ar),\n",
    "                fpm(forecast_sgarch),\n",
    "                fpm(forecast_sgarch_r),\n",
    "                fpm(forecast_garch_gjrgarch_r))\n",
    "colnames(error) <- c(\"sGARCH(1,1) + ARMA(1,0) ged\", \n",
    "                     \"sGARCH(1,1) ged\", \n",
    "                     \"sGARCH(1,1) ged regresor\", \n",
    "                     \"gjrGARCH(1,1) ged regresor\")\n",
    "error"
   ]
  },
  {
   "cell_type": "code",
   "execution_count": 130,
   "id": "74d65766",
   "metadata": {},
   "outputs": [
    {
     "data": {
      "text/html": [
       "<table class=\"dataframe\">\n",
       "<caption>A matrix: 4 × 4 of type dbl</caption>\n",
       "<thead>\n",
       "\t<tr><th></th><th scope=col>MSE</th><th scope=col>MAE</th><th scope=col>DAC</th><th scope=col>N</th></tr>\n",
       "</thead>\n",
       "<tbody>\n",
       "\t<tr><th scope=row>sGARCH(1,1) + ARMA(1,0) ged</th><td>0.002047392</td><td>0.03319435</td><td>0.48</td><td>100</td></tr>\n",
       "\t<tr><th scope=row>sGARCH(1,1) ged</th><td>0.002055488</td><td>0.03328235</td><td>0.47</td><td>100</td></tr>\n",
       "\t<tr><th scope=row>sGARCH(1,1) ged regresor</th><td>0.002055141</td><td>0.03327822</td><td>0.47</td><td>100</td></tr>\n",
       "\t<tr><th scope=row>gjrGARCH(1,1) ged regresor</th><td>0.002055141</td><td>0.03327822</td><td>0.47</td><td>100</td></tr>\n",
       "</tbody>\n",
       "</table>\n"
      ],
      "text/latex": [
       "A matrix: 4 × 4 of type dbl\n",
       "\\begin{tabular}{r|llll}\n",
       "  & MSE & MAE & DAC & N\\\\\n",
       "\\hline\n",
       "\tsGARCH(1,1) + ARMA(1,0) ged & 0.002047392 & 0.03319435 & 0.48 & 100\\\\\n",
       "\tsGARCH(1,1) ged & 0.002055488 & 0.03328235 & 0.47 & 100\\\\\n",
       "\tsGARCH(1,1) ged regresor & 0.002055141 & 0.03327822 & 0.47 & 100\\\\\n",
       "\tgjrGARCH(1,1) ged regresor & 0.002055141 & 0.03327822 & 0.47 & 100\\\\\n",
       "\\end{tabular}\n"
      ],
      "text/markdown": [
       "\n",
       "A matrix: 4 × 4 of type dbl\n",
       "\n",
       "| <!--/--> | MSE | MAE | DAC | N |\n",
       "|---|---|---|---|---|\n",
       "| sGARCH(1,1) + ARMA(1,0) ged | 0.002047392 | 0.03319435 | 0.48 | 100 |\n",
       "| sGARCH(1,1) ged | 0.002055488 | 0.03328235 | 0.47 | 100 |\n",
       "| sGARCH(1,1) ged regresor | 0.002055141 | 0.03327822 | 0.47 | 100 |\n",
       "| gjrGARCH(1,1) ged regresor | 0.002055141 | 0.03327822 | 0.47 | 100 |\n",
       "\n"
      ],
      "text/plain": [
       "                            MSE         MAE        DAC  N  \n",
       "sGARCH(1,1) + ARMA(1,0) ged 0.002047392 0.03319435 0.48 100\n",
       "sGARCH(1,1) ged             0.002055488 0.03328235 0.47 100\n",
       "sGARCH(1,1) ged regresor    0.002055141 0.03327822 0.47 100\n",
       "gjrGARCH(1,1) ged regresor  0.002055141 0.03327822 0.47 100"
      ]
     },
     "metadata": {},
     "output_type": "display_data"
    }
   ],
   "source": [
    "t(error)"
   ]
  },
  {
   "cell_type": "code",
   "execution_count": 131,
   "id": "879a253a",
   "metadata": {
    "scrolled": true
   },
   "outputs": [],
   "source": [
    "#path_tables_latex = \"C:/Users/ferro/Desktop/VeranoCIMAT/Análisis de Sentimiento/tables_latex\"\n",
    "#write.csv(t(error), paste0(path_tables_latex,\"/error.csv\"))"
   ]
  },
  {
   "cell_type": "code",
   "execution_count": 41,
   "id": "7d36c9a7",
   "metadata": {},
   "outputs": [],
   "source": [
    "# This is for DASH\n",
    "#write.csv(sigma(forecast_garch), paste0(path_data_dash,\"/8_garch_sigma.csv\"))"
   ]
  },
  {
   "cell_type": "code",
   "execution_count": null,
   "id": "sBRrOIXVlE4T",
   "metadata": {
    "id": "sBRrOIXVlE4T"
   },
   "outputs": [],
   "source": []
  },
  {
   "cell_type": "markdown",
   "id": "a209e0a8",
   "metadata": {
    "id": "xVpt5SUT98Pm"
   },
   "source": [
    "# 3. Apendice"
   ]
  },
  {
   "cell_type": "markdown",
   "id": "3ff0cdfe",
   "metadata": {},
   "source": [
    "### T-test\n",
    "Esta prueba es para la significancia de los parametros de los modelos.\n",
    "\n",
    "$$H_0 \\text{ : El parametro no es significativo}$$"
   ]
  },
  {
   "cell_type": "markdown",
   "id": "ffd446eb",
   "metadata": {
    "id": "ffd446eb"
   },
   "source": [
    "#### Weighted Ljung-Box Test\n",
    "\n",
    "It is similar to Ljung-Box Test but increases the power of the test.\n",
    "\n",
    "$$H_0 \\text{ : No correlation in the series}$$"
   ]
  },
  {
   "cell_type": "markdown",
   "id": "RC5UCNdQ9hv5",
   "metadata": {
    "id": "RC5UCNdQ9hv5"
   },
   "source": [
    "#### Weighted ARCH LM Tests\n",
    "\n",
    "The ARCH-LM test is now a weighted portmanteau test\n",
    "$$H_0 \\text{ : Adequately fitted ARCH process}$$"
   ]
  },
  {
   "cell_type": "markdown",
   "id": "NzZ1668xIOy9",
   "metadata": {
    "id": "NzZ1668xIOy9"
   },
   "source": [
    "#### Sign Bias Test\n",
    "\n",
    "This tests the presence of leverage effects (effects of the sign) in the standardized residuals\n",
    "\n",
    "$$ H_0 : \\text{There is significant Negative and Positive\n",
    "reaction to shocks}$$"
   ]
  },
  {
   "cell_type": "markdown",
   "id": "l-fJ4FPwN8u0",
   "metadata": {
    "id": "l-fJ4FPwN8u0"
   },
   "source": [
    "####  Goodness of Fit Test\n",
    "\n",
    "It compares the empirical **distribution** of the standardized residuals with the theoretical ones from the chosen density. Rugarch use 20, 30, 40, 50 bins.\n",
    "\n",
    "$$ H_0 : \\text{empirical distribution of the standardized residuals is the same as the theoretical one}$$"
   ]
  },
  {
   "cell_type": "markdown",
   "id": "CwL7Gh5DJpaL",
   "metadata": {
    "id": "CwL7Gh5DJpaL"
   },
   "source": [
    "#### Nyblom stability test\n",
    "Testing for the Constancy of Parameters Over Time.\n",
    "\n",
    "$$H_0 \\text{: The parameters are constant over time}$$"
   ]
  },
  {
   "cell_type": "code",
   "execution_count": null,
   "id": "a026d673",
   "metadata": {
    "id": "a026d673"
   },
   "outputs": [],
   "source": []
  },
  {
   "cell_type": "code",
   "execution_count": null,
   "id": "3c9a6327",
   "metadata": {
    "id": "3c9a6327"
   },
   "outputs": [],
   "source": []
  },
  {
   "cell_type": "code",
   "execution_count": null,
   "id": "85935054",
   "metadata": {
    "id": "85935054"
   },
   "outputs": [],
   "source": []
  },
  {
   "cell_type": "code",
   "execution_count": null,
   "id": "f9a8dbee",
   "metadata": {
    "id": "f9a8dbee"
   },
   "outputs": [],
   "source": []
  },
  {
   "cell_type": "code",
   "execution_count": null,
   "id": "d029bf5c",
   "metadata": {
    "id": "d029bf5c"
   },
   "outputs": [],
   "source": []
  },
  {
   "cell_type": "code",
   "execution_count": null,
   "id": "7b23cd86",
   "metadata": {
    "id": "7b23cd86"
   },
   "outputs": [],
   "source": []
  },
  {
   "cell_type": "code",
   "execution_count": null,
   "id": "02d72986",
   "metadata": {
    "id": "02d72986"
   },
   "outputs": [],
   "source": []
  },
  {
   "cell_type": "code",
   "execution_count": null,
   "id": "6989b2a3",
   "metadata": {
    "id": "6989b2a3"
   },
   "outputs": [],
   "source": []
  },
  {
   "cell_type": "code",
   "execution_count": null,
   "id": "130ed5f6",
   "metadata": {
    "id": "130ed5f6"
   },
   "outputs": [],
   "source": []
  },
  {
   "cell_type": "code",
   "execution_count": null,
   "id": "ca473ac7",
   "metadata": {
    "id": "ca473ac7"
   },
   "outputs": [],
   "source": []
  },
  {
   "cell_type": "code",
   "execution_count": null,
   "id": "a37c8d84",
   "metadata": {
    "id": "a37c8d84"
   },
   "outputs": [],
   "source": []
  },
  {
   "cell_type": "code",
   "execution_count": null,
   "id": "cde7b898",
   "metadata": {
    "id": "cde7b898"
   },
   "outputs": [],
   "source": []
  },
  {
   "cell_type": "code",
   "execution_count": null,
   "id": "014239b0",
   "metadata": {
    "id": "014239b0"
   },
   "outputs": [],
   "source": []
  },
  {
   "cell_type": "markdown",
   "id": "651042a5",
   "metadata": {
    "id": "651042a5"
   },
   "source": [
    "By definition of the (natural) logarithm,\n",
    "\n",
    "$$\\log(1+x)=\\int_1^{1+x}{du\\over u}$$\n",
    "\n",
    "If $x\\approx0$, then ${1\\over u}\\approx1$ for $1\\le u\\le 1+x$, in which case\n",
    "\n",
    "$$\\log(1+x)\\approx\\int_1^{1+x}du=u\\Big|_1^{1+x}=(1+x)-1=x$$\n",
    "\n",
    "(Remark:  I wrote $1\\le u\\le 1+x$ with $x\\gt0$ in mind.  A more precise version would be $1-|x|\\le u\\le1+|x|$.)\n",
    "\n",
    "\n",
    "\n",
    "In time series it is often observed that variations of the time series are quite small for a number of successive periods of time, then much larger for a while, then smaller again for apparently no reason\n",
    "\n",
    "It would be desirable if theses changes in variation (volatility) could be incorporated into the model.\n",
    "\n",
    "We denote $X_t$ as the return at the period t.\n",
    "\n",
    "## ARCH(p)\n",
    "\n",
    "$$X_t = \\sigma_t \\varepsilon_t$$\n",
    "$$\\sigma_t^2 = \\alpha_0 + \\sum_{i = 1}^p\\alpha_iX_{t-i}^2$$\n",
    "\n",
    "Where $\\alpha_i \\geq 0$ for $i \\in \\{1, \\dots, p\\}$ and $\\alpha_1 + \\dots + \\alpha_p < 1$.\n",
    "\n",
    "And $\\varepsilon_t$ is $N(0,1)$ i.i.d.\n",
    "\n",
    "### ARCH(1)\n",
    "\n",
    "$$X_t = \\sigma_t \\varepsilon_t$$\n",
    "$$\\sigma_t^2 = \\alpha_0 + \\alpha_1X_{t-1}^2$$\n",
    "\n",
    "**Consequences** for this model:\n",
    "- $X_t$ is causal.\n",
    "- $\\mathbb{E}(X_t) = 0$\n",
    "- $var(X_t) = \\frac{\\alpha_0}{1 - \\alpha_1}$\n",
    "- For $h > 0$:\n",
    "    $$\\mathbb{E}(X_{t + h}X_t) = 0$$\n",
    "- $\\mathbb{E}(X_t^2|\\mathcal{F_{t-1}}) = \\sigma_t^2 = \\alpha_0 + \\alpha_1X_{t-1}^2$\n",
    "\n",
    "We can express ARCH(1) model as:\n",
    "$$X_t^2 = \\alpha_0 + \\alpha_1X_{t-1}^2 + v_t$$\n",
    "Where $v_t = \\sigma_t^2(\\varepsilon_t^2 - 1)$.\n",
    "\n",
    "**Observations**:\n",
    "- We should have $\\alpha_1 \\leq \\frac{1}{3}$ (if $\\mathbb{E}(\\sigma_t^4)$ exists)\n",
    "- $\\mathbb{E}(X_t^4) \\geq 3$ this implies **heavy-tailed** pehnomenom.\n",
    "- $corr(X_t^s, X_{t - s}^2) = \\alpha_1^s \\geq 0$\n",
    "- $$\\sigma_t^2 = \\alpha_0 + \\alpha_1X_{t-1}^2$$ model captures the phenomenom that large changes in return would be followed by large changes in variances (volatility)\n",
    "\n",
    "## GARCH(p)"
   ]
  },
  {
   "cell_type": "markdown",
   "id": "5164e730",
   "metadata": {
    "id": "5164e730"
   },
   "source": [
    "Consider past volatilities to affect the present volatility, this is a more parsimonious model(because needs less parameters than ARCH)\n",
    "$$X_t = \\sigma_t \\varepsilon_t$$\n",
    "$$\\sigma_t^2 = \\alpha_0 +\\sum_{i = 1}^p\\beta_i\\sigma_{t-i}^2 + \\sum_{j = 1}^q\\alpha_jX_{t-j}^2$$\n",
    "\n",
    "Conditions on $\\alpha$'s and $\\beta$'s need to be imposed for equation of volatility to be well difined.\n",
    "\n",
    "And $\\varepsilon_t$ is $N(0,1)$ i.i.d."
   ]
  },
  {
   "cell_type": "markdown",
   "id": "8ccca1b2",
   "metadata": {
    "id": "8ccca1b2"
   },
   "source": [
    "### GARCH(1,1)"
   ]
  },
  {
   "cell_type": "markdown",
   "id": "4efbb840",
   "metadata": {
    "id": "4efbb840"
   },
   "source": [
    "$$X_t = \\sigma_t \\varepsilon_t$$\n",
    "$$\\sigma_t^2 = \\alpha_0 + \\alpha_1X_{t-1}^2 + \\beta_1\\sigma_{t-1}^2$$"
   ]
  },
  {
   "cell_type": "markdown",
   "id": "0de7323e",
   "metadata": {
    "id": "0de7323e"
   },
   "source": [
    "We can thinks this as an ARMA process as follows:\n",
    "\n",
    "$$X_t^2 = \\alpha_0 + (\\alpha_1 + \\beta_1)X_{t-1}^2 + v_t - \\beta_1v_{t-1}$$\n",
    "\n",
    "Where $v_t = \\beta_t^2(\\varepsilon_t^2 - 1)$"
   ]
  },
  {
   "cell_type": "markdown",
   "id": "29365e32",
   "metadata": {
    "id": "29365e32"
   },
   "source": [
    "**Observations**:\n",
    "- It si often found that $\\alpha_1 + \\beta-1 \\approx 1$ in this case $X_t$ is no longer stationary and it leads to IGARCH model.\n",
    "- Only squares of $X_{t-j}$ and $\\sigma_{t-j}$ affect the current volatility $\\sigma_t^2$. This is unrealistic since the market reacts differently to bad news than to good news\n",
    "- The Gaussian assumption of $\\varepsilon_t$ is not crucial. One may relaxt it to allow for more heavy-tailed distributions, such as a t-distribution"
   ]
  },
  {
   "cell_type": "code",
   "execution_count": null,
   "id": "82ad3a83",
   "metadata": {
    "id": "82ad3a83"
   },
   "outputs": [],
   "source": []
  },
  {
   "cell_type": "code",
   "execution_count": null,
   "id": "b838c786",
   "metadata": {},
   "outputs": [],
   "source": []
  },
  {
   "cell_type": "code",
   "execution_count": null,
   "id": "55cdb0b7",
   "metadata": {},
   "outputs": [],
   "source": []
  },
  {
   "cell_type": "code",
   "execution_count": null,
   "id": "fdccd3b6",
   "metadata": {},
   "outputs": [],
   "source": []
  },
  {
   "cell_type": "code",
   "execution_count": null,
   "id": "75138403",
   "metadata": {},
   "outputs": [],
   "source": []
  },
  {
   "cell_type": "code",
   "execution_count": null,
   "id": "31d9ae80",
   "metadata": {},
   "outputs": [],
   "source": []
  }
 ],
 "metadata": {
  "colab": {
   "name": "GARCH.ipynb",
   "provenance": []
  },
  "kernelspec": {
   "display_name": "R",
   "language": "R",
   "name": "ir"
  },
  "language_info": {
   "codemirror_mode": "r",
   "file_extension": ".r",
   "mimetype": "text/x-r-source",
   "name": "R",
   "pygments_lexer": "r",
   "version": "4.1.0"
  },
  "toc": {
   "base_numbering": 1,
   "nav_menu": {},
   "number_sections": false,
   "sideBar": true,
   "skip_h1_title": false,
   "title_cell": "Table of Contents",
   "title_sidebar": "Contents",
   "toc_cell": false,
   "toc_position": {
    "height": "calc(100% - 180px)",
    "left": "10px",
    "top": "150px",
    "width": "279.273px"
   },
   "toc_section_display": true,
   "toc_window_display": false
  }
 },
 "nbformat": 4,
 "nbformat_minor": 5
}
