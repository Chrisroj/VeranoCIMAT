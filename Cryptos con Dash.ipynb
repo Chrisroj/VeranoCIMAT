{
 "cells": [
  {
   "cell_type": "markdown",
   "metadata": {},
   "source": [
    "# Forma 1"
   ]
  },
  {
   "cell_type": "code",
   "execution_count": 3,
   "metadata": {},
   "outputs": [
    {
     "ename": "ModuleNotFoundError",
     "evalue": "No module named 'criptos'",
     "output_type": "error",
     "traceback": [
      "\u001b[1;31m---------------------------------------------------------------------------\u001b[0m",
      "\u001b[1;31mModuleNotFoundError\u001b[0m                       Traceback (most recent call last)",
      "\u001b[1;32m<ipython-input-3-2a5aea0b330d>\u001b[0m in \u001b[0;36m<module>\u001b[1;34m\u001b[0m\n\u001b[0;32m     25\u001b[0m \u001b[1;33m\u001b[0m\u001b[0m\n\u001b[0;32m     26\u001b[0m \u001b[1;31m# Others\u001b[0m\u001b[1;33m\u001b[0m\u001b[1;33m\u001b[0m\u001b[1;33m\u001b[0m\u001b[0m\n\u001b[1;32m---> 27\u001b[1;33m \u001b[1;32mfrom\u001b[0m \u001b[0mcriptos\u001b[0m \u001b[1;32mimport\u001b[0m \u001b[0mclean_tokenize\u001b[0m\u001b[1;33m,\u001b[0m \u001b[0mklines_to_df\u001b[0m\u001b[1;33m\u001b[0m\u001b[1;33m\u001b[0m\u001b[0m\n\u001b[0m\u001b[0;32m     28\u001b[0m \u001b[1;33m\u001b[0m\u001b[0m\n\u001b[0;32m     29\u001b[0m \u001b[1;33m\u001b[0m\u001b[0m\n",
      "\u001b[1;31mModuleNotFoundError\u001b[0m: No module named 'criptos'"
     ]
    }
   ],
   "source": [
    "# Data Manipulation\n",
    "import numpy as np\n",
    "import pandas as pd\n",
    "import functools as ft\n",
    "import json as js\n",
    "import re\n",
    "\n",
    "# API's\n",
    "from binance.client import Client\n",
    "from binance.enums import *\n",
    "import tweepy\n",
    "\n",
    "# Interact with Operating System\n",
    "import os\n",
    "\n",
    "# Graphs\n",
    "import matplotlib.pyplot as plt\n",
    "from wordcloud import WordCloud\n",
    "pd.options.plotting.backend = \"plotly\" # To use plotly \n",
    "\n",
    "# Preprocess and models\n",
    "import nltk\n",
    "from nltk.corpus import stopwords\n",
    "from vaderSentiment.vaderSentiment import SentimentIntensityAnalyzer\n",
    "\n",
    "# Others\n",
    "from criptos import clean_tokenize, klines_to_df\n",
    "\n",
    "\n",
    "# Warnings Configurations\n",
    "import warnings\n",
    "warnings.filterwarnings('ignore')"
   ]
  },
  {
   "cell_type": "code",
   "execution_count": null,
   "metadata": {},
   "outputs": [],
   "source": [
    "cryptos = [\"BTC\", \"ETH\", \"LTC\", \"ADA\", \"SHIB\", \"XRP\", \"MANA\"]"
   ]
  },
  {
   "cell_type": "code",
   "execution_count": null,
   "id": "90c22db7",
   "metadata": {},
   "outputs": [],
   "source": [
    "# Path\n",
    "path = r\"C:\\Users\\ferro\\Desktop\\VeranoCIMAT\\Análisis de Sentimiento\""
   ]
  },
  {
   "cell_type": "code",
   "execution_count": null,
   "id": "61edd478",
   "metadata": {
    "ExecuteTime": {
     "end_time": "2021-03-17T20:07:08.189160Z",
     "start_time": "2021-03-17T20:07:08.185558Z"
    }
   },
   "outputs": [],
   "source": [
    "# Loading credencials for the binance API\n",
    "binance_cred = \"credentials_binance.json\"\n",
    "cred = js.load(open(os.path.join(path, \"credentials\", binance_cred), \"rb\"))\n",
    "API_KEY = cred[\"API_KEY\"]\n",
    "API_SECRET = cred[\"API_SECRET\"]"
   ]
  },
  {
   "cell_type": "code",
   "execution_count": null,
   "id": "29a480a1",
   "metadata": {
    "ExecuteTime": {
     "end_time": "2021-03-17T20:07:10.950054Z",
     "start_time": "2021-03-17T20:07:08.717634Z"
    }
   },
   "outputs": [],
   "source": [
    "# Conecting API (Se puede entrar sin las API_Key)\n",
    "client = Client(API_KEY, API_SECRET, tld = \"com\")"
   ]
  },
  {
   "cell_type": "code",
   "execution_count": null,
   "id": "ff0cf2ae",
   "metadata": {},
   "outputs": [],
   "source": [
    "# Conecting API without credentials\n",
    "#client = Client()"
   ]
  },
  {
   "cell_type": "markdown",
   "id": "37003e67",
   "metadata": {},
   "source": [
    "## 1.2 Download Data"
   ]
  },
  {
   "cell_type": "markdown",
   "id": "0ac4a774",
   "metadata": {},
   "source": [
    "Get daily prices of Bitcoin since  **1 Jan, 2018** until **1 Jun, 2021** the close hour is **23:59 UTC**. The par is **BTC/USDT**"
   ]
  },
  {
   "cell_type": "code",
   "execution_count": null,
   "id": "c09bfcda",
   "metadata": {
    "ExecuteTime": {
     "end_time": "2021-04-06T23:53:40.940923Z",
     "start_time": "2021-04-06T23:53:32.103164Z"
    }
   },
   "outputs": [],
   "source": [
    "# Getting candles\n",
    "for crypto in cryptos:\n",
    "    interval_cand = '1d'\n",
    "    par_1 = \"BTC\"\n",
    "    par_2 = \"USDT\"\n",
    "    par = \"\".join([par_1, par_2])\n",
    "    start = \"1 Jan, 2018\"\n",
    "    end = \"1 Jun, 2021\"\n",
    "    candles = client.get_historical_klines(symbol = par, interval = interval_cand,\n",
    "                                          start_str = start, end_str = end) # Get Prices\n",
    "    candles = klines_to_df(candles)\n",
    "    candles.to_csv(os.path.join(path, \"data_dash\", \"1_\" + crypto + \".csv\"))"
   ]
  },
  {
   "cell_type": "code",
   "execution_count": 42,
   "id": "f8e7acdf",
   "metadata": {
    "ExecuteTime": {
     "end_time": "2021-04-06T23:53:41.169661Z",
     "start_time": "2021-04-06T23:53:40.964398Z"
    },
    "scrolled": true
   },
   "outputs": [
    {
     "data": {
      "text/plain": [
       "Text(0, 0.5, 'USDT')"
      ]
     },
     "execution_count": 42,
     "metadata": {},
     "output_type": "execute_result"
    },
    {
     "data": {
      "image/png": "[encoded data removed]",
      "text/plain": [
       "<Figure size 432x288 with 1 Axes>"
      ]
     },
     "metadata": {
      "needs_background": "light"
     },
     "output_type": "display_data"
    }
   ],
   "source": [
    "plt.plot(candles[\"Close_time\"], candles[\"Close\"])\n",
    "plt.xticks(rotation=45)\n",
    "plt.title(par)\n",
    "plt.ylabel(par_2)"
   ]
  },
  {
   "cell_type": "code",
   "execution_count": 43,
   "id": "0110ea54",
   "metadata": {},
   "outputs": [
    {
     "name": "stdout",
     "output_type": "stream",
     "text": [
      "<class 'pandas.core.frame.DataFrame'>\n",
      "RangeIndex: 1248 entries, 0 to 1247\n",
      "Data columns (total 12 columns):\n",
      " #   Column                        Non-Null Count  Dtype         \n",
      "---  ------                        --------------  -----         \n",
      " 0   Open_time                     1248 non-null   datetime64[ns]\n",
      " 1   Open                          1248 non-null   float32       \n",
      " 2   High                          1248 non-null   float32       \n",
      " 3   Low                           1248 non-null   float32       \n",
      " 4   Close                         1248 non-null   float32       \n",
      " 5   Volume                        1248 non-null   object        \n",
      " 6   Close_time                    1248 non-null   datetime64[ns]\n",
      " 7   Quote_asset_volume            1248 non-null   object        \n",
      " 8   Number_of_trades              1248 non-null   int32         \n",
      " 9   Taker_buy_base_asset_volume   1248 non-null   object        \n",
      " 10  Taker_buy_quote_asset_volume  1248 non-null   object        \n",
      " 11  Can_be_ignored                1248 non-null   object        \n",
      "dtypes: datetime64[ns](2), float32(4), int32(1), object(5)\n",
      "memory usage: 92.8+ KB\n"
     ]
    }
   ],
   "source": [
    "candles.info()"
   ]
  },
  {
   "cell_type": "code",
   "execution_count": 44,
   "id": "5f76fcbc",
   "metadata": {
    "scrolled": true
   },
   "outputs": [
    {
     "data": {
      "text/plain": [
       "Open_time                       0\n",
       "Open                            0\n",
       "High                            0\n",
       "Low                             0\n",
       "Close                           0\n",
       "Volume                          0\n",
       "Close_time                      0\n",
       "Quote_asset_volume              0\n",
       "Number_of_trades                0\n",
       "Taker_buy_base_asset_volume     0\n",
       "Taker_buy_quote_asset_volume    0\n",
       "Can_be_ignored                  0\n",
       "dtype: int64"
      ]
     },
     "execution_count": 44,
     "metadata": {},
     "output_type": "execute_result"
    }
   ],
   "source": [
    "# No missing values\n",
    "candles.isna().sum()"
   ]
  },
  {
   "cell_type": "code",
   "execution_count": 45,
   "id": "47c0b561",
   "metadata": {},
   "outputs": [],
   "source": [
    "# This is for Dash\n",
    "candles.to_csv(os.path.join(path, \"data_dash\", \"1_prices.csv\"))"
   ]
  },
  {
   "cell_type": "code",
   "execution_count": null,
   "metadata": {},
   "outputs": [],
   "source": []
  },
  {
   "cell_type": "code",
   "execution_count": null,
   "metadata": {},
   "outputs": [],
   "source": []
  },
  {
   "cell_type": "code",
   "execution_count": null,
   "metadata": {},
   "outputs": [],
   "source": []
  },
  {
   "cell_type": "code",
   "execution_count": null,
   "metadata": {},
   "outputs": [],
   "source": []
  },
  {
   "cell_type": "code",
   "execution_count": null,
   "metadata": {},
   "outputs": [],
   "source": []
  },
  {
   "cell_type": "code",
   "execution_count": null,
   "metadata": {},
   "outputs": [],
   "source": []
  },
  {
   "cell_type": "code",
   "execution_count": null,
   "metadata": {},
   "outputs": [],
   "source": []
  },
  {
   "cell_type": "code",
   "execution_count": null,
   "metadata": {},
   "outputs": [],
   "source": []
  },
  {
   "cell_type": "code",
   "execution_count": null,
   "metadata": {},
   "outputs": [],
   "source": []
  },
  {
   "cell_type": "code",
   "execution_count": null,
   "metadata": {},
   "outputs": [],
   "source": []
  },
  {
   "cell_type": "code",
   "execution_count": null,
   "metadata": {},
   "outputs": [],
   "source": []
  },
  {
   "cell_type": "code",
   "execution_count": null,
   "metadata": {},
   "outputs": [],
   "source": []
  },
  {
   "cell_type": "code",
   "execution_count": null,
   "metadata": {},
   "outputs": [],
   "source": []
  },
  {
   "cell_type": "code",
   "execution_count": null,
   "metadata": {},
   "outputs": [],
   "source": []
  },
  {
   "cell_type": "markdown",
   "metadata": {},
   "source": [
    "Dash includes \"hot-reloading\", this features is activated by default when you run your app with **app.run_server(debug=True)**. This means that Dash will automatically refresh your browser when you make a change in your code."
   ]
  },
  {
   "cell_type": "markdown",
   "metadata": {},
   "source": [
    "Don't like hot-reloading? You can turn this off with app.run_server(dev_tools_hot_reload=False)."
   ]
  },
  {
   "cell_type": "markdown",
   "metadata": {},
   "source": [
    "Camel case (sometimes stylized as camelCase or CamelCase; also known as camel caps or more formally as medial capitals) is the practice of writing phrases without spaces or punctuation, indicating the separation of words with a single capitalized letter, and the first word starting with either case. \n",
    "Camel case is often used as a naming convention in computer programming"
   ]
  },
  {
   "cell_type": "markdown",
   "metadata": {},
   "source": [
    "https://dash.plotly.com/dash-core-components"
   ]
  },
  {
   "cell_type": "markdown",
   "metadata": {},
   "source": [
    "https://dash.plotly.com/layout"
   ]
  },
  {
   "cell_type": "markdown",
   "metadata": {},
   "source": [
    "Veamos un ejemplo de cómo nos puede ayudar la programación declarativa. Supongamos un caso sencillo de un programa que suma los números del 1 al 100. Una posible solución procedural podría ser un programa similar al siguiente:\n",
    "\n",
    "```\n",
    "int suma = 0;\n",
    " for (int i = 1 to 100)\n",
    "    suma += i;\n",
    " return suma;\n",
    "```\n",
    "Una solución declarativa podría ser simplemente:\n",
    "\n",
    "```\n",
    "suma = Sum(1, 100)\n",
    "```\n"
   ]
  },
  {
   "cell_type": "markdown",
   "metadata": {},
   "source": [
    "**@app.callback** It's sort of like programming with Microsoft Excel: whenever an input cell changes, all of the cells that depend on that cell will get updated automatically. This is called \"Reactive Programming\"."
   ]
  },
  {
   "cell_type": "markdown",
   "metadata": {},
   "source": [
    "This is important: **your callbacks should never mutate variables outside of their scope**. If your callbacks modify global state, then one user's session might affect the next user's session and when the app is deployed on multiple processes or threads, those modifications will not be shared across sessions."
   ]
  },
  {
   "cell_type": "code",
   "execution_count": null,
   "metadata": {},
   "outputs": [],
   "source": []
  },
  {
   "cell_type": "code",
   "execution_count": null,
   "metadata": {},
   "outputs": [],
   "source": []
  },
  {
   "cell_type": "code",
   "execution_count": 1,
   "metadata": {},
   "outputs": [
    {
     "data": {
      "text/plain": [
       "[2, 3, 4]"
      ]
     },
     "execution_count": 1,
     "metadata": {},
     "output_type": "execute_result"
    }
   ],
   "source": [
    "a = [1,2,3,4]\n",
    "a[1:]"
   ]
  },
  {
   "cell_type": "code",
   "execution_count": null,
   "metadata": {},
   "outputs": [],
   "source": []
  },
  {
   "cell_type": "code",
   "execution_count": null,
   "metadata": {},
   "outputs": [],
   "source": []
  }
 ],
 "metadata": {
  "kernelspec": {
   "display_name": "Python 3",
   "language": "python",
   "name": "python3"
  },
  "language_info": {
   "codemirror_mode": {
    "name": "ipython",
    "version": 3
   },
   "file_extension": ".py",
   "mimetype": "text/x-python",
   "name": "python",
   "nbconvert_exporter": "python",
   "pygments_lexer": "ipython3",
   "version": "3.8.8"
  },
  "toc": {
   "base_numbering": 1,
   "nav_menu": {},
   "number_sections": false,
   "sideBar": true,
   "skip_h1_title": false,
   "title_cell": "Table of Contents",
   "title_sidebar": "Contents",
   "toc_cell": false,
   "toc_position": {},
   "toc_section_display": true,
   "toc_window_display": false
  }
 },
 "nbformat": 4,
 "nbformat_minor": 4
}
